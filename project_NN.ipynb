{
  "nbformat": 4,
  "nbformat_minor": 0,
  "metadata": {
    "colab": {
      "provenance": []
    },
    "kernelspec": {
      "name": "python3",
      "display_name": "Python 3"
    },
    "language_info": {
      "name": "python"
    }
  },
  "cells": [
    {
      "cell_type": "markdown",
      "source": [
        "# Project Objective\n",
        "###Part A:\n",
        "We built a quartic function approximator using Tensorflow and Keras API to approximate how ReLU, tanh, and sigmoid activation functions behave using shuffled and unsguffled dataset using two different network structures.\n",
        "\n",
        "####Network structures\n",
        "*   Structure 1:<br>\n",
        "&nbsp;&nbsp;&nbsp;&nbsp;&nbsp;&nbsp;FCL: 12 Nuurons (first hidden layer)<br>\n",
        "&nbsp;&nbsp;&nbsp;&nbsp;&nbsp;&nbsp;FCL: 8 Neurons (second hidden layer)<br>\n",
        "&nbsp;&nbsp;&nbsp;&nbsp;&nbsp;&nbsp;FCL: 4 Neurons (last hidden layer)\n",
        "*   Structure 2:<br>\n",
        "&nbsp;&nbsp;&nbsp;&nbsp;&nbsp;&nbsp;FCL: 24 Nuurons (single hidden layer)<br>\n",
        "\n",
        "\n",
        "####Various cases\n",
        "\n",
        "\n",
        "\n",
        "*   [Case 1](#case1):<br>\n",
        "&nbsp;&nbsp;&nbsp;&nbsp;&nbsp;&nbsp;Data: shuffled and unscaled<br>\n",
        "&nbsp;&nbsp;&nbsp;&nbsp;&nbsp;&nbsp;NN structure: Structutre 1<br>\n",
        "&nbsp;&nbsp;&nbsp;&nbsp;&nbsp;&nbsp;Activation function: ReLU<br>\n",
        "*   [Case 2](#case2):<br>\n",
        "&nbsp;&nbsp;&nbsp;&nbsp;&nbsp;&nbsp;Data: shuffled and unscaled<br>\n",
        "&nbsp;&nbsp;&nbsp;&nbsp;&nbsp;&nbsp;NN structure: Structutre 2<br>\n",
        "&nbsp;&nbsp;&nbsp;&nbsp;&nbsp;&nbsp;Activation function: ReLU<br>\n",
        "*   [Case 3](#case3):<br>\n",
        "&nbsp;&nbsp;&nbsp;&nbsp;&nbsp;&nbsp;Data: shuffled and unscaled<br>\n",
        "&nbsp;&nbsp;&nbsp;&nbsp;&nbsp;&nbsp;NN structure: Structutre 1<br>\n",
        "&nbsp;&nbsp;&nbsp;&nbsp;&nbsp;&nbsp;Activation function: tanh<br>\n",
        "*   [Case 4](#case4):<br>\n",
        "&nbsp;&nbsp;&nbsp;&nbsp;&nbsp;&nbsp;Data: shuffled and scaled<br>\n",
        "&nbsp;&nbsp;&nbsp;&nbsp;&nbsp;&nbsp;NN structure: Structutre 1<br>\n",
        "&nbsp;&nbsp;&nbsp;&nbsp;&nbsp;&nbsp;Activation function: ReLU<br>\n",
        "*   [Case 5](#case5):<br>\n",
        "&nbsp;&nbsp;&nbsp;&nbsp;&nbsp;&nbsp;Data: shuffled and scaled<br>\n",
        "&nbsp;&nbsp;&nbsp;&nbsp;&nbsp;&nbsp;NN structure: Structutre 1<br>\n",
        "&nbsp;&nbsp;&nbsp;&nbsp;&nbsp;&nbsp;Activation function: tanh<br>\n",
        "*   [Case 6](#case6):<br>\n",
        "&nbsp;&nbsp;&nbsp;&nbsp;&nbsp;&nbsp;Data: unshuffled and unscaled<br>\n",
        "&nbsp;&nbsp;&nbsp;&nbsp;&nbsp;&nbsp;NN structure: Structutre 1<br>\n",
        "&nbsp;&nbsp;&nbsp;&nbsp;&nbsp;&nbsp;Activation function: ReLU<br>\n",
        "*   [Case 7](#case7):<br>\n",
        "&nbsp;&nbsp;&nbsp;&nbsp;&nbsp;&nbsp;Data: unshuffled and unscaled<br>\n",
        "&nbsp;&nbsp;&nbsp;&nbsp;&nbsp;&nbsp;NN structure: Structutre 2<br>\n",
        "&nbsp;&nbsp;&nbsp;&nbsp;&nbsp;&nbsp;Activation function: ReLU<br>\n",
        "*   [Case 8](#case8):<br>\n",
        "&nbsp;&nbsp;&nbsp;&nbsp;&nbsp;&nbsp;Data: unshuffled and unscaled<br>\n",
        "&nbsp;&nbsp;&nbsp;&nbsp;&nbsp;&nbsp;NN structure: Structutre 1<br>\n",
        "&nbsp;&nbsp;&nbsp;&nbsp;&nbsp;&nbsp;Activation function: tanh<br>\n",
        "*   [Case 9](#case9):<br>\n",
        "&nbsp;&nbsp;&nbsp;&nbsp;&nbsp;&nbsp;Data: unshuffled and scaled<br>\n",
        "&nbsp;&nbsp;&nbsp;&nbsp;&nbsp;&nbsp;NN structure: Structutre 1<br>\n",
        "&nbsp;&nbsp;&nbsp;&nbsp;&nbsp;&nbsp;Activation function: ReLU<br>\n",
        "*   [Case 10](#case10):<br>\n",
        "&nbsp;&nbsp;&nbsp;&nbsp;&nbsp;&nbsp;Data: unhuffled and scaled<br>\n",
        "&nbsp;&nbsp;&nbsp;&nbsp;&nbsp;&nbsp;NN structure: Structutre 1<br>\n",
        "&nbsp;&nbsp;&nbsp;&nbsp;&nbsp;&nbsp;Activation function: tanh<br>\n",
        "\n",
        "\n",
        "\n",
        "\n",
        "\n",
        "\n",
        "\n",
        "\n",
        "\n",
        "\n",
        "\n",
        "\n",
        "###Part B:\n",
        "[A multilayer neural network has been built to approximate XOR encountered in digital logic.](#demo2)\n",
        "\n",
        "\n",
        "\n",
        "\n",
        "\n"
      ],
      "metadata": {
        "id": "uaanFxysMcx_"
      }
    },
    {
      "cell_type": "markdown",
      "source": [
        "\n",
        "\n",
        "\n",
        "\n",
        "---\n",
        "\n",
        "\n",
        "Let's import needed modules"
      ],
      "metadata": {
        "id": "cBbnyR7ZadJl"
      }
    },
    {
      "cell_type": "code",
      "source": [
        "import numpy as np\n",
        "from tensorflow.keras.models import Sequential, load_model\n",
        "from tensorflow.keras.layers import Dense\n",
        "from sklearn.metrics import accuracy_score\n",
        "from sklearn.metrics import r2_score\n",
        "import pandas as pd\n",
        "import math\n",
        "import random\n",
        "import seaborn as sn\n",
        "import matplotlib\n",
        "import matplotlib.pyplot as plt\n",
        "from matplotlib.ticker import FormatStrFormatter\n",
        "%matplotlib inline"
      ],
      "metadata": {
        "id": "swQrdwxXU2Wj"
      },
      "execution_count": null,
      "outputs": []
    },
    {
      "cell_type": "markdown",
      "source": [
        "#Part A"
      ],
      "metadata": {
        "id": "ddMsrvmIasuA"
      }
    },
    {
      "cell_type": "markdown",
      "source": [
        "<a name=\"demo1\"></a>\n",
        "\n",
        "We implement different configurations of neural network to approximate the function y = 0.2*x^(4) + 2*x^(3) + 0.1*x^(2) + 10\n",
        "where x is real between −1 and 1 inclusive (−1 ≤ x ≤ 1)."
      ],
      "metadata": {
        "id": "QspP21lWVbxG"
      }
    },
    {
      "cell_type": "markdown",
      "source": [
        "\n",
        "\n",
        "# First let's define a function to see what the expected quartic function is supposed to look like"
      ],
      "metadata": {
        "id": "8oklsV-YVrni"
      }
    },
    {
      "cell_type": "code",
      "source": [
        "def generate_func_vals(degree_of_polynomial, coeff_list, num_of_vals):\n",
        "  \"\"\"\n",
        "  args: degree_of_polynomial: Degree of the polynomial : int\n",
        "  coeff_list : Python list of coeffs. first element is the 0th coeff, second element is the 1st coeff, and so on.\n",
        "  num_of_vals: number of data points to be generated\n",
        "  \"\"\"\n",
        "  x = np.linspace(start = -1, stop = 1, num = num_of_vals)\n",
        "  i = 0\n",
        "  temp = np.zeros((num_of_vals,))\n",
        "  while (i <= degree_of_polynomial):\n",
        "    temp +=  coeff_list[i]*(x**i)\n",
        "    i+=1\n",
        "  return x, temp"
      ],
      "metadata": {
        "id": "8XcDENKzVUKT"
      },
      "execution_count": null,
      "outputs": []
    },
    {
      "cell_type": "code",
      "source": [
        "x, y = generate_func_vals(4, [10, 0, 0.1, 2, 0.2], 30000)"
      ],
      "metadata": {
        "id": "YCoi2wDNdbLQ"
      },
      "execution_count": null,
      "outputs": []
    },
    {
      "cell_type": "markdown",
      "source": [
        "Now plot the function"
      ],
      "metadata": {
        "id": "7H7N4qVVjOOm"
      }
    },
    {
      "cell_type": "code",
      "source": [
        "fig, ax = plt.subplots()\n",
        "plt.plot(x, y)\n",
        "plt.xlabel(\"x\")\n",
        "plt.ylabel(\"y\")\n",
        "plt.suptitle('The degree 4 ploynomial functionn')\n",
        "ax.yaxis.set_major_formatter(FormatStrFormatter('%.3f'))\n",
        "ax.xaxis.set_major_formatter(FormatStrFormatter('%.3f'))\n",
        "plt.show()"
      ],
      "metadata": {
        "colab": {
          "base_uri": "https://localhost:8080/",
          "height": 308
        },
        "id": "MAJP02n3DqPZ",
        "outputId": "4ac8bd7a-514c-49a8-dab2-f349523cae1f"
      },
      "execution_count": null,
      "outputs": [
        {
          "output_type": "display_data",
          "data": {
            "text/plain": [
              "<Figure size 432x288 with 1 Axes>"
            ],
            "image/png": "[encoded data removed]"
          },
          "metadata": {
            "needs_background": "light"
          }
        }
      ]
    },
    {
      "cell_type": "markdown",
      "source": [
        "#Now we define function that accepts an argument to indicate shuffling. Based on the argument, function has to return the shuffled data or data without shuffling."
      ],
      "metadata": {
        "id": "r_YeOZ05_UpH"
      }
    },
    {
      "cell_type": "code",
      "source": [
        "def generate_and_shuffle_data(degree_of_polynomial, coeff_list, num_of_vals, shuffle):\n",
        "  \"\"\"\n",
        "  This function generates a numpy array of polynomial data with shape of (n, 2) where\n",
        "  n = num_of_vals with optional shuffling.\n",
        "  Args:\n",
        "  degree_of_polynomial: Degree of the polynomial\n",
        "  coeff_list: list of coefficients\n",
        "  num_of_vals: number of sample to generate\n",
        "  shuffle: If true, shuffle the generated data, else no shuffling\n",
        "  \"\"\"\n",
        "  x, y = generate_func_vals(degree_of_polynomial=degree_of_polynomial, coeff_list=coeff_list, num_of_vals=num_of_vals)\n",
        "  x = x.reshape((x.shape[0], 1))\n",
        "  y = y.reshape((y.shape[0], 1))\n",
        "  temp = np.hstack((x, y))\n",
        "  if (shuffle):\n",
        "    np.random.shuffle(temp)\n",
        "    return temp\n",
        "  return temp\n"
      ],
      "metadata": {
        "id": "Hd2HtYLlBBAr"
      },
      "execution_count": null,
      "outputs": []
    },
    {
      "cell_type": "markdown",
      "source": [
        "#Now we define a function to split the data into train, validation, and test sets. The function should be able to accept the data and ratios of train, validation, and test data."
      ],
      "metadata": {
        "id": "XOS6lZt8Ev1v"
      }
    },
    {
      "cell_type": "code",
      "source": [
        "def train_test_validation_split(data, train_ratio, test_ratio, validation_ratio):\n",
        "  \"\"\"Args:\n",
        "      data: a numpy array of shape (n, k) where n is number of total records, k is the number of features + number of targets\n",
        "      train_ratio : flaot\n",
        "      test_ratio : float\n",
        "      validation_ratio : float\"\"\"\n",
        "  total_samples = data.shape[0]\n",
        "  tr_size = int(total_samples*train_ratio)\n",
        "  tst_size = int(test_ratio * total_samples)\n",
        "  validation_size = int(validation_ratio * total_samples)\n",
        "\n",
        "  return data[:tr_size], data[tr_size:tr_size+tst_size], data[tr_size+tst_size:tr_size+tst_size+validation_size]"
      ],
      "metadata": {
        "id": "CjShcYOAEBqV"
      },
      "execution_count": null,
      "outputs": []
    },
    {
      "cell_type": "markdown",
      "source": [
        "#Now let's define a function to scale the data between 0 and 1"
      ],
      "metadata": {
        "id": "ORsYvIXcQt-2"
      }
    },
    {
      "cell_type": "code",
      "source": [
        "def min_max_scale(data):\n",
        "  \"\"\"Args:\n",
        "    data: a numpy array of (n, k) shape which contains both feature and targets\n",
        "\n",
        "    Returns: scaled data with size (n, k)\"\"\"\n",
        "  min_x = data[:, 0].min()\n",
        "  max_x = data[:, 0].max()\n",
        "  min_y = data[:, 1].min()\n",
        "  max_y = data[:, 1].max()\n",
        "\n",
        "  temp_x = np.zeros((data.shape[0], ))\n",
        "  temp_y = np.zeros((data.shape[0], ))\n",
        "  denom = max_x - min_x\n",
        "  temp_x = (data[:, 0] - min_x)/denom\n",
        "\n",
        "  denom = max_y - min_y\n",
        "  temp_y = (data[ :, 1] - min_y)/denom\n",
        "\n",
        "  temp_x = temp_x.reshape((temp_x.shape[0], 1))\n",
        "  temp_y = temp_y.reshape((temp_y.shape[0], 1))\n",
        "  return np.hstack((temp_x, temp_y))\n"
      ],
      "metadata": {
        "id": "zImZ1ZtZNMZX"
      },
      "execution_count": null,
      "outputs": []
    },
    {
      "cell_type": "markdown",
      "source": [
        "#Let's define a function that accepts actual target and predicted values to calculate mean absolute error (MAE), mean square error(MSE), root mean square error (RMSE), and R2 score"
      ],
      "metadata": {
        "id": "17dDU0T2ZPjw"
      }
    },
    {
      "cell_type": "code",
      "source": [
        "def calculate_errors(actual_y, predicted_y):\n",
        "  \"\"\"Args:\n",
        "    actual_y : a numpy array of shape (n, )\n",
        "    predicted_y: a numpy array of shape (n, )\n",
        "    Returns:\n",
        "    mean absolutue error, mean sqaured error, root mean square error, and R2 score\"\"\"\n",
        "  # Mean abs error\n",
        "  MAE = (abs(actual_y - predicted_y).sum())/(actual_y.shape[0])\n",
        "  # Mean sqaured error\n",
        "  MSE = (((actual_y - predicted_y)**2).sum())/(actual_y.shape[0])\n",
        "\n",
        "  # Root mean squared error\n",
        "  RMSE = np.sqrt((((actual_y - predicted_y)**2).sum())/(actual_y.shape[0]))\n",
        "\n",
        "  # R2 score\n",
        "  R_2 = r2_score(actual_y, predicted_y)\n",
        "\n",
        "  return MAE, MSE, RMSE, R_2"
      ],
      "metadata": {
        "id": "rYCIeI9kEDl8"
      },
      "execution_count": null,
      "outputs": []
    },
    {
      "cell_type": "markdown",
      "source": [
        "# Now we have various types of data ready"
      ],
      "metadata": {
        "id": "8YOxHBmAK58-"
      }
    },
    {
      "cell_type": "code",
      "source": [
        "# For unshuffled cases\n",
        "data_unshuffled_unscaled = generate_and_shuffle_data(4, [10, 0, 0.1, 2, 0.2], 30000, False)\n",
        "train_set_unshuffled_unscaled, test_set_unshuffled_unscaled, validation_set_unshuffled_unscaled = train_test_validation_split(data_unshuffled_unscaled, 0.3, .2, .5)\n",
        "# Since we are supposed to perform scaling AFTER we split the data\n",
        "train_set_unshuffled_scaled = min_max_scale(train_set_unshuffled_unscaled)\n",
        "test_set_unshuffled_scaled =  min_max_scale(test_set_unshuffled_unscaled)\n",
        "validation_set_unshuffled_scaled = min_max_scale(validation_set_unshuffled_unscaled)\n",
        "\n",
        "# For shuffled cases\n",
        "data_shuffled_unscaled = generate_and_shuffle_data(4, [10, 0, 0.1, 2, 0.2], 30000, True)\n",
        "train_set_shuffled_unscaled, test_set_shuffled_unscaled, validation_set_shuffled_unscaled = train_test_validation_split(data_shuffled_unscaled, 0.3, .2, .5)\n",
        "# Since we are supposed to perform scaling AFTER we split the data\n",
        "train_set_shuffled_scaled = min_max_scale(train_set_shuffled_unscaled)\n",
        "test_set_shuffled_scaled =  min_max_scale(test_set_shuffled_unscaled)\n",
        "validation_set_shuffled_scaled = min_max_scale(validation_set_shuffled_unscaled)"
      ],
      "metadata": {
        "id": "Msu4oAS6i7pK"
      },
      "execution_count": null,
      "outputs": []
    },
    {
      "cell_type": "markdown",
      "source": [
        "#Building the models and evaluating performance"
      ],
      "metadata": {
        "id": "3gJI7FTNG91Y"
      }
    },
    {
      "cell_type": "markdown",
      "source": [
        "<a name=\"case1\"></a>\n",
        "##case 1: Using shuffled and unscaled data with structure 1, Relu activation function"
      ],
      "metadata": {
        "id": "MaQG1KLeXBf9"
      }
    },
    {
      "cell_type": "code",
      "source": [
        "model_1 = Sequential()\n",
        "# Hidden layers\n",
        "model_1.add(Dense(units=12, activation='relu', input_dim=1))\n",
        "model_1.add(Dense(units=8, activation='relu'))\n",
        "model_1.add(Dense(units=4, activation='relu'))\n",
        "# The output layer\n",
        "model_1.add(Dense(units=1))"
      ],
      "metadata": {
        "id": "L6nM_WYoW9rG"
      },
      "execution_count": null,
      "outputs": []
    },
    {
      "cell_type": "code",
      "source": [
        "model_1.compile(loss='mse', optimizer='adam', metrics='mse')"
      ],
      "metadata": {
        "id": "ZfG8MmoBa989"
      },
      "execution_count": null,
      "outputs": []
    },
    {
      "cell_type": "code",
      "source": [
        "history_1 = model_1.fit(train_set_shuffled_unscaled[:,0], train_set_shuffled_unscaled[:,1], epochs=20, batch_size=12,\n",
        "                       validation_data=(validation_set_shuffled_unscaled[:,0], validation_set_shuffled_unscaled[:, 1]),)"
      ],
      "metadata": {
        "colab": {
          "base_uri": "https://localhost:8080/"
        },
        "id": "XN1mEiJzcMzi",
        "outputId": "4f18e0de-c5bf-479d-99c2-7093aca39d8e"
      },
      "execution_count": null,
      "outputs": [
        {
          "output_type": "stream",
          "name": "stdout",
          "text": [
            "Epoch 1/20\n",
            "750/750 [==============================] - 4s 4ms/step - loss: 18.6855 - mse: 18.6855 - val_loss: 0.1971 - val_mse: 0.1971\n",
            "Epoch 2/20\n",
            "750/750 [==============================] - 4s 5ms/step - loss: 0.0933 - mse: 0.0933 - val_loss: 0.0390 - val_mse: 0.0390\n",
            "Epoch 3/20\n",
            "750/750 [==============================] - 3s 5ms/step - loss: 0.0277 - mse: 0.0277 - val_loss: 0.0173 - val_mse: 0.0173\n",
            "Epoch 4/20\n",
            "750/750 [==============================] - 4s 5ms/step - loss: 0.0114 - mse: 0.0114 - val_loss: 0.0073 - val_mse: 0.0073\n",
            "Epoch 5/20\n",
            "750/750 [==============================] - 4s 5ms/step - loss: 0.0061 - mse: 0.0061 - val_loss: 0.0051 - val_mse: 0.0051\n",
            "Epoch 6/20\n",
            "750/750 [==============================] - 4s 6ms/step - loss: 0.0050 - mse: 0.0050 - val_loss: 0.0044 - val_mse: 0.0044\n",
            "Epoch 7/20\n",
            "750/750 [==============================] - 4s 5ms/step - loss: 0.0042 - mse: 0.0042 - val_loss: 0.0036 - val_mse: 0.0036\n",
            "Epoch 8/20\n",
            "750/750 [==============================] - 3s 4ms/step - loss: 0.0033 - mse: 0.0033 - val_loss: 0.0026 - val_mse: 0.0026\n",
            "Epoch 9/20\n",
            "750/750 [==============================] - 4s 5ms/step - loss: 0.0027 - mse: 0.0027 - val_loss: 0.0020 - val_mse: 0.0020\n",
            "Epoch 10/20\n",
            "750/750 [==============================] - 3s 4ms/step - loss: 0.0023 - mse: 0.0023 - val_loss: 0.0019 - val_mse: 0.0019\n",
            "Epoch 11/20\n",
            "750/750 [==============================] - 4s 5ms/step - loss: 0.0019 - mse: 0.0019 - val_loss: 0.0015 - val_mse: 0.0015\n",
            "Epoch 12/20\n",
            "750/750 [==============================] - 3s 4ms/step - loss: 0.0016 - mse: 0.0016 - val_loss: 0.0013 - val_mse: 0.0013\n",
            "Epoch 13/20\n",
            "750/750 [==============================] - 4s 5ms/step - loss: 0.0014 - mse: 0.0014 - val_loss: 0.0019 - val_mse: 0.0019\n",
            "Epoch 14/20\n",
            "750/750 [==============================] - 3s 4ms/step - loss: 0.0014 - mse: 0.0014 - val_loss: 9.5895e-04 - val_mse: 9.5895e-04\n",
            "Epoch 15/20\n",
            "750/750 [==============================] - 4s 5ms/step - loss: 0.0011 - mse: 0.0011 - val_loss: 0.0010 - val_mse: 0.0010\n",
            "Epoch 16/20\n",
            "750/750 [==============================] - 3s 4ms/step - loss: 0.0010 - mse: 0.0010 - val_loss: 0.0011 - val_mse: 0.0011\n",
            "Epoch 17/20\n",
            "750/750 [==============================] - 4s 5ms/step - loss: 0.0010 - mse: 0.0010 - val_loss: 7.4071e-04 - val_mse: 7.4071e-04\n",
            "Epoch 18/20\n",
            "750/750 [==============================] - 4s 5ms/step - loss: 9.2688e-04 - mse: 9.2688e-04 - val_loss: 0.0011 - val_mse: 0.0011\n",
            "Epoch 19/20\n",
            "750/750 [==============================] - 4s 6ms/step - loss: 8.7752e-04 - mse: 8.7752e-04 - val_loss: 0.0011 - val_mse: 0.0011\n",
            "Epoch 20/20\n",
            "750/750 [==============================] - 4s 5ms/step - loss: 8.1836e-04 - mse: 8.1836e-04 - val_loss: 6.9453e-04 - val_mse: 6.9453e-04\n"
          ]
        }
      ]
    },
    {
      "cell_type": "code",
      "source": [
        "y_predicted_model_1 = model_1.predict(test_set_shuffled_unscaled[:, 0])\n",
        "y_predicted_model_1 = y_predicted_model_1.reshape((y_predicted_model_1.shape[0],))"
      ],
      "metadata": {
        "colab": {
          "base_uri": "https://localhost:8080/"
        },
        "id": "AmAaWLOTeVG2",
        "outputId": "3e5bd34d-71e1-461f-c48c-cb8a14561bf3"
      },
      "execution_count": null,
      "outputs": [
        {
          "output_type": "stream",
          "name": "stdout",
          "text": [
            "188/188 [==============================] - 0s 1ms/step\n"
          ]
        }
      ]
    },
    {
      "cell_type": "code",
      "source": [
        "y_predicted_model_1"
      ],
      "metadata": {
        "colab": {
          "base_uri": "https://localhost:8080/"
        },
        "id": "xfcHQwSBfbWh",
        "outputId": "aeb7b5a0-7b7a-4a70-b8d5-3dc70125e1a9"
      },
      "execution_count": null,
      "outputs": [
        {
          "output_type": "execute_result",
          "data": {
            "text/plain": [
              "array([ 9.181744, 10.05398 , 10.643991, ..., 10.864319,  9.971934,\n",
              "       10.058379], dtype=float32)"
            ]
          },
          "metadata": {},
          "execution_count": 27
        }
      ]
    },
    {
      "cell_type": "code",
      "source": [
        "# Now plot the result"
      ],
      "metadata": {
        "id": "MHdbBJlle8kL"
      },
      "execution_count": null,
      "outputs": []
    },
    {
      "cell_type": "code",
      "source": [
        "fig, ax = plt.subplots(2,1, figsize=(15, 15))\n",
        "\n",
        "ax[0].scatter(test_set_shuffled_unscaled[:, 0], test_set_shuffled_unscaled[:, 1], color='blue', linewidth=.5)\n",
        "ax[0].yaxis.set_major_formatter(FormatStrFormatter('%.5f'))\n",
        "ax[0].set_title(\"test x vs. actual y\")\n",
        "\n",
        "ax[1].scatter(test_set_shuffled_unscaled[:, 0], y_predicted_model_1, color='red', linewidth=.5)\n",
        "ax[1].yaxis.set_major_formatter(FormatStrFormatter('%.2f'))\n",
        "ax[1].set_title(\"test x vs. predicted y\")\n",
        "\n",
        "for x in ax.flat:\n",
        "    x.set(xlabel='X', ylabel='Y')\n",
        "plt.suptitle(\"Performance of Model 1\")"
      ],
      "metadata": {
        "colab": {
          "base_uri": "https://localhost:8080/",
          "height": 1000
        },
        "id": "76_r-gIUfsRa",
        "outputId": "8edcc8ea-aec7-4071-971e-1f7e6e2dfc6b"
      },
      "execution_count": null,
      "outputs": [
        {
          "output_type": "execute_result",
          "data": {
            "text/plain": [
              "Text(0.5, 0.98, 'Performance of Model 1')"
            ]
          },
          "metadata": {},
          "execution_count": 29
        },
        {
          "output_type": "display_data",
          "data": {
            "text/plain": [
              "<Figure size 1080x1080 with 2 Axes>"
            ],
            "image/png": "[encoded data removed]"
          },
          "metadata": {
            "needs_background": "light"
          }
        }
      ]
    },
    {
      "cell_type": "code",
      "source": [
        "# Now calculate MAE, MSE, RMSE, and R2 score for model 1"
      ],
      "metadata": {
        "id": "f2UO54lLhE-t"
      },
      "execution_count": null,
      "outputs": []
    },
    {
      "cell_type": "code",
      "source": [
        "MAE_model_1, MSE_model_1, RMSE_model_1, R_2_model_1 = calculate_errors(test_set_shuffled_unscaled[:, 1], y_predicted_model_1)\n",
        "print(\"MAE: \", MAE_model_1)\n",
        "print(\"MSE: \", MSE_model_1)\n",
        "print(\"RMSE: \", RMSE_model_1)\n",
        "print(\"R_2: \", R_2_model_1)"
      ],
      "metadata": {
        "colab": {
          "base_uri": "https://localhost:8080/"
        },
        "id": "e2dLEjLscq7q",
        "outputId": "65602d10-e003-47d2-8b16-bf697dccde0e"
      },
      "execution_count": null,
      "outputs": [
        {
          "output_type": "stream",
          "name": "stdout",
          "text": [
            "MAE:  0.021284617016662677\n",
            "MSE:  0.0007204312988947786\n",
            "RMSE:  0.026840851307191778\n",
            "R_2:  0.9987649188162968\n"
          ]
        }
      ]
    },
    {
      "cell_type": "markdown",
      "source": [
        "<a name=\"case2\"></a>\n",
        "##case 2: Using shuffled and unscaled data with structure 2, Relu activation function."
      ],
      "metadata": {
        "id": "Htg9L4qVctsT"
      }
    },
    {
      "cell_type": "code",
      "source": [
        "model_2 = Sequential()\n",
        "# Hidden layers\n",
        "model_2.add(Dense(units=24, activation='relu', input_dim=1))\n",
        "# The output layer\n",
        "model_2.add(Dense(units=1))"
      ],
      "metadata": {
        "id": "rk_KreTPmc1U"
      },
      "execution_count": null,
      "outputs": []
    },
    {
      "cell_type": "code",
      "source": [
        "model_2.compile(loss='mse', optimizer='adam', metrics='mse')"
      ],
      "metadata": {
        "id": "DzYJve1gm58y"
      },
      "execution_count": null,
      "outputs": []
    },
    {
      "cell_type": "code",
      "source": [
        "history_2 = model_2.fit(train_set_shuffled_unscaled[:,0], train_set_shuffled_unscaled[:,1], epochs=20, batch_size=12,\n",
        "                       validation_data=(validation_set_shuffled_unscaled[:,0], validation_set_shuffled_unscaled[:, 1]),)"
      ],
      "metadata": {
        "colab": {
          "base_uri": "https://localhost:8080/"
        },
        "id": "M65SCbsCnBt1",
        "outputId": "a410b30f-433f-4830-b35d-4fc1dfe9b67c"
      },
      "execution_count": null,
      "outputs": [
        {
          "output_type": "stream",
          "name": "stdout",
          "text": [
            "Epoch 1/20\n",
            "750/750 [==============================] - 4s 5ms/step - loss: 41.4871 - mse: 41.4871 - val_loss: 0.6350 - val_mse: 0.6350\n",
            "Epoch 2/20\n",
            "750/750 [==============================] - 3s 3ms/step - loss: 0.1559 - mse: 0.1559 - val_loss: 0.1016 - val_mse: 0.1016\n",
            "Epoch 3/20\n",
            "750/750 [==============================] - 4s 5ms/step - loss: 0.1005 - mse: 0.1005 - val_loss: 0.0980 - val_mse: 0.0980\n",
            "Epoch 4/20\n",
            "750/750 [==============================] - 4s 5ms/step - loss: 0.0977 - mse: 0.0977 - val_loss: 0.0962 - val_mse: 0.0962\n",
            "Epoch 5/20\n",
            "750/750 [==============================] - 3s 3ms/step - loss: 0.0964 - mse: 0.0964 - val_loss: 0.0944 - val_mse: 0.0944\n",
            "Epoch 6/20\n",
            "750/750 [==============================] - 3s 4ms/step - loss: 0.0956 - mse: 0.0956 - val_loss: 0.0934 - val_mse: 0.0934\n",
            "Epoch 7/20\n",
            "750/750 [==============================] - 4s 5ms/step - loss: 0.0945 - mse: 0.0945 - val_loss: 0.0929 - val_mse: 0.0929\n",
            "Epoch 8/20\n",
            "750/750 [==============================] - 4s 5ms/step - loss: 0.0931 - mse: 0.0931 - val_loss: 0.0899 - val_mse: 0.0899\n",
            "Epoch 9/20\n",
            "750/750 [==============================] - 4s 5ms/step - loss: 0.0912 - mse: 0.0912 - val_loss: 0.0880 - val_mse: 0.0880\n",
            "Epoch 10/20\n",
            "750/750 [==============================] - 3s 4ms/step - loss: 0.0896 - mse: 0.0896 - val_loss: 0.0869 - val_mse: 0.0869\n",
            "Epoch 11/20\n",
            "750/750 [==============================] - 3s 4ms/step - loss: 0.0882 - mse: 0.0882 - val_loss: 0.0853 - val_mse: 0.0853\n",
            "Epoch 12/20\n",
            "750/750 [==============================] - 4s 5ms/step - loss: 0.0877 - mse: 0.0877 - val_loss: 0.0858 - val_mse: 0.0858\n",
            "Epoch 13/20\n",
            "750/750 [==============================] - 3s 3ms/step - loss: 0.0869 - mse: 0.0869 - val_loss: 0.0845 - val_mse: 0.0845\n",
            "Epoch 14/20\n",
            "750/750 [==============================] - 4s 5ms/step - loss: 0.0869 - mse: 0.0869 - val_loss: 0.0841 - val_mse: 0.0841\n",
            "Epoch 15/20\n",
            "750/750 [==============================] - 3s 4ms/step - loss: 0.0871 - mse: 0.0871 - val_loss: 0.0853 - val_mse: 0.0853\n",
            "Epoch 16/20\n",
            "750/750 [==============================] - 4s 5ms/step - loss: 0.0871 - mse: 0.0871 - val_loss: 0.0860 - val_mse: 0.0860\n",
            "Epoch 17/20\n",
            "750/750 [==============================] - 4s 5ms/step - loss: 0.0868 - mse: 0.0868 - val_loss: 0.0856 - val_mse: 0.0856\n",
            "Epoch 18/20\n",
            "750/750 [==============================] - 3s 5ms/step - loss: 0.0867 - mse: 0.0867 - val_loss: 0.0842 - val_mse: 0.0842\n",
            "Epoch 19/20\n",
            "750/750 [==============================] - 4s 5ms/step - loss: 0.0868 - mse: 0.0868 - val_loss: 0.0846 - val_mse: 0.0846\n",
            "Epoch 20/20\n",
            "750/750 [==============================] - 4s 5ms/step - loss: 0.0869 - mse: 0.0869 - val_loss: 0.0844 - val_mse: 0.0844\n"
          ]
        }
      ]
    },
    {
      "cell_type": "code",
      "source": [
        "y_predicted_model_2 = model_2.predict(test_set_shuffled_unscaled[:, 0])\n",
        "y_predicted_model_2 = y_predicted_model_2.reshape((y_predicted_model_2.shape[0],))"
      ],
      "metadata": {
        "colab": {
          "base_uri": "https://localhost:8080/"
        },
        "id": "ha3AarWbn1a1",
        "outputId": "2e4d4ac6-f46d-4be8-9e20-9130d99f30d3"
      },
      "execution_count": null,
      "outputs": [
        {
          "output_type": "stream",
          "name": "stdout",
          "text": [
            "188/188 [==============================] - 0s 1ms/step\n"
          ]
        }
      ]
    },
    {
      "cell_type": "code",
      "source": [
        "# Now plot the model 2 result"
      ],
      "metadata": {
        "id": "nW0yp-eSoeBa"
      },
      "execution_count": null,
      "outputs": []
    },
    {
      "cell_type": "code",
      "source": [
        "fig, ax = plt.subplots(2,1, figsize=(15, 15))\n",
        "\n",
        "ax[0].scatter(test_set_shuffled_unscaled[:, 0], test_set_shuffled_unscaled[:, 1], color='blue', linewidth=.5)\n",
        "ax[0].yaxis.set_major_formatter(FormatStrFormatter('%.5f'))\n",
        "ax[0].set_title(\"test x vs. actual y\")\n",
        "\n",
        "ax[1].scatter(test_set_shuffled_unscaled[:, 0], y_predicted_model_2, color='red', linewidth=.5)\n",
        "ax[1].yaxis.set_major_formatter(FormatStrFormatter('%.2f'))\n",
        "ax[1].set_title(\"test x vs. predicted y\")\n",
        "\n",
        "for x in ax.flat:\n",
        "    x.set(xlabel='X', ylabel='Y')\n",
        "plt.suptitle(\"Performance of Model 2\")"
      ],
      "metadata": {
        "colab": {
          "base_uri": "https://localhost:8080/",
          "height": 1000
        },
        "id": "o1jxuyY5ob39",
        "outputId": "2d0d0288-bfd5-4d1c-d5c9-7ea7d9377864"
      },
      "execution_count": null,
      "outputs": [
        {
          "output_type": "execute_result",
          "data": {
            "text/plain": [
              "Text(0.5, 0.98, 'Performance of Model 2')"
            ]
          },
          "metadata": {},
          "execution_count": 37
        },
        {
          "output_type": "display_data",
          "data": {
            "text/plain": [
              "<Figure size 1080x1080 with 2 Axes>"
            ],
            "image/png": "[encoded data removed]"
          },
          "metadata": {
            "needs_background": "light"
          }
        }
      ]
    },
    {
      "cell_type": "code",
      "source": [
        "# Now calculate the error metrics"
      ],
      "metadata": {
        "id": "6kopZPHgootQ"
      },
      "execution_count": null,
      "outputs": []
    },
    {
      "cell_type": "code",
      "source": [
        "MAE_model_2, MSE_model_2, RMSE_model_2, R_2_model_2 = calculate_errors(test_set_shuffled_unscaled[:, 1], y_predicted_model_2)\n",
        "print(\"MAE: \", MAE_model_2)\n",
        "print(\"MSE: \", MSE_model_2)\n",
        "print(\"RMSE: \", RMSE_model_2)\n",
        "print(\"R_2: \", R_2_model_2)"
      ],
      "metadata": {
        "colab": {
          "base_uri": "https://localhost:8080/"
        },
        "id": "KIQD29MCov0b",
        "outputId": "4a6059a6-093b-4f24-ab82-d7a0433b8643"
      },
      "execution_count": null,
      "outputs": [
        {
          "output_type": "stream",
          "name": "stdout",
          "text": [
            "MAE:  0.22653183889772385\n",
            "MSE:  0.08918424403564298\n",
            "RMSE:  0.29863731186113196\n",
            "R_2:  0.8471057797458353\n"
          ]
        }
      ]
    },
    {
      "cell_type": "markdown",
      "source": [
        "We note that this single hidden layered model has performed much worse compared to model 1 (multi layered). This is expected becasue model 2 is single layered, thus it is not able to precisely model the degree 4 non-linearity."
      ],
      "metadata": {
        "id": "ZWiBXNt0o4vA"
      }
    },
    {
      "cell_type": "markdown",
      "source": [
        "\n",
        "<a name=\"case3\"></a>\n",
        "##Case 3 Use shuffled and unscaled data, with tanh activation, and structure 1"
      ],
      "metadata": {
        "id": "8uEO07wfqUCZ"
      }
    },
    {
      "cell_type": "code",
      "source": [
        "model_3 = Sequential()\n",
        "# Hidden layers\n",
        "model_3.add(Dense(units=12, activation='tanh', input_dim=1))\n",
        "model_3.add(Dense(units=8, activation='tanh'))\n",
        "model_3.add(Dense(units=4, activation='tanh'))\n",
        "# The output layer\n",
        "model_3.add(Dense(units=1))"
      ],
      "metadata": {
        "id": "nrtxTN8Pqg80"
      },
      "execution_count": null,
      "outputs": []
    },
    {
      "cell_type": "code",
      "source": [
        "model_3.compile(loss='mse', optimizer='adam', metrics='mse')"
      ],
      "metadata": {
        "id": "bx6E-EeWq0Y9"
      },
      "execution_count": null,
      "outputs": []
    },
    {
      "cell_type": "code",
      "source": [
        "history_3 = model_3.fit(train_set_shuffled_unscaled[:,0], train_set_shuffled_unscaled[:,1], epochs=20, batch_size=12,\n",
        "                       validation_data=(validation_set_shuffled_unscaled[:,0], validation_set_shuffled_unscaled[:, 1]),)"
      ],
      "metadata": {
        "colab": {
          "base_uri": "https://localhost:8080/"
        },
        "id": "8SWNHtKsq7k9",
        "outputId": "c6f7ff60-1d48-4975-a68a-05023169860a"
      },
      "execution_count": null,
      "outputs": [
        {
          "output_type": "stream",
          "name": "stdout",
          "text": [
            "Epoch 1/20\n",
            "750/750 [==============================] - 6s 6ms/step - loss: 42.7695 - mse: 42.7695 - val_loss: 17.8936 - val_mse: 17.8936\n",
            "Epoch 2/20\n",
            "750/750 [==============================] - 4s 5ms/step - loss: 9.3877 - mse: 9.3877 - val_loss: 3.7618 - val_mse: 3.7618\n",
            "Epoch 3/20\n",
            "750/750 [==============================] - 4s 5ms/step - loss: 1.8778 - mse: 1.8778 - val_loss: 0.8409 - val_mse: 0.8409\n",
            "Epoch 4/20\n",
            "750/750 [==============================] - 4s 5ms/step - loss: 0.6601 - mse: 0.6601 - val_loss: 0.5788 - val_mse: 0.5788\n",
            "Epoch 5/20\n",
            "750/750 [==============================] - 4s 5ms/step - loss: 0.5540 - mse: 0.5540 - val_loss: 0.3104 - val_mse: 0.3104\n",
            "Epoch 6/20\n",
            "750/750 [==============================] - 4s 6ms/step - loss: 0.2194 - mse: 0.2194 - val_loss: 0.1404 - val_mse: 0.1404\n",
            "Epoch 7/20\n",
            "750/750 [==============================] - 4s 5ms/step - loss: 0.0951 - mse: 0.0951 - val_loss: 0.0541 - val_mse: 0.0541\n",
            "Epoch 8/20\n",
            "750/750 [==============================] - 3s 4ms/step - loss: 0.0364 - mse: 0.0364 - val_loss: 0.0209 - val_mse: 0.0209\n",
            "Epoch 9/20\n",
            "750/750 [==============================] - 4s 5ms/step - loss: 0.0150 - mse: 0.0150 - val_loss: 0.0095 - val_mse: 0.0095\n",
            "Epoch 10/20\n",
            "750/750 [==============================] - 4s 5ms/step - loss: 0.0075 - mse: 0.0075 - val_loss: 0.0054 - val_mse: 0.0054\n",
            "Epoch 11/20\n",
            "750/750 [==============================] - 5s 6ms/step - loss: 0.0045 - mse: 0.0045 - val_loss: 0.0034 - val_mse: 0.0034\n",
            "Epoch 12/20\n",
            "750/750 [==============================] - 3s 4ms/step - loss: 0.0031 - mse: 0.0031 - val_loss: 0.0023 - val_mse: 0.0023\n",
            "Epoch 13/20\n",
            "750/750 [==============================] - 3s 4ms/step - loss: 0.0022 - mse: 0.0022 - val_loss: 0.0016 - val_mse: 0.0016\n",
            "Epoch 14/20\n",
            "750/750 [==============================] - 4s 6ms/step - loss: 0.0016 - mse: 0.0016 - val_loss: 0.0011 - val_mse: 0.0011\n",
            "Epoch 15/20\n",
            "750/750 [==============================] - 4s 5ms/step - loss: 0.0011 - mse: 0.0011 - val_loss: 9.6854e-04 - val_mse: 9.6854e-04\n",
            "Epoch 16/20\n",
            "750/750 [==============================] - 3s 4ms/step - loss: 7.3764e-04 - mse: 7.3764e-04 - val_loss: 5.8947e-04 - val_mse: 5.8947e-04\n",
            "Epoch 17/20\n",
            "750/750 [==============================] - 4s 5ms/step - loss: 5.6859e-04 - mse: 5.6859e-04 - val_loss: 6.1960e-04 - val_mse: 6.1960e-04\n",
            "Epoch 18/20\n",
            "750/750 [==============================] - 4s 6ms/step - loss: 4.6401e-04 - mse: 4.6401e-04 - val_loss: 3.5257e-04 - val_mse: 3.5257e-04\n",
            "Epoch 19/20\n",
            "750/750 [==============================] - 3s 4ms/step - loss: 3.8728e-04 - mse: 3.8728e-04 - val_loss: 3.7489e-04 - val_mse: 3.7489e-04\n",
            "Epoch 20/20\n",
            "750/750 [==============================] - 4s 5ms/step - loss: 3.4503e-04 - mse: 3.4503e-04 - val_loss: 2.5189e-04 - val_mse: 2.5189e-04\n"
          ]
        }
      ]
    },
    {
      "cell_type": "code",
      "source": [
        "# Now perform the prediction"
      ],
      "metadata": {
        "id": "tsCzmQ2LsK0P"
      },
      "execution_count": null,
      "outputs": []
    },
    {
      "cell_type": "code",
      "source": [
        "y_predicted_model_3 = model_3.predict(test_set_shuffled_unscaled[:, 0])\n",
        "y_predicted_model_3 = y_predicted_model_3.reshape((y_predicted_model_3.shape[0],))"
      ],
      "metadata": {
        "colab": {
          "base_uri": "https://localhost:8080/"
        },
        "id": "PjfzjgDFsCRr",
        "outputId": "f2c0b446-653e-4859-d1dc-0b93e9c22d51"
      },
      "execution_count": null,
      "outputs": [
        {
          "output_type": "stream",
          "name": "stdout",
          "text": [
            "188/188 [==============================] - 0s 1ms/step\n"
          ]
        }
      ]
    },
    {
      "cell_type": "markdown",
      "source": [
        "now plot the model 3 result"
      ],
      "metadata": {
        "id": "A_fJxh09shh7"
      }
    },
    {
      "cell_type": "code",
      "source": [
        "fig, ax = plt.subplots(2,1, figsize=(15, 15))\n",
        "\n",
        "ax[0].scatter(test_set_shuffled_unscaled[:, 0], test_set_shuffled_unscaled[:, 1], color='blue', linewidth=.5)\n",
        "ax[0].yaxis.set_major_formatter(FormatStrFormatter('%.5f'))\n",
        "ax[0].set_title(\"test x vs. actual y\")\n",
        "\n",
        "ax[1].scatter(test_set_shuffled_unscaled[:, 0], y_predicted_model_3, color='red', linewidth=.5)\n",
        "ax[1].yaxis.set_major_formatter(FormatStrFormatter('%.2f'))\n",
        "ax[1].set_title(\"test x vs. predicted y\")\n",
        "\n",
        "for x in ax.flat:\n",
        "    x.set(xlabel='X', ylabel='Y')\n",
        "plt.suptitle(\"Performance of Model 3\")"
      ],
      "metadata": {
        "colab": {
          "base_uri": "https://localhost:8080/",
          "height": 1000
        },
        "id": "ZFGTisbOsoUv",
        "outputId": "149d3e77-3df9-4a4c-b1a9-d510316c9a5f"
      },
      "execution_count": null,
      "outputs": [
        {
          "output_type": "execute_result",
          "data": {
            "text/plain": [
              "Text(0.5, 0.98, 'Performance of Model 3')"
            ]
          },
          "metadata": {},
          "execution_count": 45
        },
        {
          "output_type": "display_data",
          "data": {
            "text/plain": [
              "<Figure size 1080x1080 with 2 Axes>"
            ],
            "image/png": "[encoded data removed]"
          },
          "metadata": {
            "needs_background": "light"
          }
        }
      ]
    },
    {
      "cell_type": "markdown",
      "source": [
        "Now lets calculate the error metrics for model 3"
      ],
      "metadata": {
        "id": "g0BnwffAswKG"
      }
    },
    {
      "cell_type": "code",
      "source": [
        "MAE_model_3, MSE_model_3, RMSE_model_3, R_2_model_3 = calculate_errors(test_set_shuffled_unscaled[:, 1], y_predicted_model_3)\n",
        "print(\"MAE: \", MAE_model_3)\n",
        "print(\"MSE: \", MSE_model_3)\n",
        "print(\"RMSE: \", RMSE_model_3)\n",
        "print(\"R_2: \", R_2_model_3)"
      ],
      "metadata": {
        "colab": {
          "base_uri": "https://localhost:8080/"
        },
        "id": "G9A96Moctr3N",
        "outputId": "9ff44f20-01ce-44e1-aba5-84c80be690d9"
      },
      "execution_count": null,
      "outputs": [
        {
          "output_type": "stream",
          "name": "stdout",
          "text": [
            "MAE:  0.011899368207358032\n",
            "MSE:  0.00026503410479152695\n",
            "RMSE:  0.01627986808274339\n",
            "R_2:  0.9995456351821891\n"
          ]
        }
      ]
    },
    {
      "cell_type": "markdown",
      "source": [
        "Important: We observe that this model performed the best compared to the other two. This may be surprising to many as this tanh activation layered function has gave us better performance than relu based model 1. This is actially not surprising because Relu IS NOT ZERO CENTRED. Which implies weight updates tend to get unexpectedly shifted towards positive values. To compensate for this more epoch is required."
      ],
      "metadata": {
        "id": "xAZxgCb2t9fJ"
      }
    },
    {
      "cell_type": "markdown",
      "source": [
        "Now lets train model 4 using shuffled and scaled data"
      ],
      "metadata": {
        "id": "09F-WkD7uqj1"
      }
    },
    {
      "cell_type": "markdown",
      "source": [
        "<a name=\"case4\"></a>\n",
        "##Case 4: Shuffled and scaled data with Structure 1, Relu Activation."
      ],
      "metadata": {
        "id": "aGyzBsjw4gzO"
      }
    },
    {
      "cell_type": "code",
      "source": [
        "model_4 = Sequential()\n",
        "# Hidden layers\n",
        "model_4.add(Dense(units=12, activation='relu', input_dim=1))\n",
        "model_4.add(Dense(units=8, activation='relu'))\n",
        "model_4.add(Dense(units=4, activation='relu'))\n",
        "# The output layer\n",
        "model_4.add(Dense(units=1))"
      ],
      "metadata": {
        "id": "QAKof_O50x29"
      },
      "execution_count": null,
      "outputs": []
    },
    {
      "cell_type": "code",
      "source": [
        "model_4.compile(loss='mse', optimizer='adam', metrics='mse')"
      ],
      "metadata": {
        "id": "MK7oa8jd1ORI"
      },
      "execution_count": null,
      "outputs": []
    },
    {
      "cell_type": "code",
      "source": [
        "history_4 = model_4.fit(train_set_shuffled_scaled[:,0], train_set_shuffled_scaled[:,1], epochs=20, batch_size=12,\n",
        "                       validation_data=(validation_set_shuffled_scaled[:,0], validation_set_shuffled_scaled[:, 1]),)"
      ],
      "metadata": {
        "colab": {
          "base_uri": "https://localhost:8080/"
        },
        "id": "llUB_q7J1Qmv",
        "outputId": "dc4c76c4-f798-45e6-a9a0-a138fffb6564"
      },
      "execution_count": null,
      "outputs": [
        {
          "output_type": "stream",
          "name": "stdout",
          "text": [
            "Epoch 1/20\n",
            "750/750 [==============================] - 4s 4ms/step - loss: 0.0100 - mse: 0.0100 - val_loss: 0.0059 - val_mse: 0.0059\n",
            "Epoch 2/20\n",
            "750/750 [==============================] - 4s 5ms/step - loss: 0.0060 - mse: 0.0060 - val_loss: 0.0059 - val_mse: 0.0059\n",
            "Epoch 3/20\n",
            "750/750 [==============================] - 3s 4ms/step - loss: 0.0060 - mse: 0.0060 - val_loss: 0.0058 - val_mse: 0.0058\n",
            "Epoch 4/20\n",
            "750/750 [==============================] - 3s 4ms/step - loss: 0.0059 - mse: 0.0059 - val_loss: 0.0059 - val_mse: 0.0059\n",
            "Epoch 5/20\n",
            "750/750 [==============================] - 3s 4ms/step - loss: 0.0059 - mse: 0.0059 - val_loss: 0.0057 - val_mse: 0.0057\n",
            "Epoch 6/20\n",
            "750/750 [==============================] - 4s 5ms/step - loss: 0.0058 - mse: 0.0058 - val_loss: 0.0056 - val_mse: 0.0056\n",
            "Epoch 7/20\n",
            "750/750 [==============================] - 4s 5ms/step - loss: 0.0058 - mse: 0.0058 - val_loss: 0.0056 - val_mse: 0.0056\n",
            "Epoch 8/20\n",
            "750/750 [==============================] - 3s 4ms/step - loss: 0.0058 - mse: 0.0058 - val_loss: 0.0055 - val_mse: 0.0055\n",
            "Epoch 9/20\n",
            "750/750 [==============================] - 3s 4ms/step - loss: 0.0055 - mse: 0.0055 - val_loss: 0.0053 - val_mse: 0.0053\n",
            "Epoch 10/20\n",
            "750/750 [==============================] - 4s 6ms/step - loss: 0.0055 - mse: 0.0055 - val_loss: 0.0054 - val_mse: 0.0054\n",
            "Epoch 11/20\n",
            "750/750 [==============================] - 3s 4ms/step - loss: 0.0055 - mse: 0.0055 - val_loss: 0.0053 - val_mse: 0.0053\n",
            "Epoch 12/20\n",
            "750/750 [==============================] - 4s 5ms/step - loss: 0.0055 - mse: 0.0055 - val_loss: 0.0053 - val_mse: 0.0053\n",
            "Epoch 13/20\n",
            "750/750 [==============================] - 3s 4ms/step - loss: 0.0054 - mse: 0.0054 - val_loss: 0.0055 - val_mse: 0.0055\n",
            "Epoch 14/20\n",
            "750/750 [==============================] - 4s 6ms/step - loss: 0.0054 - mse: 0.0054 - val_loss: 0.0054 - val_mse: 0.0054\n",
            "Epoch 15/20\n",
            "750/750 [==============================] - 3s 4ms/step - loss: 0.0055 - mse: 0.0055 - val_loss: 0.0053 - val_mse: 0.0053\n",
            "Epoch 16/20\n",
            "750/750 [==============================] - 4s 5ms/step - loss: 0.0055 - mse: 0.0055 - val_loss: 0.0053 - val_mse: 0.0053\n",
            "Epoch 17/20\n",
            "750/750 [==============================] - 4s 6ms/step - loss: 0.0055 - mse: 0.0055 - val_loss: 0.0053 - val_mse: 0.0053\n",
            "Epoch 18/20\n",
            "750/750 [==============================] - 4s 5ms/step - loss: 0.0054 - mse: 0.0054 - val_loss: 0.0053 - val_mse: 0.0053\n",
            "Epoch 19/20\n",
            "750/750 [==============================] - 3s 4ms/step - loss: 0.0054 - mse: 0.0054 - val_loss: 0.0053 - val_mse: 0.0053\n",
            "Epoch 20/20\n",
            "750/750 [==============================] - 4s 5ms/step - loss: 0.0055 - mse: 0.0055 - val_loss: 0.0053 - val_mse: 0.0053\n"
          ]
        }
      ]
    },
    {
      "cell_type": "code",
      "source": [
        "# Perform the prediction\n",
        "y_predicted_model_4 = model_4.predict(test_set_shuffled_scaled[:, 0])\n",
        "y_predicted_model_4 = y_predicted_model_4.reshape((y_predicted_model_4.shape[0],))"
      ],
      "metadata": {
        "colab": {
          "base_uri": "https://localhost:8080/"
        },
        "id": "unhYD_9Y1ojr",
        "outputId": "1ce51aac-0338-47cb-c658-4b6f79bba281"
      },
      "execution_count": null,
      "outputs": [
        {
          "output_type": "stream",
          "name": "stdout",
          "text": [
            "188/188 [==============================] - 0s 1ms/step\n"
          ]
        }
      ]
    },
    {
      "cell_type": "code",
      "source": [
        "# Now plot the result for case 4\n",
        "fig, ax = plt.subplots(2,1, figsize=(15, 15))\n",
        "\n",
        "ax[0].scatter(test_set_shuffled_scaled[:, 0], test_set_shuffled_scaled[:, 1], color='blue', linewidth=.5)\n",
        "ax[0].yaxis.set_major_formatter(FormatStrFormatter('%.5f'))\n",
        "ax[0].set_title(\"test x vs. actual y\")\n",
        "\n",
        "ax[1].scatter(test_set_shuffled_scaled[:, 0], y_predicted_model_4, color='red', linewidth=.5)\n",
        "ax[1].yaxis.set_major_formatter(FormatStrFormatter('%.5f'))\n",
        "ax[1].set_title(\"test x vs. predicted y\")\n",
        "\n",
        "for x in ax.flat:\n",
        "    x.set(xlabel='X', ylabel='Y')\n",
        "plt.suptitle(\"Performance of Model 4\")"
      ],
      "metadata": {
        "colab": {
          "base_uri": "https://localhost:8080/",
          "height": 1000
        },
        "id": "PCqeqwhg2Cbt",
        "outputId": "f354c911-b377-4c74-c310-3de200f5a2a4"
      },
      "execution_count": null,
      "outputs": [
        {
          "output_type": "execute_result",
          "data": {
            "text/plain": [
              "Text(0.5, 0.98, 'Performance of Model 4')"
            ]
          },
          "metadata": {},
          "execution_count": 58
        },
        {
          "output_type": "display_data",
          "data": {
            "text/plain": [
              "<Figure size 1080x1080 with 2 Axes>"
            ],
            "image/png": "[encoded data removed]"
          },
          "metadata": {
            "needs_background": "light"
          }
        }
      ]
    },
    {
      "cell_type": "markdown",
      "source": [
        "The error metrics for model 4"
      ],
      "metadata": {
        "id": "dxhnLWMV2axf"
      }
    },
    {
      "cell_type": "code",
      "source": [
        "MAE_model_4, MSE_model_4, RMSE_model_4, R_2_model_4 = calculate_errors(test_set_shuffled_scaled[:, 1], y_predicted_model_4)\n",
        "print(\"MAE: \", MAE_model_4)\n",
        "print(\"MSE: \", MSE_model_4)\n",
        "print(\"RMSE: \", RMSE_model_4)\n",
        "print(\"R_2: \", R_2_model_4)"
      ],
      "metadata": {
        "colab": {
          "base_uri": "https://localhost:8080/"
        },
        "id": "cIjeRjfj2VEZ",
        "outputId": "37c44ef6-260c-4dbc-bef0-af05122c6b7f"
      },
      "execution_count": null,
      "outputs": [
        {
          "output_type": "stream",
          "name": "stdout",
          "text": [
            "MAE:  0.057547231028889756\n",
            "MSE:  0.005638065580581189\n",
            "RMSE:  0.07508705334863787\n",
            "R_2:  0.8456012702029171\n"
          ]
        }
      ]
    },
    {
      "cell_type": "markdown",
      "source": [
        "We observe that despite relu being used, this model poorly predicted the non-linearities in the actual function. This can be explained by the fact that out data (both X and Y) was min-max scaled (between 0 and 1). This means our use of Relu is analogous to using just a linear function as an activation function, which is expected to poorly model non-linearities."
      ],
      "metadata": {
        "id": "VjU3SF5U5ZwP"
      }
    },
    {
      "cell_type": "markdown",
      "source": [
        "Now let's train the model 5 with shuffled and scaled data with tanh activation function"
      ],
      "metadata": {
        "id": "zIwW1raz5RWQ"
      }
    },
    {
      "cell_type": "markdown",
      "source": [
        "<a name=\"case5\"></a>\n",
        "##case 5: Structure 1 with shuffled and scaled data with tanh activation function"
      ],
      "metadata": {
        "id": "ZFJsjrXh4yUF"
      }
    },
    {
      "cell_type": "code",
      "source": [
        "model_5 = Sequential()\n",
        "# Hidden layers\n",
        "model_5.add(Dense(units=12, activation='tanh', input_dim=1))\n",
        "model_5.add(Dense(units=8, activation='tanh'))\n",
        "model_5.add(Dense(units=4, activation='tanh'))\n",
        "# The output layer\n",
        "model_5.add(Dense(units=1))"
      ],
      "metadata": {
        "id": "yp_TG51H8xJQ"
      },
      "execution_count": null,
      "outputs": []
    },
    {
      "cell_type": "code",
      "source": [
        "model_5.compile(loss='mse', optimizer='adam', metrics='mse')"
      ],
      "metadata": {
        "id": "upJJpB0y9J4U"
      },
      "execution_count": null,
      "outputs": []
    },
    {
      "cell_type": "code",
      "source": [
        "# Lets train the model\n",
        "history_5 = model_5.fit(train_set_shuffled_scaled[:,0], train_set_shuffled_scaled[:,1], epochs=20, batch_size=12,\n",
        "                       validation_data=(validation_set_shuffled_scaled[:,0], validation_set_shuffled_scaled[:, 1]),)"
      ],
      "metadata": {
        "colab": {
          "base_uri": "https://localhost:8080/"
        },
        "id": "ercUszC29RF_",
        "outputId": "6ee683e4-3d84-41a9-dbc7-2c0ed91af454"
      },
      "execution_count": null,
      "outputs": [
        {
          "output_type": "stream",
          "name": "stdout",
          "text": [
            "Epoch 1/20\n",
            "750/750 [==============================] - 4s 4ms/step - loss: 0.0073 - mse: 0.0073 - val_loss: 0.0054 - val_mse: 0.0054\n",
            "Epoch 2/20\n",
            "750/750 [==============================] - 4s 5ms/step - loss: 0.0027 - mse: 0.0027 - val_loss: 0.0012 - val_mse: 0.0012\n",
            "Epoch 3/20\n",
            "750/750 [==============================] - 4s 5ms/step - loss: 9.2541e-04 - mse: 9.2541e-04 - val_loss: 6.3406e-04 - val_mse: 6.3406e-04\n",
            "Epoch 4/20\n",
            "750/750 [==============================] - 3s 4ms/step - loss: 4.1530e-04 - mse: 4.1530e-04 - val_loss: 2.3068e-04 - val_mse: 2.3068e-04\n",
            "Epoch 5/20\n",
            "750/750 [==============================] - 4s 5ms/step - loss: 2.0524e-04 - mse: 2.0524e-04 - val_loss: 1.2155e-04 - val_mse: 1.2155e-04\n",
            "Epoch 6/20\n",
            "750/750 [==============================] - 3s 4ms/step - loss: 1.1399e-04 - mse: 1.1399e-04 - val_loss: 1.5696e-04 - val_mse: 1.5696e-04\n",
            "Epoch 7/20\n",
            "750/750 [==============================] - 3s 4ms/step - loss: 6.2606e-05 - mse: 6.2606e-05 - val_loss: 3.7710e-05 - val_mse: 3.7710e-05\n",
            "Epoch 8/20\n",
            "750/750 [==============================] - 3s 4ms/step - loss: 3.2041e-05 - mse: 3.2041e-05 - val_loss: 1.3633e-05 - val_mse: 1.3633e-05\n",
            "Epoch 9/20\n",
            "750/750 [==============================] - 4s 5ms/step - loss: 1.5691e-05 - mse: 1.5691e-05 - val_loss: 8.3701e-06 - val_mse: 8.3701e-06\n",
            "Epoch 10/20\n",
            "750/750 [==============================] - 4s 5ms/step - loss: 9.5335e-06 - mse: 9.5335e-06 - val_loss: 1.1283e-05 - val_mse: 1.1283e-05\n",
            "Epoch 11/20\n",
            "750/750 [==============================] - 4s 5ms/step - loss: 9.0050e-06 - mse: 9.0050e-06 - val_loss: 3.3923e-06 - val_mse: 3.3923e-06\n",
            "Epoch 12/20\n",
            "750/750 [==============================] - 4s 5ms/step - loss: 8.1025e-06 - mse: 8.1025e-06 - val_loss: 8.8988e-06 - val_mse: 8.8988e-06\n",
            "Epoch 13/20\n",
            "750/750 [==============================] - 3s 4ms/step - loss: 8.9085e-06 - mse: 8.9085e-06 - val_loss: 2.8711e-06 - val_mse: 2.8711e-06\n",
            "Epoch 14/20\n",
            "750/750 [==============================] - 3s 4ms/step - loss: 8.3757e-06 - mse: 8.3757e-06 - val_loss: 1.6022e-05 - val_mse: 1.6022e-05\n",
            "Epoch 15/20\n",
            "750/750 [==============================] - 3s 4ms/step - loss: 8.1505e-06 - mse: 8.1505e-06 - val_loss: 2.7889e-06 - val_mse: 2.7889e-06\n",
            "Epoch 16/20\n",
            "750/750 [==============================] - 4s 5ms/step - loss: 8.1388e-06 - mse: 8.1388e-06 - val_loss: 6.7748e-06 - val_mse: 6.7748e-06\n",
            "Epoch 17/20\n",
            "750/750 [==============================] - 4s 5ms/step - loss: 9.8918e-06 - mse: 9.8918e-06 - val_loss: 3.9809e-06 - val_mse: 3.9809e-06\n",
            "Epoch 18/20\n",
            "750/750 [==============================] - 3s 4ms/step - loss: 7.8969e-06 - mse: 7.8969e-06 - val_loss: 3.3483e-06 - val_mse: 3.3483e-06\n",
            "Epoch 19/20\n",
            "750/750 [==============================] - 4s 5ms/step - loss: 8.3953e-06 - mse: 8.3953e-06 - val_loss: 3.5213e-06 - val_mse: 3.5213e-06\n",
            "Epoch 20/20\n",
            "750/750 [==============================] - 3s 4ms/step - loss: 6.6595e-06 - mse: 6.6595e-06 - val_loss: 2.3255e-06 - val_mse: 2.3255e-06\n"
          ]
        }
      ]
    },
    {
      "cell_type": "code",
      "source": [
        "# Perform the prediction\n",
        "y_predicted_model_5 = model_5.predict(test_set_shuffled_scaled[:, 0])\n",
        "y_predicted_model_5 = y_predicted_model_5.reshape((y_predicted_model_5.shape[0],))"
      ],
      "metadata": {
        "colab": {
          "base_uri": "https://localhost:8080/"
        },
        "id": "F_-sSNBc9ec3",
        "outputId": "4e6fa7c3-0fc5-48cd-f528-684af99e59e1"
      },
      "execution_count": null,
      "outputs": [
        {
          "output_type": "stream",
          "name": "stdout",
          "text": [
            "188/188 [==============================] - 0s 1ms/step\n"
          ]
        }
      ]
    },
    {
      "cell_type": "code",
      "source": [
        "# Now plot the result for case 5\n",
        "fig, ax = plt.subplots(2,1, figsize=(15, 15))\n",
        "\n",
        "ax[0].scatter(test_set_shuffled_scaled[:, 0], test_set_shuffled_scaled[:, 1], color='blue', linewidth=.5)\n",
        "ax[0].yaxis.set_major_formatter(FormatStrFormatter('%.5f'))\n",
        "ax[0].set_title(\"test x vs. actual y\")\n",
        "\n",
        "ax[1].scatter(test_set_shuffled_scaled[:, 0], y_predicted_model_5, color='red', linewidth=.5)\n",
        "ax[1].yaxis.set_major_formatter(FormatStrFormatter('%.5f'))\n",
        "ax[1].set_title(\"test x vs. predicted y\")\n",
        "\n",
        "for x in ax.flat:\n",
        "    x.set(xlabel='X', ylabel='Y')\n",
        "plt.suptitle(\"Performance of Model 5\")"
      ],
      "metadata": {
        "colab": {
          "base_uri": "https://localhost:8080/",
          "height": 1000
        },
        "id": "8U04mr4N9sN8",
        "outputId": "ccfe8fa1-536c-4876-dd70-339d3a2b9749"
      },
      "execution_count": null,
      "outputs": [
        {
          "output_type": "execute_result",
          "data": {
            "text/plain": [
              "Text(0.5, 0.98, 'Performance of Model 5')"
            ]
          },
          "metadata": {},
          "execution_count": 64
        },
        {
          "output_type": "display_data",
          "data": {
            "text/plain": [
              "<Figure size 1080x1080 with 2 Axes>"
            ],
            "image/png": "[encoded data removed]"
          },
          "metadata": {
            "needs_background": "light"
          }
        }
      ]
    },
    {
      "cell_type": "markdown",
      "source": [
        "The error metrics for model 5"
      ],
      "metadata": {
        "id": "B0G0LUQo9_1f"
      }
    },
    {
      "cell_type": "code",
      "source": [
        "MAE_model_5, MSE_model_5, RMSE_model_5, R_2_model_5 = calculate_errors(test_set_shuffled_scaled[:, 1], y_predicted_model_5)\n",
        "print(\"MAE: \", MAE_model_5)\n",
        "print(\"MSE: \", MSE_model_5)\n",
        "print(\"RMSE: \", RMSE_model_5)\n",
        "print(\"R_2: \", R_2_model_5)"
      ],
      "metadata": {
        "colab": {
          "base_uri": "https://localhost:8080/"
        },
        "id": "I8euSjMV-E7P",
        "outputId": "c9df1354-1e9b-4840-be47-02efc61e6563"
      },
      "execution_count": null,
      "outputs": [
        {
          "output_type": "stream",
          "name": "stdout",
          "text": [
            "MAE:  0.0011662588067332337\n",
            "MSE:  2.3067285139400756e-06\n",
            "RMSE:  0.0015187917941377204\n",
            "R_2:  0.9999368301153208\n"
          ]
        }
      ]
    },
    {
      "cell_type": "markdown",
      "source": [
        "We observe that this tanh based function performed much better that model 4. This can be explained by the fact that tanh is zero centred, and doesn't die down below zero."
      ],
      "metadata": {
        "id": "iwEv7fuOSlis"
      }
    },
    {
      "cell_type": "markdown",
      "source": [
        "##Now let's analyze the use cases for which the data is not shuffled"
      ],
      "metadata": {
        "id": "sxoblM1lS2vQ"
      }
    },
    {
      "cell_type": "markdown",
      "source": [
        "<a name=\"case6\"></a>\n",
        "##case 6: Unshuffled and unscaled data; structure 1"
      ],
      "metadata": {
        "id": "iq6Q3R9ZWTP9"
      }
    },
    {
      "cell_type": "code",
      "source": [
        "model_6 = Sequential()\n",
        "# Hidden layers\n",
        "model_6.add(Dense(units=12, activation='relu', input_dim=1))\n",
        "model_6.add(Dense(units=8, activation='relu'))\n",
        "model_6.add(Dense(units=4, activation='relu'))\n",
        "# The output layer\n",
        "model_6.add(Dense(units=1))"
      ],
      "metadata": {
        "id": "QR_9MwnEWdVM"
      },
      "execution_count": null,
      "outputs": []
    },
    {
      "cell_type": "code",
      "source": [
        "model_6.compile(loss='mse', optimizer='adam', metrics='mse')"
      ],
      "metadata": {
        "id": "2LJu41yGWr1C"
      },
      "execution_count": null,
      "outputs": []
    },
    {
      "cell_type": "code",
      "source": [
        "# Lets train the model\n",
        "history_6 = model_6.fit(train_set_unshuffled_unscaled[:,0], train_set_unshuffled_unscaled[:,1], epochs=20, batch_size=12,\n",
        "                       validation_data=(validation_set_unshuffled_unscaled[:,0], validation_set_unshuffled_unscaled[:, 1]),)"
      ],
      "metadata": {
        "colab": {
          "base_uri": "https://localhost:8080/"
        },
        "id": "leovSKscWydI",
        "outputId": "b2dd190f-3509-4233-c0d4-dfb33377ef1a"
      },
      "execution_count": null,
      "outputs": [
        {
          "output_type": "stream",
          "name": "stdout",
          "text": [
            "Epoch 1/20\n",
            "750/750 [==============================] - 3s 3ms/step - loss: 80.1349 - mse: 80.1349 - val_loss: 98.0743 - val_mse: 98.0743\n",
            "Epoch 2/20\n",
            "750/750 [==============================] - 4s 5ms/step - loss: 67.6970 - mse: 67.6970 - val_loss: 84.5100 - val_mse: 84.5100\n",
            "Epoch 3/20\n",
            "750/750 [==============================] - 2s 3ms/step - loss: 56.6582 - mse: 56.6582 - val_loss: 72.2944 - val_mse: 72.2944\n",
            "Epoch 4/20\n",
            "750/750 [==============================] - 2s 3ms/step - loss: 46.8507 - mse: 46.8507 - val_loss: 61.2940 - val_mse: 61.2940\n",
            "Epoch 5/20\n",
            "750/750 [==============================] - 2s 3ms/step - loss: 38.1669 - mse: 38.1669 - val_loss: 51.4119 - val_mse: 51.4119\n",
            "Epoch 6/20\n",
            "750/750 [==============================] - 2s 3ms/step - loss: 30.5277 - mse: 30.5277 - val_loss: 42.5771 - val_mse: 42.5771\n",
            "Epoch 7/20\n",
            "750/750 [==============================] - 3s 4ms/step - loss: 23.8770 - mse: 23.8770 - val_loss: 34.7457 - val_mse: 34.7457\n",
            "Epoch 8/20\n",
            "750/750 [==============================] - 2s 3ms/step - loss: 18.1709 - mse: 18.1709 - val_loss: 27.8753 - val_mse: 27.8753\n",
            "Epoch 9/20\n",
            "750/750 [==============================] - 2s 3ms/step - loss: 13.3696 - mse: 13.3696 - val_loss: 21.9366 - val_mse: 21.9366\n",
            "Epoch 10/20\n",
            "750/750 [==============================] - 2s 3ms/step - loss: 9.4304 - mse: 9.4304 - val_loss: 16.8930 - val_mse: 16.8930\n",
            "Epoch 11/20\n",
            "750/750 [==============================] - 2s 3ms/step - loss: 6.3072 - mse: 6.3072 - val_loss: 12.7114 - val_mse: 12.7114\n",
            "Epoch 12/20\n",
            "750/750 [==============================] - 4s 5ms/step - loss: 3.9432 - mse: 3.9432 - val_loss: 9.3423 - val_mse: 9.3423\n",
            "Epoch 13/20\n",
            "750/750 [==============================] - 2s 3ms/step - loss: 2.2679 - mse: 2.2679 - val_loss: 6.7406 - val_mse: 6.7406\n",
            "Epoch 14/20\n",
            "750/750 [==============================] - 2s 3ms/step - loss: 1.1881 - mse: 1.1881 - val_loss: 4.8327 - val_mse: 4.8327\n",
            "Epoch 15/20\n",
            "750/750 [==============================] - 2s 3ms/step - loss: 0.5857 - mse: 0.5857 - val_loss: 3.5432 - val_mse: 3.5432\n",
            "Epoch 16/20\n",
            "750/750 [==============================] - 4s 5ms/step - loss: 0.3159 - mse: 0.3159 - val_loss: 2.7635 - val_mse: 2.7635\n",
            "Epoch 17/20\n",
            "750/750 [==============================] - 2s 3ms/step - loss: 0.2301 - mse: 0.2301 - val_loss: 2.3717 - val_mse: 2.3717\n",
            "Epoch 18/20\n",
            "750/750 [==============================] - 2s 3ms/step - loss: 0.2137 - mse: 0.2137 - val_loss: 2.2277 - val_mse: 2.2277\n",
            "Epoch 19/20\n",
            "750/750 [==============================] - 2s 3ms/step - loss: 0.2123 - mse: 0.2123 - val_loss: 2.1856 - val_mse: 2.1856\n",
            "Epoch 20/20\n",
            "750/750 [==============================] - 2s 3ms/step - loss: 0.2122 - mse: 0.2122 - val_loss: 2.1831 - val_mse: 2.1831\n"
          ]
        }
      ]
    },
    {
      "cell_type": "code",
      "source": [
        "# Perform the prediction\n",
        "y_predicted_model_6 = model_6.predict(test_set_unshuffled_unscaled[:, 0])\n",
        "y_predicted_model_6 = y_predicted_model_6.reshape((y_predicted_model_6.shape[0],))"
      ],
      "metadata": {
        "colab": {
          "base_uri": "https://localhost:8080/"
        },
        "id": "PA2yqC1AXx_D",
        "outputId": "13597f94-3de9-4069-c6cf-003948010382"
      },
      "execution_count": null,
      "outputs": [
        {
          "output_type": "stream",
          "name": "stdout",
          "text": [
            "188/188 [==============================] - 0s 951us/step\n"
          ]
        }
      ]
    },
    {
      "cell_type": "code",
      "source": [
        "# Now plot the result for case 6\n",
        "fig, ax = plt.subplots(2,1, figsize=(15, 15))\n",
        "\n",
        "ax[0].scatter(test_set_unshuffled_unscaled[:, 0], test_set_unshuffled_unscaled[:, 1], color='blue', linewidth=.5)\n",
        "ax[0].yaxis.set_major_formatter(FormatStrFormatter('%.5f'))\n",
        "ax[0].set_title(\"test x vs. actual y\")\n",
        "\n",
        "ax[1].scatter(test_set_unshuffled_unscaled[:, 0], y_predicted_model_6, color='red', linewidth=.5)\n",
        "ax[1].yaxis.set_major_formatter(FormatStrFormatter('%.5f'))\n",
        "ax[1].set_title(\"test x vs. predicted y\")\n",
        "\n",
        "for x in ax.flat:\n",
        "    x.set(xlabel='X', ylabel='Y')\n",
        "plt.suptitle(\"Performance of Model 6\")"
      ],
      "metadata": {
        "colab": {
          "base_uri": "https://localhost:8080/",
          "height": 893
        },
        "id": "4zzcAMVqXHuV",
        "outputId": "949511b0-aa21-4f7c-ce9e-531f03538189"
      },
      "execution_count": null,
      "outputs": [
        {
          "output_type": "display_data",
          "data": {
            "text/plain": [
              "<Figure size 1080x1080 with 2 Axes>"
            ],
            "image/png": "[encoded data removed]"
          },
          "metadata": {
            "needs_background": "light"
          }
        }
      ]
    },
    {
      "cell_type": "markdown",
      "source": [
        "Error metrics for model 6"
      ],
      "metadata": {
        "id": "LBhNGjcVXWl5"
      }
    },
    {
      "cell_type": "code",
      "source": [
        "MAE_model_6, MSE_model_6, RMSE_model_6, R_2_model_6 = calculate_errors(test_set_unshuffled_unscaled[:, 1], y_predicted_model_6)\n",
        "print(\"MAE: \", MAE_model_6)\n",
        "print(\"MSE: \", MSE_model_6)\n",
        "print(\"RMSE: \", RMSE_model_6)\n",
        "print(\"R_2: \", R_2_model_6)"
      ],
      "metadata": {
        "colab": {
          "base_uri": "https://localhost:8080/"
        },
        "id": "gk7YOgAFXcee",
        "outputId": "0362ab51-75d6-476b-9d32-421de01de272"
      },
      "execution_count": null,
      "outputs": [
        {
          "output_type": "stream",
          "name": "stdout",
          "text": [
            "MAE:  0.6726998099479484\n",
            "MSE:  0.45343926061335166\n",
            "RMSE:  0.6733789873565641\n",
            "R_2:  -494.9814172684882\n"
          ]
        }
      ]
    },
    {
      "cell_type": "markdown",
      "source": [
        "IMPORTANT We note that when the data was unshuffled, and unscaled, we have a very low R_2 score. This indicates underfitting. Could be a Dying Relu issue as all the inputs are negative in this case (since we did not shuffle our data)"
      ],
      "metadata": {
        "id": "5ab_Hu_iegSB"
      }
    },
    {
      "cell_type": "markdown",
      "source": [
        "<a name=\"case7\"></a>\n",
        "##case 7: Unshuffled and unscaled data with structure 2"
      ],
      "metadata": {
        "id": "0-wzEuG3f9Va"
      }
    },
    {
      "cell_type": "code",
      "source": [
        "model_7 = Sequential()\n",
        "# Hidden layers\n",
        "model_7.add(Dense(units=24, activation='relu', input_dim=1))\n",
        "# The output layer\n",
        "model_7.add(Dense(units=1))"
      ],
      "metadata": {
        "id": "sVzznygPgHii"
      },
      "execution_count": null,
      "outputs": []
    },
    {
      "cell_type": "code",
      "source": [
        "model_7.compile(loss='mse', optimizer='adam', metrics='mse')"
      ],
      "metadata": {
        "id": "feBPBTnbgoVy"
      },
      "execution_count": null,
      "outputs": []
    },
    {
      "cell_type": "code",
      "source": [
        "# Lets train the model\n",
        "history_7 = model_7.fit(train_set_unshuffled_unscaled[:,0], train_set_unshuffled_unscaled[:,1], epochs=20, batch_size=12,\n",
        "                       validation_data=(validation_set_unshuffled_unscaled[:,0], validation_set_unshuffled_unscaled[:, 1]),)"
      ],
      "metadata": {
        "colab": {
          "base_uri": "https://localhost:8080/"
        },
        "id": "T8GosTkmgthJ",
        "outputId": "a2276e95-d7a0-4643-b3b6-0aedf294e560"
      },
      "execution_count": null,
      "outputs": [
        {
          "output_type": "stream",
          "name": "stdout",
          "text": [
            "Epoch 1/20\n",
            "750/750 [==============================] - 3s 3ms/step - loss: 27.1841 - mse: 27.1841 - val_loss: 79.1723 - val_mse: 79.1723\n",
            "Epoch 2/20\n",
            "750/750 [==============================] - 2s 3ms/step - loss: 2.2465 - mse: 2.2465 - val_loss: 69.1305 - val_mse: 69.1305\n",
            "Epoch 3/20\n",
            "750/750 [==============================] - 2s 3ms/step - loss: 1.8480 - mse: 1.8480 - val_loss: 53.6552 - val_mse: 53.6552\n",
            "Epoch 4/20\n",
            "750/750 [==============================] - 4s 5ms/step - loss: 1.3900 - mse: 1.3900 - val_loss: 34.5233 - val_mse: 34.5233\n",
            "Epoch 5/20\n",
            "750/750 [==============================] - 4s 6ms/step - loss: 0.9202 - mse: 0.9202 - val_loss: 17.1032 - val_mse: 17.1032\n",
            "Epoch 6/20\n",
            "750/750 [==============================] - 5s 6ms/step - loss: 0.4987 - mse: 0.4987 - val_loss: 4.9645 - val_mse: 4.9645\n",
            "Epoch 7/20\n",
            "750/750 [==============================] - 4s 6ms/step - loss: 0.1942 - mse: 0.1942 - val_loss: 0.2270 - val_mse: 0.2270\n",
            "Epoch 8/20\n",
            "750/750 [==============================] - 4s 5ms/step - loss: 0.0479 - mse: 0.0479 - val_loss: 1.3312 - val_mse: 1.3312\n",
            "Epoch 9/20\n",
            "750/750 [==============================] - 4s 5ms/step - loss: 0.0123 - mse: 0.0123 - val_loss: 2.9509 - val_mse: 2.9509\n",
            "Epoch 10/20\n",
            "750/750 [==============================] - 4s 6ms/step - loss: 0.0090 - mse: 0.0090 - val_loss: 3.4648 - val_mse: 3.4648\n",
            "Epoch 11/20\n",
            "750/750 [==============================] - 3s 4ms/step - loss: 0.0089 - mse: 0.0089 - val_loss: 3.4907 - val_mse: 3.4907\n",
            "Epoch 12/20\n",
            "750/750 [==============================] - 2s 3ms/step - loss: 0.0090 - mse: 0.0090 - val_loss: 3.5237 - val_mse: 3.5237\n",
            "Epoch 13/20\n",
            "750/750 [==============================] - 2s 3ms/step - loss: 0.0090 - mse: 0.0090 - val_loss: 3.4853 - val_mse: 3.4853\n",
            "Epoch 14/20\n",
            "750/750 [==============================] - 4s 5ms/step - loss: 0.0090 - mse: 0.0090 - val_loss: 3.4238 - val_mse: 3.4238\n",
            "Epoch 15/20\n",
            "750/750 [==============================] - 2s 3ms/step - loss: 0.0091 - mse: 0.0091 - val_loss: 3.4112 - val_mse: 3.4112\n",
            "Epoch 16/20\n",
            "750/750 [==============================] - 4s 5ms/step - loss: 0.0092 - mse: 0.0092 - val_loss: 3.3382 - val_mse: 3.3382\n",
            "Epoch 17/20\n",
            "750/750 [==============================] - 2s 3ms/step - loss: 0.0093 - mse: 0.0093 - val_loss: 3.3927 - val_mse: 3.3927\n",
            "Epoch 18/20\n",
            "750/750 [==============================] - 4s 5ms/step - loss: 0.0091 - mse: 0.0091 - val_loss: 3.4092 - val_mse: 3.4092\n",
            "Epoch 19/20\n",
            "750/750 [==============================] - 2s 3ms/step - loss: 0.0091 - mse: 0.0091 - val_loss: 3.4655 - val_mse: 3.4655\n",
            "Epoch 20/20\n",
            "750/750 [==============================] - 2s 3ms/step - loss: 0.0091 - mse: 0.0091 - val_loss: 3.4056 - val_mse: 3.4056\n"
          ]
        }
      ]
    },
    {
      "cell_type": "code",
      "source": [
        "# Perform the prediction\n",
        "y_predicted_model_7 = model_7.predict(test_set_unshuffled_unscaled[:, 0])\n",
        "y_predicted_model_7 = y_predicted_model_7.reshape((y_predicted_model_7.shape[0],))"
      ],
      "metadata": {
        "colab": {
          "base_uri": "https://localhost:8080/"
        },
        "id": "rYD5n7UZhJBN",
        "outputId": "8fd95732-6f7b-4c2e-cf42-dcfa5b9fc92c"
      },
      "execution_count": null,
      "outputs": [
        {
          "output_type": "stream",
          "name": "stdout",
          "text": [
            "188/188 [==============================] - 0s 1ms/step\n"
          ]
        }
      ]
    },
    {
      "cell_type": "code",
      "source": [
        "# Now plot the result for case 8\n",
        "fig, ax = plt.subplots(2,1, figsize=(15, 15))\n",
        "\n",
        "ax[0].scatter(test_set_unshuffled_unscaled[:, 0], test_set_unshuffled_unscaled[:, 1], color='blue', linewidth=.5)\n",
        "ax[0].yaxis.set_major_formatter(FormatStrFormatter('%.5f'))\n",
        "ax[0].set_title(\"test x vs. actual y\")\n",
        "\n",
        "ax[1].scatter(test_set_unshuffled_unscaled[:, 0], y_predicted_model_7, color='red', linewidth=.5)\n",
        "ax[1].yaxis.set_major_formatter(FormatStrFormatter('%.5f'))\n",
        "ax[1].set_title(\"test x vs. predicted y\")\n",
        "\n",
        "for x in ax.flat:\n",
        "    x.set(xlabel='X', ylabel='Y')\n",
        "plt.suptitle(\"Performance of Model 7\")"
      ],
      "metadata": {
        "colab": {
          "base_uri": "https://localhost:8080/",
          "height": 893
        },
        "id": "lfag51F3hW06",
        "outputId": "3f906836-7d3d-4563-a2ef-671faf20b609"
      },
      "execution_count": null,
      "outputs": [
        {
          "output_type": "display_data",
          "data": {
            "text/plain": [
              "<Figure size 1080x1080 with 2 Axes>"
            ],
            "image/png": "[encoded data removed]"
          },
          "metadata": {
            "needs_background": "light"
          }
        }
      ]
    },
    {
      "cell_type": "markdown",
      "source": [
        "Now see the model 7 performance metrics"
      ],
      "metadata": {
        "id": "2_UEQXGQhoru"
      }
    },
    {
      "cell_type": "code",
      "source": [
        "MAE_model_7, MSE_model_7, RMSE_model_7, R_2_model_7 = calculate_errors(test_set_unshuffled_unscaled[:, 1], y_predicted_model_7)\n",
        "print(\"MAE: \", MAE_model_7)\n",
        "print(\"MSE: \", MSE_model_7)\n",
        "print(\"RMSE: \", RMSE_model_7)\n",
        "print(\"R_2: \", R_2_model_7)"
      ],
      "metadata": {
        "colab": {
          "base_uri": "https://localhost:8080/"
        },
        "id": "gyxdvwoAhnpI",
        "outputId": "39d6fbb4-29a9-4024-d566-5f87ed1521c4"
      },
      "execution_count": null,
      "outputs": [
        {
          "output_type": "stream",
          "name": "stdout",
          "text": [
            "MAE:  0.6168222277171007\n",
            "MSE:  0.45542602289905565\n",
            "RMSE:  0.6748525934595314\n",
            "R_2:  -497.154579717867\n"
          ]
        }
      ]
    },
    {
      "cell_type": "markdown",
      "source": [
        "As expected, a singled hidden layered relu network gave us much worse performance for all the metrics compared to the model 6. The graph shows that the model wrongly predicts the trend. This means a single hidden layer is not enough."
      ],
      "metadata": {
        "id": "YusBMReBic9d"
      }
    },
    {
      "cell_type": "markdown",
      "source": [
        "<a name=\"case8\"></a>\n",
        "##case 8: Unshuffled, unscaled data with structure 1, with *tanh* activation layer"
      ],
      "metadata": {
        "id": "wOmcXudal2fc"
      }
    },
    {
      "cell_type": "code",
      "source": [
        "model_8 = Sequential()\n",
        "# Hidden layers\n",
        "model_8.add(Dense(units=12, activation='tanh', input_dim=1))\n",
        "model_8.add(Dense(units=8, activation='tanh'))\n",
        "model_8.add(Dense(units=4, activation='tanh'))\n",
        "# The output layer\n",
        "model_8.add(Dense(units=1))"
      ],
      "metadata": {
        "id": "NsMy30admIXS"
      },
      "execution_count": null,
      "outputs": []
    },
    {
      "cell_type": "code",
      "source": [
        "model_8.compile(loss='mse', optimizer='adam', metrics='mse')"
      ],
      "metadata": {
        "id": "UYF7wIcfmYsS"
      },
      "execution_count": null,
      "outputs": []
    },
    {
      "cell_type": "code",
      "source": [
        "# Lets train the model\n",
        "history_8 = model_8.fit(train_set_unshuffled_unscaled[:,0], train_set_unshuffled_unscaled[:,1], epochs=20, batch_size=12,\n",
        "                       validation_data=(validation_set_unshuffled_unscaled[:,0], validation_set_unshuffled_unscaled[:, 1]),)"
      ],
      "metadata": {
        "colab": {
          "base_uri": "https://localhost:8080/"
        },
        "id": "3X5ajT6XmkVA",
        "outputId": "ac330ab4-9d71-4008-ae23-53566630400b"
      },
      "execution_count": null,
      "outputs": [
        {
          "output_type": "stream",
          "name": "stdout",
          "text": [
            "Epoch 1/20\n",
            "750/750 [==============================] - 4s 4ms/step - loss: 36.4862 - mse: 36.4862 - val_loss: 94.6998 - val_mse: 94.6998\n",
            "Epoch 2/20\n",
            "750/750 [==============================] - 2s 3ms/step - loss: 7.8540 - mse: 7.8540 - val_loss: 91.6595 - val_mse: 91.6595\n",
            "Epoch 3/20\n",
            "750/750 [==============================] - 2s 3ms/step - loss: 1.2530 - mse: 1.2530 - val_loss: 92.4180 - val_mse: 92.4180\n",
            "Epoch 4/20\n",
            "750/750 [==============================] - 2s 3ms/step - loss: 0.2711 - mse: 0.2711 - val_loss: 92.5748 - val_mse: 92.5748\n",
            "Epoch 5/20\n",
            "750/750 [==============================] - 2s 3ms/step - loss: 0.2140 - mse: 0.2140 - val_loss: 91.9042 - val_mse: 91.9042\n",
            "Epoch 6/20\n",
            "750/750 [==============================] - 3s 4ms/step - loss: 0.2132 - mse: 0.2132 - val_loss: 90.8161 - val_mse: 90.8161\n",
            "Epoch 7/20\n",
            "750/750 [==============================] - 2s 3ms/step - loss: 0.2130 - mse: 0.2130 - val_loss: 89.4138 - val_mse: 89.4138\n",
            "Epoch 8/20\n",
            "750/750 [==============================] - 2s 3ms/step - loss: 0.2130 - mse: 0.2130 - val_loss: 87.5770 - val_mse: 87.5770\n",
            "Epoch 9/20\n",
            "750/750 [==============================] - 2s 3ms/step - loss: 0.2129 - mse: 0.2129 - val_loss: 85.4472 - val_mse: 85.4472\n",
            "Epoch 10/20\n",
            "750/750 [==============================] - 2s 3ms/step - loss: 0.2128 - mse: 0.2128 - val_loss: 83.0019 - val_mse: 83.0019\n",
            "Epoch 11/20\n",
            "750/750 [==============================] - 3s 4ms/step - loss: 0.2128 - mse: 0.2128 - val_loss: 80.1655 - val_mse: 80.1655\n",
            "Epoch 12/20\n",
            "750/750 [==============================] - 2s 3ms/step - loss: 0.2127 - mse: 0.2127 - val_loss: 77.1267 - val_mse: 77.1267\n",
            "Epoch 13/20\n",
            "750/750 [==============================] - 2s 3ms/step - loss: 0.2128 - mse: 0.2128 - val_loss: 73.8386 - val_mse: 73.8386\n",
            "Epoch 14/20\n",
            "750/750 [==============================] - 2s 3ms/step - loss: 0.2127 - mse: 0.2127 - val_loss: 70.4182 - val_mse: 70.4182\n",
            "Epoch 15/20\n",
            "750/750 [==============================] - 4s 5ms/step - loss: 0.2128 - mse: 0.2128 - val_loss: 66.8775 - val_mse: 66.8775\n",
            "Epoch 16/20\n",
            "750/750 [==============================] - 2s 3ms/step - loss: 0.2126 - mse: 0.2126 - val_loss: 63.2599 - val_mse: 63.2599\n",
            "Epoch 17/20\n",
            "750/750 [==============================] - 2s 3ms/step - loss: 0.2126 - mse: 0.2126 - val_loss: 59.6323 - val_mse: 59.6323\n",
            "Epoch 18/20\n",
            "750/750 [==============================] - 2s 3ms/step - loss: 0.2126 - mse: 0.2126 - val_loss: 55.9799 - val_mse: 55.9799\n",
            "Epoch 19/20\n",
            "750/750 [==============================] - 2s 3ms/step - loss: 0.2126 - mse: 0.2126 - val_loss: 52.3169 - val_mse: 52.3169\n",
            "Epoch 20/20\n",
            "750/750 [==============================] - 3s 4ms/step - loss: 0.2126 - mse: 0.2126 - val_loss: 48.6694 - val_mse: 48.6694\n"
          ]
        }
      ]
    },
    {
      "cell_type": "code",
      "source": [
        "# Perform the prediction\n",
        "y_predicted_model_8 = model_8.predict(test_set_unshuffled_unscaled[:, 0])\n",
        "y_predicted_model_8 = y_predicted_model_8.reshape((y_predicted_model_8.shape[0],))"
      ],
      "metadata": {
        "colab": {
          "base_uri": "https://localhost:8080/"
        },
        "id": "BwdiWW9SmfFB",
        "outputId": "1d6734df-a759-4f5a-cb25-df701c3dd688"
      },
      "execution_count": null,
      "outputs": [
        {
          "output_type": "stream",
          "name": "stdout",
          "text": [
            "188/188 [==============================] - 0s 1ms/step\n"
          ]
        }
      ]
    },
    {
      "cell_type": "code",
      "source": [
        "# Now plot the result for case 8\n",
        "fig, ax = plt.subplots(2,1, figsize=(15, 15))\n",
        "\n",
        "ax[0].scatter(test_set_unshuffled_unscaled[:, 0], test_set_unshuffled_unscaled[:, 1], color='blue', linewidth=.5)\n",
        "ax[0].yaxis.set_major_formatter(FormatStrFormatter('%.5f'))\n",
        "ax[0].set_title(\"test x vs. actual y\")\n",
        "\n",
        "ax[1].scatter(test_set_unshuffled_unscaled[:, 0], y_predicted_model_8, color='red', linewidth=.5)\n",
        "ax[1].yaxis.set_major_formatter(FormatStrFormatter('%.5f'))\n",
        "ax[1].set_title(\"test x vs. predicted y\")\n",
        "\n",
        "for x in ax.flat:\n",
        "    x.set(xlabel='X', ylabel='Y')\n",
        "plt.suptitle(\"Performance of Model 8\")"
      ],
      "metadata": {
        "colab": {
          "base_uri": "https://localhost:8080/",
          "height": 893
        },
        "id": "BXhsqhCsm73f",
        "outputId": "47cdd15b-0e95-4752-9f56-e83a9a4bcb96"
      },
      "execution_count": null,
      "outputs": [
        {
          "output_type": "display_data",
          "data": {
            "text/plain": [
              "<Figure size 1080x1080 with 2 Axes>"
            ],
            "image/png": "[encoded data removed]"
          },
          "metadata": {
            "needs_background": "light"
          }
        }
      ]
    },
    {
      "cell_type": "markdown",
      "source": [
        "Model 8 performance metrics below"
      ],
      "metadata": {
        "id": "HFmdp6E4nTJP"
      }
    },
    {
      "cell_type": "code",
      "source": [
        "MAE_model_8, MSE_model_8, RMSE_model_8, R_2_model_8 = calculate_errors(test_set_unshuffled_unscaled[:, 1], y_predicted_model_8)\n",
        "print(\"MAE: \", MAE_model_8)\n",
        "print(\"MSE: \", MSE_model_8)\n",
        "print(\"RMSE: \", RMSE_model_8)\n",
        "print(\"R_2: \", R_2_model_8)"
      ],
      "metadata": {
        "colab": {
          "base_uri": "https://localhost:8080/"
        },
        "id": "K6YuIgNLnSQ6",
        "outputId": "0abbb1ff-fd63-4d8c-824a-8cbfb09278d7"
      },
      "execution_count": null,
      "outputs": [
        {
          "output_type": "stream",
          "name": "stdout",
          "text": [
            "MAE:  0.6989651768201002\n",
            "MSE:  0.48947065516342786\n",
            "RMSE:  0.6996217943742375\n",
            "R_2:  -534.3933158123715\n"
          ]
        }
      ]
    },
    {
      "cell_type": "markdown",
      "source": [
        "We note that using tanh activation function gave us much worse performance accross all the metric compared to model 6. However, we do not have a flat line unlike model 6. The flat line in model 6 was caused by \"dying Relu\" problem. Since we used tanh we did not have that issue here. That being said, our training here was much slower sue to tanh's vanishing gradient problem. To get better performance, we must need more epoch than 20 for tanh."
      ],
      "metadata": {
        "id": "0HPIQ-RsoOI1"
      }
    },
    {
      "cell_type": "markdown",
      "source": [
        "<a name=\"case9\"></a>\n",
        "##case 9: Unshuffled and scaled data, with structure 1, and Relu as activation function"
      ],
      "metadata": {
        "id": "WGJjXvzEoYAX"
      }
    },
    {
      "cell_type": "code",
      "source": [
        "model_9 = Sequential()\n",
        "# Hidden layers\n",
        "model_9.add(Dense(units=12, activation='relu', input_dim=1))\n",
        "model_9.add(Dense(units=8, activation='relu'))\n",
        "model_9.add(Dense(units=4, activation='relu'))\n",
        "# The output layer\n",
        "model_9.add(Dense(units=1))"
      ],
      "metadata": {
        "id": "Cz2lLiMtpZqa"
      },
      "execution_count": null,
      "outputs": []
    },
    {
      "cell_type": "code",
      "source": [
        "model_9.compile(loss='mse', optimizer='adam', metrics='mse')"
      ],
      "metadata": {
        "id": "wCFltd3vptf0"
      },
      "execution_count": null,
      "outputs": []
    },
    {
      "cell_type": "code",
      "source": [
        "# Lets train the model\n",
        "history_9 = model_9.fit(train_set_unshuffled_scaled[:,0], train_set_unshuffled_scaled[:,1], epochs=20, batch_size=12,\n",
        "                       validation_data=(validation_set_unshuffled_scaled[:,0], validation_set_unshuffled_scaled[:, 1]),)"
      ],
      "metadata": {
        "colab": {
          "base_uri": "https://localhost:8080/"
        },
        "id": "EA1cml6Dpvoc",
        "outputId": "9c63cf8c-6d82-4e53-97df-27389058594c"
      },
      "execution_count": null,
      "outputs": [
        {
          "output_type": "stream",
          "name": "stdout",
          "text": [
            "Epoch 1/20\n",
            "750/750 [==============================] - 3s 3ms/step - loss: 0.0848 - mse: 0.0848 - val_loss: 0.1709 - val_mse: 0.1709\n",
            "Epoch 2/20\n",
            "750/750 [==============================] - 2s 3ms/step - loss: 5.7543e-04 - mse: 5.7543e-04 - val_loss: 0.1729 - val_mse: 0.1729\n",
            "Epoch 3/20\n",
            "750/750 [==============================] - 2s 3ms/step - loss: 3.2973e-04 - mse: 3.2973e-04 - val_loss: 0.1720 - val_mse: 0.1720\n",
            "Epoch 4/20\n",
            "750/750 [==============================] - 2s 3ms/step - loss: 2.0554e-04 - mse: 2.0554e-04 - val_loss: 0.1740 - val_mse: 0.1740\n",
            "Epoch 5/20\n",
            "750/750 [==============================] - 3s 4ms/step - loss: 1.2356e-04 - mse: 1.2356e-04 - val_loss: 0.1773 - val_mse: 0.1773\n",
            "Epoch 6/20\n",
            "750/750 [==============================] - 2s 3ms/step - loss: 7.9042e-05 - mse: 7.9042e-05 - val_loss: 0.1763 - val_mse: 0.1763\n",
            "Epoch 7/20\n",
            "750/750 [==============================] - 2s 3ms/step - loss: 5.7604e-05 - mse: 5.7604e-05 - val_loss: 0.1749 - val_mse: 0.1749\n",
            "Epoch 8/20\n",
            "750/750 [==============================] - 2s 3ms/step - loss: 5.1589e-05 - mse: 5.1589e-05 - val_loss: 0.1761 - val_mse: 0.1761\n",
            "Epoch 9/20\n",
            "750/750 [==============================] - 2s 3ms/step - loss: 4.7815e-05 - mse: 4.7815e-05 - val_loss: 0.1752 - val_mse: 0.1752\n",
            "Epoch 10/20\n",
            "750/750 [==============================] - 4s 6ms/step - loss: 4.7574e-05 - mse: 4.7574e-05 - val_loss: 0.1725 - val_mse: 0.1725\n",
            "Epoch 11/20\n",
            "750/750 [==============================] - 2s 3ms/step - loss: 4.7112e-05 - mse: 4.7112e-05 - val_loss: 0.1733 - val_mse: 0.1733\n",
            "Epoch 12/20\n",
            "750/750 [==============================] - 2s 3ms/step - loss: 4.3922e-05 - mse: 4.3922e-05 - val_loss: 0.1754 - val_mse: 0.1754\n",
            "Epoch 13/20\n",
            "750/750 [==============================] - 2s 3ms/step - loss: 4.1485e-05 - mse: 4.1485e-05 - val_loss: 0.1765 - val_mse: 0.1765\n",
            "Epoch 14/20\n",
            "750/750 [==============================] - 3s 4ms/step - loss: 3.7239e-05 - mse: 3.7239e-05 - val_loss: 0.1754 - val_mse: 0.1754\n",
            "Epoch 15/20\n",
            "750/750 [==============================] - 2s 3ms/step - loss: 3.3433e-05 - mse: 3.3433e-05 - val_loss: 0.1762 - val_mse: 0.1762\n",
            "Epoch 16/20\n",
            "750/750 [==============================] - 2s 3ms/step - loss: 2.7996e-05 - mse: 2.7996e-05 - val_loss: 0.1783 - val_mse: 0.1783\n",
            "Epoch 17/20\n",
            "750/750 [==============================] - 2s 3ms/step - loss: 2.5745e-05 - mse: 2.5745e-05 - val_loss: 0.1753 - val_mse: 0.1753\n",
            "Epoch 18/20\n",
            "750/750 [==============================] - 2s 3ms/step - loss: 2.3182e-05 - mse: 2.3182e-05 - val_loss: 0.1773 - val_mse: 0.1773\n",
            "Epoch 19/20\n",
            "750/750 [==============================] - 3s 4ms/step - loss: 2.1124e-05 - mse: 2.1124e-05 - val_loss: 0.1763 - val_mse: 0.1763\n",
            "Epoch 20/20\n",
            "750/750 [==============================] - 2s 3ms/step - loss: 2.0388e-05 - mse: 2.0388e-05 - val_loss: 0.1755 - val_mse: 0.1755\n"
          ]
        }
      ]
    },
    {
      "cell_type": "code",
      "source": [
        "# Perform the prediction\n",
        "y_predicted_model_9 = model_9.predict(test_set_unshuffled_scaled[:, 0])\n",
        "y_predicted_model_9 = y_predicted_model_9.reshape((y_predicted_model_9.shape[0],))"
      ],
      "metadata": {
        "colab": {
          "base_uri": "https://localhost:8080/"
        },
        "id": "va8g9RG2qJn8",
        "outputId": "3d71d065-22b3-4106-c015-16a0585c5e88"
      },
      "execution_count": null,
      "outputs": [
        {
          "output_type": "stream",
          "name": "stdout",
          "text": [
            "188/188 [==============================] - 0s 1ms/step\n"
          ]
        }
      ]
    },
    {
      "cell_type": "code",
      "source": [
        "# Now plot the result for case 8\n",
        "fig, ax = plt.subplots(2,1, figsize=(15, 15))\n",
        "\n",
        "ax[0].scatter(test_set_unshuffled_scaled[:, 0], test_set_unshuffled_scaled[:, 1], color='blue', linewidth=.5)\n",
        "ax[0].yaxis.set_major_formatter(FormatStrFormatter('%.5f'))\n",
        "ax[0].set_title(\"test x vs. actual y\")\n",
        "\n",
        "ax[1].scatter(test_set_unshuffled_scaled[:, 0], y_predicted_model_9, color='red', linewidth=.5)\n",
        "ax[1].yaxis.set_major_formatter(FormatStrFormatter('%.5f'))\n",
        "ax[1].set_title(\"test x vs. predicted y\")\n",
        "\n",
        "for x in ax.flat:\n",
        "    x.set(xlabel='X', ylabel='Y')\n",
        "plt.suptitle(\"Performance of Model 9\")"
      ],
      "metadata": {
        "colab": {
          "base_uri": "https://localhost:8080/",
          "height": 893
        },
        "id": "28fuz8bZqnGo",
        "outputId": "b5033dfc-663b-48ec-b6d7-9246a887d34e"
      },
      "execution_count": null,
      "outputs": [
        {
          "output_type": "display_data",
          "data": {
            "text/plain": [
              "<Figure size 1080x1080 with 2 Axes>"
            ],
            "image/png": "[encoded data removed]"
          },
          "metadata": {
            "needs_background": "light"
          }
        }
      ]
    },
    {
      "cell_type": "markdown",
      "source": [
        "Model 9 performance metrics below"
      ],
      "metadata": {
        "id": "pzv57ZEHq3_g"
      }
    },
    {
      "cell_type": "code",
      "source": [
        "MAE_model_9, MSE_model_9, RMSE_model_9, R_2_model_9 = calculate_errors(test_set_unshuffled_scaled[:, 1], y_predicted_model_9)\n",
        "print(\"MAE: \", MAE_model_9)\n",
        "print(\"MSE: \", MSE_model_9)\n",
        "print(\"RMSE: \", RMSE_model_9)\n",
        "print(\"R_2: \", R_2_model_9)"
      ],
      "metadata": {
        "colab": {
          "base_uri": "https://localhost:8080/"
        },
        "id": "ofmlefN6q6rn",
        "outputId": "69817749-d0e0-42df-b557-42e7df6dfc94"
      },
      "execution_count": null,
      "outputs": [
        {
          "output_type": "stream",
          "name": "stdout",
          "text": [
            "MAE:  0.12883498683971226\n",
            "MSE:  0.02091640626557159\n",
            "RMSE:  0.14462505407283896\n",
            "R_2:  0.7385464540407349\n"
          ]
        }
      ]
    },
    {
      "cell_type": "markdown",
      "source": [
        "As expected, we got a much better R2 score now, compared to model 6. Furthermore, we do not have the \"Dying Relu\" problem as we had in model 6. This is because we scaled our input and output values to have values from 0 to 1. Having no negative values helped us to avoid dying relu problem."
      ],
      "metadata": {
        "id": "twj4-Cfwr0Jy"
      }
    },
    {
      "cell_type": "markdown",
      "source": [
        "<a name=\"case10\"></a>\n",
        "##case 10: unshuffle and scaled data, structure 1 with tanh activation"
      ],
      "metadata": {
        "id": "3bHa0IwEsWT1"
      }
    },
    {
      "cell_type": "code",
      "source": [
        "model_10 = Sequential()\n",
        "# Hidden layers\n",
        "model_10.add(Dense(units=12, activation='tanh', input_dim=1))\n",
        "model_10.add(Dense(units=8, activation='tanh'))\n",
        "model_10.add(Dense(units=4, activation='tanh'))\n",
        "# The output layer\n",
        "model_10.add(Dense(units=1))"
      ],
      "metadata": {
        "id": "K9_7RzuDsohs"
      },
      "execution_count": null,
      "outputs": []
    },
    {
      "cell_type": "code",
      "source": [
        "model_10.compile(loss='mse', optimizer='adam', metrics='mse')"
      ],
      "metadata": {
        "id": "rn4CpZoXs8bA"
      },
      "execution_count": null,
      "outputs": []
    },
    {
      "cell_type": "code",
      "source": [
        "# Lets train the model\n",
        "history_10 = model_10.fit(train_set_unshuffled_scaled[:,0], train_set_unshuffled_scaled[:,1], epochs=20, batch_size=12,\n",
        "                       validation_data=(validation_set_unshuffled_scaled[:,0], validation_set_unshuffled_scaled[:, 1]),)"
      ],
      "metadata": {
        "colab": {
          "base_uri": "https://localhost:8080/"
        },
        "id": "JlvNR7BztB-p",
        "outputId": "e87a2dd0-0a84-4450-fb4a-be3e3488a39d"
      },
      "execution_count": null,
      "outputs": [
        {
          "output_type": "stream",
          "name": "stdout",
          "text": [
            "Epoch 1/20\n",
            "750/750 [==============================] - 3s 4ms/step - loss: 0.0170 - mse: 0.0170 - val_loss: 0.1764 - val_mse: 0.1764\n",
            "Epoch 2/20\n",
            "750/750 [==============================] - 3s 3ms/step - loss: 4.1597e-05 - mse: 4.1597e-05 - val_loss: 0.1762 - val_mse: 0.1762\n",
            "Epoch 3/20\n",
            "750/750 [==============================] - 3s 4ms/step - loss: 3.4919e-05 - mse: 3.4919e-05 - val_loss: 0.1758 - val_mse: 0.1758\n",
            "Epoch 4/20\n",
            "750/750 [==============================] - 2s 3ms/step - loss: 2.7649e-05 - mse: 2.7649e-05 - val_loss: 0.1765 - val_mse: 0.1765\n",
            "Epoch 5/20\n",
            "750/750 [==============================] - 2s 3ms/step - loss: 2.1636e-05 - mse: 2.1636e-05 - val_loss: 0.1767 - val_mse: 0.1767\n",
            "Epoch 6/20\n",
            "750/750 [==============================] - 2s 3ms/step - loss: 1.5925e-05 - mse: 1.5925e-05 - val_loss: 0.1767 - val_mse: 0.1767\n",
            "Epoch 7/20\n",
            "750/750 [==============================] - 2s 3ms/step - loss: 1.1605e-05 - mse: 1.1605e-05 - val_loss: 0.1756 - val_mse: 0.1756\n",
            "Epoch 8/20\n",
            "750/750 [==============================] - 3s 4ms/step - loss: 9.0149e-06 - mse: 9.0149e-06 - val_loss: 0.1761 - val_mse: 0.1761\n",
            "Epoch 9/20\n",
            "750/750 [==============================] - 2s 3ms/step - loss: 6.9149e-06 - mse: 6.9149e-06 - val_loss: 0.1760 - val_mse: 0.1760\n",
            "Epoch 10/20\n",
            "750/750 [==============================] - 2s 3ms/step - loss: 6.3229e-06 - mse: 6.3229e-06 - val_loss: 0.1769 - val_mse: 0.1769\n",
            "Epoch 11/20\n",
            "750/750 [==============================] - 2s 3ms/step - loss: 5.9895e-06 - mse: 5.9895e-06 - val_loss: 0.1754 - val_mse: 0.1754\n",
            "Epoch 12/20\n",
            "750/750 [==============================] - 4s 5ms/step - loss: 5.3291e-06 - mse: 5.3291e-06 - val_loss: 0.1761 - val_mse: 0.1761\n",
            "Epoch 13/20\n",
            "750/750 [==============================] - 2s 3ms/step - loss: 5.8114e-06 - mse: 5.8114e-06 - val_loss: 0.1763 - val_mse: 0.1763\n",
            "Epoch 14/20\n",
            "750/750 [==============================] - 3s 3ms/step - loss: 5.4758e-06 - mse: 5.4758e-06 - val_loss: 0.1748 - val_mse: 0.1748\n",
            "Epoch 15/20\n",
            "750/750 [==============================] - 2s 3ms/step - loss: 4.9907e-06 - mse: 4.9907e-06 - val_loss: 0.1769 - val_mse: 0.1769\n",
            "Epoch 16/20\n",
            "750/750 [==============================] - 2s 3ms/step - loss: 4.3478e-06 - mse: 4.3478e-06 - val_loss: 0.1767 - val_mse: 0.1767\n",
            "Epoch 17/20\n",
            "750/750 [==============================] - 4s 5ms/step - loss: 4.1449e-06 - mse: 4.1449e-06 - val_loss: 0.1750 - val_mse: 0.1750\n",
            "Epoch 18/20\n",
            "750/750 [==============================] - 2s 3ms/step - loss: 3.8346e-06 - mse: 3.8346e-06 - val_loss: 0.1769 - val_mse: 0.1769\n",
            "Epoch 19/20\n",
            "750/750 [==============================] - 2s 3ms/step - loss: 3.6010e-06 - mse: 3.6010e-06 - val_loss: 0.1763 - val_mse: 0.1763\n",
            "Epoch 20/20\n",
            "750/750 [==============================] - 2s 3ms/step - loss: 3.5316e-06 - mse: 3.5316e-06 - val_loss: 0.1770 - val_mse: 0.1770\n"
          ]
        }
      ]
    },
    {
      "cell_type": "code",
      "source": [
        "# Perform the prediction\n",
        "y_predicted_model_10 = model_10.predict(test_set_unshuffled_scaled[:, 0])\n",
        "y_predicted_model_10 = y_predicted_model_10.reshape((y_predicted_model_10.shape[0],))"
      ],
      "metadata": {
        "colab": {
          "base_uri": "https://localhost:8080/"
        },
        "id": "lbuvYiTLtOVe",
        "outputId": "54668e1f-d09f-4b6a-e99a-b514de4da08d"
      },
      "execution_count": null,
      "outputs": [
        {
          "output_type": "stream",
          "name": "stdout",
          "text": [
            "188/188 [==============================] - 0s 987us/step\n"
          ]
        }
      ]
    },
    {
      "cell_type": "code",
      "source": [
        "# Now plot the result for case 8\n",
        "fig, ax = plt.subplots(2,1, figsize=(15, 15))\n",
        "\n",
        "ax[0].scatter(test_set_unshuffled_scaled[:, 0], test_set_unshuffled_scaled[:, 1], color='blue', linewidth=.5)\n",
        "ax[0].yaxis.set_major_formatter(FormatStrFormatter('%.5f'))\n",
        "ax[0].set_title(\"test x vs. actual y\")\n",
        "\n",
        "ax[1].scatter(test_set_unshuffled_scaled[:, 0], y_predicted_model_10, color='red', linewidth=.5)\n",
        "ax[1].yaxis.set_major_formatter(FormatStrFormatter('%.5f'))\n",
        "ax[1].set_title(\"test x vs. predicted y\")\n",
        "\n",
        "for x in ax.flat:\n",
        "    x.set(xlabel='X', ylabel='Y')\n",
        "plt.suptitle(\"Performance of Model 10\")"
      ],
      "metadata": {
        "colab": {
          "base_uri": "https://localhost:8080/",
          "height": 893
        },
        "id": "ws1hyx93tiH6",
        "outputId": "a99bd9a0-91a6-43ce-8e9a-911425352b78"
      },
      "execution_count": null,
      "outputs": [
        {
          "output_type": "display_data",
          "data": {
            "text/plain": [
              "<Figure size 1080x1080 with 2 Axes>"
            ],
            "image/png": "[encoded data removed]"
          },
          "metadata": {
            "needs_background": "light"
          }
        }
      ]
    },
    {
      "cell_type": "markdown",
      "source": [
        "Model 10 performance metrics below"
      ],
      "metadata": {
        "id": "B-dp6ojOt2je"
      }
    },
    {
      "cell_type": "code",
      "source": [
        "MAE_model_10, MSE_model_10, RMSE_model_10, R_2_model_10 = calculate_errors(test_set_unshuffled_scaled[:, 1], y_predicted_model_10)\n",
        "print(\"MAE: \", MAE_model_10)\n",
        "print(\"MSE: \", MSE_model_10)\n",
        "print(\"RMSE: \", RMSE_model_10)\n",
        "print(\"R_2: \", R_2_model_10)"
      ],
      "metadata": {
        "colab": {
          "base_uri": "https://localhost:8080/"
        },
        "id": "lnopVUd1t6ew",
        "outputId": "b35d6542-5591-4f31-8657-37a7e0ff8339"
      },
      "execution_count": null,
      "outputs": [
        {
          "output_type": "stream",
          "name": "stdout",
          "text": [
            "MAE:  0.12706947678335856\n",
            "MSE:  0.020414216638519587\n",
            "RMSE:  0.14287832809254028\n",
            "R_2:  0.7448237875878857\n"
          ]
        }
      ]
    },
    {
      "cell_type": "markdown",
      "source": [
        "As expected, this model performed slightly better compared to model 9 because of the fact that our data was unshuffled and tanh fnction is zero-centred."
      ],
      "metadata": {
        "id": "gD6SBTkqv2ab"
      }
    },
    {
      "cell_type": "markdown",
      "source": [
        "<a name=\"demo2\"></a>\n",
        "\n",
        "#Part B: Implementation of an XOR gate using Multilayer Neural Network"
      ],
      "metadata": {
        "id": "c2lbecBtTnCG"
      }
    },
    {
      "cell_type": "markdown",
      "source": [
        "Before designing this, we observe that the XOR logic gate result A XOR B = (A OR B) AND (A NAND B). Therefore we expect to have just one hidden layer consisting of AT LEAST two neurons which will be computing OR and NAND operations before the final output layer computes the AND operation, giving us the XOR result. With regards to the activation function, Sigmoid will suffice since our network is not deep at all. Epoch number and learning rate will be fine tuned depending on the prediction performance.\n",
        "\n",
        "Note that more neurons in the hidden layer is expected to give better performance."
      ],
      "metadata": {
        "id": "T8uELrgnxNFA"
      }
    },
    {
      "cell_type": "code",
      "source": [
        "class NeuralNetwork:\n",
        "    \"\"\"\n",
        "    This class is for a Neural Network with a single hidden layer\n",
        "    Attributes:\n",
        "    training_X: The input data numpy array with shape of (4, 2)\n",
        "    training_Y: The output data numpy array with shape of (4, 1)\n",
        "    alpha: the learning rate. Default val is 0.2\n",
        "    num_of_epochs: The number of times the model's training algorithm goes through the entire train set\n",
        "    num_of_features: Since this class is designed to handle only input feature data with shape (4, 2), num_of_features = 2\n",
        "    num_of_hidden_layer_neurons: Number of hidden layer neurons (excluding the bias)\n",
        "    num_of_final_outputs: Since this class was designed to handle only training label data of shape (4, 1), num_of_final_outputs = 1\n",
        "    \"\"\"\n",
        "    def __init__(self, training_X, training_Y, alpha=0.2, num_of_epochs=100, num_of_features=2, num_of_hidden_layer_neurons=2, num_of_final_outputs=1):\n",
        "\n",
        "        self.training_X = training_X\n",
        "        self.training_Y = training_Y\n",
        "        self.alpha = alpha\n",
        "        self.num_of_epochs = num_of_epochs\n",
        "\n",
        "        # Random init of weights and biases\n",
        "        # Weights between input and hidden layer\n",
        "        self.weights_to_hidden_layer = np.random.uniform(size=(num_of_features, num_of_hidden_layer_neurons))\n",
        "\n",
        "        # Weights between hidden and output layer\n",
        "        self.weights_to_output_layer = np.random.uniform(size=(num_of_hidden_layer_neurons, num_of_final_outputs))\n",
        "\n",
        "        # Biases for the  hidden layer\n",
        "        self.bias_to_hidden_layer = np.random.uniform(size=(1,num_of_hidden_layer_neurons))\n",
        "        # Biases for the output layer\n",
        "        self.bias_to_output_layer = np.random.uniform(size=(1,num_of_final_outputs))\n",
        "\n",
        "        # Stores total MSE loss at the end of each epoch\n",
        "        self.mse_loss_by_epoch = []\n",
        "\n",
        "    def sigmoid(self, x):\n",
        "        \"\"\"\n",
        "        Sigmoid activation function\n",
        "        \"\"\"\n",
        "        return 1 / (1 + np.exp(-x))\n",
        "\n",
        "    def derivitive_sigmoid(self, x):\n",
        "        \"\"\"\n",
        "        First derivative of the sigmoid function wrt x\n",
        "        \"\"\"\n",
        "        return x * (1 - x)\n",
        "\n",
        "    def forward_propagate(self, features):\n",
        "        \"\"\"\n",
        "        Vectorized forward propagation\n",
        "        \"\"\"\n",
        "\n",
        "        self.hidden_layer_in = np.dot(features, self.weights_to_hidden_layer) + self.bias_to_hidden_layer\n",
        "\n",
        "        self.hidden_out = self.sigmoid(self.hidden_layer_in)\n",
        "\n",
        "        self.raw_output = np.dot(self.hidden_out, self.weights_to_output_layer) + self.bias_to_output_layer\n",
        "        self.probability_output = self.sigmoid(self.raw_output)\n",
        "\n",
        "        return self.probability_output\n",
        "\n",
        "    def backpropagate(self):\n",
        "        \"\"\"\n",
        "        Vectorized backpropagation\n",
        "        \"\"\"\n",
        "        # Calculate the MSE  error\n",
        "        mse_error = 0.5 * (self.training_Y - self.probability_output) ** 2\n",
        "\n",
        "        total_mse_error= np.sum(mse_error)\n",
        "\n",
        "        print(\"Total MSE error after \" , len(self.mse_loss_by_epoch) , \" epoch = \",  total_mse_error)\n",
        "        self.mse_loss_by_epoch.append(total_mse_error)\n",
        "\n",
        "        # Below is the derivitive of the mse error formula\n",
        "        d_mse_error = (self.probability_output - self.training_Y)\n",
        "\n",
        "        # the gradient for the hidden layer weights\n",
        "        gradient_1st = self.training_X.T @ (((d_mse_error * self.derivitive_sigmoid(self.probability_output)) * self.weights_to_output_layer.T) * self.derivitive_sigmoid(self.hidden_out)) # AA: @ just means matrix multiplication IMPORTANT: May be it's just the chain rule\n",
        "\n",
        "\n",
        "        # the gradient for the output layer weights\n",
        "        gradient_2nd = self.hidden_out.T @ (d_mse_error * self.derivitive_sigmoid(self.probability_output)) # IMPORTANT: May be it's just the chain rule. note the paramater passed to the derivitive_sigmoid should be \"self.output\" PROBABLY\n",
        "\n",
        "\n",
        "        # updating the weights by the learning rate times their gradient\n",
        "        self.weights_to_hidden_layer -= self.alpha * gradient_1st # AA: IMPORTANT: The update sign here is + cuz in line 43 the sign was reversed\n",
        "        self.weights_to_output_layer -= self.alpha * gradient_2nd\n",
        "\n",
        "        # update the biases the same way\n",
        "        self.bias_to_hidden_layer -= np.sum(self.alpha * ((d_mse_error * self.derivitive_sigmoid(self.probability_output)) * self.weights_to_output_layer.T) * self.derivitive_sigmoid(self.hidden_out), axis=0) # IMPORTANT: May be it's just the chain rule\n",
        "        self.bias_to_output_layer -= np.sum(self.alpha * d_mse_error * self.derivitive_sigmoid(self.probability_output), axis=0) # IMPORTANT: May be it's just the chain rule\n",
        "\n",
        "\n",
        "    def train(self):\n",
        "        \"\"\"\n",
        "        Involves steps of forward propagation, and then backward propagatrion\n",
        "        \"\"\"\n",
        "        for _ in range(self.num_of_epochs):\n",
        "            self.forward_propagate(self.training_X)\n",
        "            self.backpropagate()\n",
        "\n",
        "    def predict(self, feature_vals):\n",
        "        \"\"\"\n",
        "        This is to label data points based on their feature values by converting\n",
        "        their probablity scores into actual class label. When probability >= 0.5, this\n",
        "        point's class label is 1\n",
        "        \"\"\"\n",
        "        feature_vals = np.transpose(feature_vals)\n",
        "\n",
        "        if (self.forward_propagate(feature_vals) >= 0.5):\n",
        "          return 1\n",
        "\n",
        "        else:\n",
        "          return 0\n",
        "\n",
        "\n"
      ],
      "metadata": {
        "id": "-rh6nUCkzUIQ"
      },
      "execution_count": null,
      "outputs": []
    },
    {
      "cell_type": "markdown",
      "source": [
        "Our dataset"
      ],
      "metadata": {
        "id": "bX5Qdu5AzgCC"
      }
    },
    {
      "cell_type": "code",
      "source": [
        "train_X = np.array([\n",
        "    [0, 0],\n",
        "    [0, 1],\n",
        "    [1, 0],\n",
        "    [1, 1]\n",
        "])\n",
        "target_Y = np.array([\n",
        "    [0],\n",
        "    [1],\n",
        "    [1],\n",
        "    [0]\n",
        "])"
      ],
      "metadata": {
        "id": "Z_JtekgsztCU"
      },
      "execution_count": null,
      "outputs": []
    },
    {
      "cell_type": "markdown",
      "source": [
        "Now we train the model"
      ],
      "metadata": {
        "id": "QPfRYdBr0RwW"
      }
    },
    {
      "cell_type": "code",
      "source": [
        "XOR_net = NeuralNetwork(train_X, target_Y, alpha = 0.4, num_of_epochs=1200, num_of_hidden_layer_neurons=4)\n",
        "XOR_net.train()"
      ],
      "metadata": {
        "colab": {
          "base_uri": "https://localhost:8080/"
        },
        "id": "3K-LVMok0VR_",
        "outputId": "d73586fa-cb39-4918-b1cf-1e619955c09b"
      },
      "execution_count": null,
      "outputs": [
        {
          "output_type": "stream",
          "name": "stdout",
          "text": [
            "Total MSE error after  0  epoch =  0.7620546268760477\n",
            "Total MSE error after  1  epoch =  0.7237401784900435\n",
            "Total MSE error after  2  epoch =  0.6802969973716844\n",
            "Total MSE error after  3  epoch =  0.6344781938952562\n",
            "Total MSE error after  4  epoch =  0.5911729304267836\n",
            "Total MSE error after  5  epoch =  0.5557235753951568\n",
            "Total MSE error after  6  epoch =  0.5309650734267596\n",
            "Total MSE error after  7  epoch =  0.5159985276951509\n",
            "Total MSE error after  8  epoch =  0.5078761252096029\n",
            "Total MSE error after  9  epoch =  0.5037562869075227\n",
            "Total MSE error after  10  epoch =  0.5017418913869414\n",
            "Total MSE error after  11  epoch =  0.5007731834807501\n",
            "Total MSE error after  12  epoch =  0.5003088015523723\n",
            "Total MSE error after  13  epoch =  0.5000841349988097\n",
            "Total MSE error after  14  epoch =  0.4999725956369995\n",
            "Total MSE error after  15  epoch =  0.49991425284834423\n",
            "Total MSE error after  16  epoch =  0.49988087767526257\n",
            "Total MSE error after  17  epoch =  0.4998592068317902\n",
            "Total MSE error after  18  epoch =  0.499843016404125\n",
            "Total MSE error after  19  epoch =  0.4998293875614439\n",
            "Total MSE error after  20  epoch =  0.4998169517967142\n",
            "Total MSE error after  21  epoch =  0.49980506744572784\n",
            "Total MSE error after  22  epoch =  0.4997934335105436\n",
            "Total MSE error after  23  epoch =  0.4997819086305838\n",
            "Total MSE error after  24  epoch =  0.4997704262414448\n",
            "Total MSE error after  25  epoch =  0.49975895481943455\n",
            "Total MSE error after  26  epoch =  0.4997474792548715\n",
            "Total MSE error after  27  epoch =  0.49973599212572\n",
            "Total MSE error after  28  epoch =  0.49972448960975335\n",
            "Total MSE error after  29  epoch =  0.4997129695697764\n",
            "Total MSE error after  30  epoch =  0.49970143065679945\n",
            "Total MSE error after  31  epoch =  0.499689871890023\n",
            "Total MSE error after  32  epoch =  0.49967829246013995\n",
            "Total MSE error after  33  epoch =  0.499666691637222\n",
            "Total MSE error after  34  epoch =  0.49965506872757737\n",
            "Total MSE error after  35  epoch =  0.4996434230535348\n",
            "Total MSE error after  36  epoch =  0.49963175394396064\n",
            "Total MSE error after  37  epoch =  0.49962006072979626\n",
            "Total MSE error after  38  epoch =  0.4996083427419452\n",
            "Total MSE error after  39  epoch =  0.4995965993102585\n",
            "Total MSE error after  40  epoch =  0.4995848297630314\n",
            "Total MSE error after  41  epoch =  0.4995730334267401\n",
            "Total MSE error after  42  epoch =  0.4995612096258899\n",
            "Total MSE error after  43  epoch =  0.4995493576829141\n",
            "Total MSE error after  44  epoch =  0.499537476918097\n",
            "Total MSE error after  45  epoch =  0.49952556664950737\n",
            "Total MSE error after  46  epoch =  0.49951362619293727\n",
            "Total MSE error after  47  epoch =  0.4995016548618422\n",
            "Total MSE error after  48  epoch =  0.4994896519672826\n",
            "Total MSE error after  49  epoch =  0.49947761681786507\n",
            "Total MSE error after  50  epoch =  0.49946554871968374\n",
            "Total MSE error after  51  epoch =  0.4994534469762617\n",
            "Total MSE error after  52  epoch =  0.49944131088849153\n",
            "Total MSE error after  53  epoch =  0.4994291397545765\n",
            "Total MSE error after  54  epoch =  0.4994169328699705\n",
            "Total MSE error after  55  epoch =  0.49940468952731865\n",
            "Total MSE error after  56  epoch =  0.49939240901639714\n",
            "Total MSE error after  57  epoch =  0.499380090624053\n",
            "Total MSE error after  58  epoch =  0.4993677336341429\n",
            "Total MSE error after  59  epoch =  0.49935533732747317\n",
            "Total MSE error after  60  epoch =  0.4993429009817382\n",
            "Total MSE error after  61  epoch =  0.4993304238714591\n",
            "Total MSE error after  62  epoch =  0.49931790526792186\n",
            "Total MSE error after  63  epoch =  0.49930534443911556\n",
            "Total MSE error after  64  epoch =  0.4992927406496695\n",
            "Total MSE error after  65  epoch =  0.49928009316079197\n",
            "Total MSE error after  66  epoch =  0.49926740123020563\n",
            "Total MSE error after  67  epoch =  0.4992546641120852\n",
            "Total MSE error after  68  epoch =  0.4992418810569935\n",
            "Total MSE error after  69  epoch =  0.4992290513118185\n",
            "Total MSE error after  70  epoch =  0.4992161741197075\n",
            "Total MSE error after  71  epoch =  0.49920324872000355\n",
            "Total MSE error after  72  epoch =  0.49919027434818086\n",
            "Total MSE error after  73  epoch =  0.4991772502357781\n",
            "Total MSE error after  74  epoch =  0.4991641756103342\n",
            "Total MSE error after  75  epoch =  0.49915104969532154\n",
            "Total MSE error after  76  epoch =  0.4991378717100794\n",
            "Total MSE error after  77  epoch =  0.4991246408697478\n",
            "Total MSE error after  78  epoch =  0.49911135638519966\n",
            "Total MSE error after  79  epoch =  0.49909801746297344\n",
            "Total MSE error after  80  epoch =  0.49908462330520525\n",
            "Total MSE error after  81  epoch =  0.49907117310956045\n",
            "Total MSE error after  82  epoch =  0.49905766606916413\n",
            "Total MSE error after  83  epoch =  0.49904410137253286\n",
            "Total MSE error after  84  epoch =  0.4990304782035043\n",
            "Total MSE error after  85  epoch =  0.4990167957411676\n",
            "Total MSE error after  86  epoch =  0.49900305315979165\n",
            "Total MSE error after  87  epoch =  0.49898924962875557\n",
            "Total MSE error after  88  epoch =  0.49897538431247623\n",
            "Total MSE error after  89  epoch =  0.49896145637033645\n",
            "Total MSE error after  90  epoch =  0.49894746495661246\n",
            "Total MSE error after  91  epoch =  0.4989334092204012\n",
            "Total MSE error after  92  epoch =  0.49891928830554655\n",
            "Total MSE error after  93  epoch =  0.49890510135056604\n",
            "Total MSE error after  94  epoch =  0.49889084748857565\n",
            "Total MSE error after  95  epoch =  0.4988765258472152\n",
            "Total MSE error after  96  epoch =  0.49886213554857295\n",
            "Total MSE error after  97  epoch =  0.4988476757091096\n",
            "Total MSE error after  98  epoch =  0.49883314543958124\n",
            "Total MSE error after  99  epoch =  0.49881854384496316\n",
            "Total MSE error after  100  epoch =  0.4988038700243719\n",
            "Total MSE error after  101  epoch =  0.49878912307098655\n",
            "Total MSE error after  102  epoch =  0.4987743020719706\n",
            "Total MSE error after  103  epoch =  0.49875940610839237\n",
            "Total MSE error after  104  epoch =  0.4987444342551453\n",
            "Total MSE error after  105  epoch =  0.49872938558086755\n",
            "Total MSE error after  106  epoch =  0.4987142591478606\n",
            "Total MSE error after  107  epoch =  0.4986990540120074\n",
            "Total MSE error after  108  epoch =  0.498683769222691\n",
            "Total MSE error after  109  epoch =  0.4986684038227105\n",
            "Total MSE error after  110  epoch =  0.49865295684819855\n",
            "Total MSE error after  111  epoch =  0.49863742732853694\n",
            "Total MSE error after  112  epoch =  0.4986218142862713\n",
            "Total MSE error after  113  epoch =  0.4986061167370259\n",
            "Total MSE error after  114  epoch =  0.49859033368941774\n",
            "Total MSE error after  115  epoch =  0.4985744641449703\n",
            "Total MSE error after  116  epoch =  0.49855850709802463\n",
            "Total MSE error after  117  epoch =  0.49854246153565274\n",
            "Total MSE error after  118  epoch =  0.4985263264375681\n",
            "Total MSE error after  119  epoch =  0.4985101007760364\n",
            "Total MSE error after  120  epoch =  0.498493783515785\n",
            "Total MSE error after  121  epoch =  0.49847737361391253\n",
            "Total MSE error after  122  epoch =  0.4984608700197971\n",
            "Total MSE error after  123  epoch =  0.4984442716750036\n",
            "Total MSE error after  124  epoch =  0.49842757751319133\n",
            "Total MSE error after  125  epoch =  0.49841078646001935\n",
            "Total MSE error after  126  epoch =  0.49839389743305307\n",
            "Total MSE error after  127  epoch =  0.4983769093416674\n",
            "Total MSE error after  128  epoch =  0.49835982108695215\n",
            "Total MSE error after  129  epoch =  0.4983426315616144\n",
            "Total MSE error after  130  epoch =  0.49832533964988046\n",
            "Total MSE error after  131  epoch =  0.4983079442273987\n",
            "Total MSE error after  132  epoch =  0.4982904441611392\n",
            "Total MSE error after  133  epoch =  0.49827283830929403\n",
            "Total MSE error after  134  epoch =  0.49825512552117646\n",
            "Total MSE error after  135  epoch =  0.49823730463711946\n",
            "Total MSE error after  136  epoch =  0.49821937448837283\n",
            "Total MSE error after  137  epoch =  0.49820133389700005\n",
            "Total MSE error after  138  epoch =  0.49818318167577413\n",
            "Total MSE error after  139  epoch =  0.4981649166280724\n",
            "Total MSE error after  140  epoch =  0.49814653754777033\n",
            "Total MSE error after  141  epoch =  0.4981280432191358\n",
            "Total MSE error after  142  epoch =  0.4981094324167198\n",
            "Total MSE error after  143  epoch =  0.49809070390524934\n",
            "Total MSE error after  144  epoch =  0.4980718564395171\n",
            "Total MSE error after  145  epoch =  0.4980528887642714\n",
            "Total MSE error after  146  epoch =  0.4980337996141047\n",
            "Total MSE error after  147  epoch =  0.4980145877133415\n",
            "Total MSE error after  148  epoch =  0.4979952517759254\n",
            "Total MSE error after  149  epoch =  0.49797579050530444\n",
            "Total MSE error after  150  epoch =  0.4979562025943167\n",
            "Total MSE error after  151  epoch =  0.4979364867250733\n",
            "Total MSE error after  152  epoch =  0.497916641568843\n",
            "Total MSE error after  153  epoch =  0.4978966657859328\n",
            "Total MSE error after  154  epoch =  0.4978765580255695\n",
            "Total MSE error after  155  epoch =  0.49785631692577986\n",
            "Total MSE error after  156  epoch =  0.4978359411132696\n",
            "Total MSE error after  157  epoch =  0.4978154292033017\n",
            "Total MSE error after  158  epoch =  0.49779477979957265\n",
            "Total MSE error after  159  epoch =  0.4977739914940893\n",
            "Total MSE error after  160  epoch =  0.49775306286704335\n",
            "Total MSE error after  161  epoch =  0.49773199248668565\n",
            "Total MSE error after  162  epoch =  0.49771077890919857\n",
            "Total MSE error after  163  epoch =  0.497689420678568\n",
            "Total MSE error after  164  epoch =  0.4976679163264546\n",
            "Total MSE error after  165  epoch =  0.4976462643720621\n",
            "Total MSE error after  166  epoch =  0.4976244633220076\n",
            "Total MSE error after  167  epoch =  0.49760251167018776\n",
            "Total MSE error after  168  epoch =  0.4975804078976458\n",
            "Total MSE error after  169  epoch =  0.497558150472436\n",
            "Total MSE error after  170  epoch =  0.4975357378494888\n",
            "Total MSE error after  171  epoch =  0.49751316847047333\n",
            "Total MSE error after  172  epoch =  0.49749044076365867\n",
            "Total MSE error after  173  epoch =  0.49746755314377566\n",
            "Total MSE error after  174  epoch =  0.4974445040118758\n",
            "Total MSE error after  175  epoch =  0.4974212917551895\n",
            "Total MSE error after  176  epoch =  0.4973979147469837\n",
            "Total MSE error after  177  epoch =  0.4973743713464174\n",
            "Total MSE error after  178  epoch =  0.4973506598983971\n",
            "Total MSE error after  179  epoch =  0.4973267787334298\n",
            "Total MSE error after  180  epoch =  0.49730272616747606\n",
            "Total MSE error after  181  epoch =  0.49727850050180056\n",
            "Total MSE error after  182  epoch =  0.49725410002282244\n",
            "Total MSE error after  183  epoch =  0.49722952300196405\n",
            "Total MSE error after  184  epoch =  0.4972047676954986\n",
            "Total MSE error after  185  epoch =  0.4971798323443956\n",
            "Total MSE error after  186  epoch =  0.4971547151741674\n",
            "Total MSE error after  187  epoch =  0.49712941439471137\n",
            "Total MSE error after  188  epoch =  0.4971039282001533\n",
            "Total MSE error after  189  epoch =  0.4970782547686883\n",
            "Total MSE error after  190  epoch =  0.49705239226242093\n",
            "Total MSE error after  191  epoch =  0.4970263388272032\n",
            "Total MSE error after  192  epoch =  0.4970000925924727\n",
            "Total MSE error after  193  epoch =  0.4969736516710882\n",
            "Total MSE error after  194  epoch =  0.4969470141591642\n",
            "Total MSE error after  195  epoch =  0.4969201781359045\n",
            "Total MSE error after  196  epoch =  0.4968931416634344\n",
            "Total MSE error after  197  epoch =  0.4968659027866308\n",
            "Total MSE error after  198  epoch =  0.49683845953295236\n",
            "Total MSE error after  199  epoch =  0.4968108099122667\n",
            "Total MSE error after  200  epoch =  0.49678295191667754\n",
            "Total MSE error after  201  epoch =  0.49675488352035\n",
            "Total MSE error after  202  epoch =  0.4967266026793342\n",
            "Total MSE error after  203  epoch =  0.4966981073313877\n",
            "Total MSE error after  204  epoch =  0.49666939539579724\n",
            "Total MSE error after  205  epoch =  0.496640464773198\n",
            "Total MSE error after  206  epoch =  0.49661131334539166\n",
            "Total MSE error after  207  epoch =  0.49658193897516434\n",
            "Total MSE error after  208  epoch =  0.49655233950610067\n",
            "Total MSE error after  209  epoch =  0.4965225127623998\n",
            "Total MSE error after  210  epoch =  0.496492456548686\n",
            "Total MSE error after  211  epoch =  0.49646216864982173\n",
            "Total MSE error after  212  epoch =  0.49643164683071617\n",
            "Total MSE error after  213  epoch =  0.4964008888361347\n",
            "Total MSE error after  214  epoch =  0.4963698923905045\n",
            "Total MSE error after  215  epoch =  0.4963386551977215\n",
            "Total MSE error after  216  epoch =  0.49630717494095367\n",
            "Total MSE error after  217  epoch =  0.4962754492824436\n",
            "Total MSE error after  218  epoch =  0.49624347586330975\n",
            "Total MSE error after  219  epoch =  0.4962112523033463\n",
            "Total MSE error after  220  epoch =  0.49617877620082085\n",
            "Total MSE error after  221  epoch =  0.496146045132272\n",
            "Total MSE error after  222  epoch =  0.4961130566523036\n",
            "Total MSE error after  223  epoch =  0.49607980829337917\n",
            "Total MSE error after  224  epoch =  0.49604629756561414\n",
            "Total MSE error after  225  epoch =  0.4960125219565662\n",
            "Total MSE error after  226  epoch =  0.4959784789310254\n",
            "Total MSE error after  227  epoch =  0.49594416593080093\n",
            "Total MSE error after  228  epoch =  0.49590958037450855\n",
            "Total MSE error after  229  epoch =  0.4958747196573543\n",
            "Total MSE error after  230  epoch =  0.49583958115091875\n",
            "Total MSE error after  231  epoch =  0.49580416220293855\n",
            "Total MSE error after  232  epoch =  0.4957684601370866\n",
            "Total MSE error after  233  epoch =  0.4957324722527506\n",
            "Total MSE error after  234  epoch =  0.49569619582481095\n",
            "Total MSE error after  235  epoch =  0.4956596281034165\n",
            "Total MSE error after  236  epoch =  0.49562276631375846\n",
            "Total MSE error after  237  epoch =  0.49558560765584325\n",
            "Total MSE error after  238  epoch =  0.4955481493042641\n",
            "Total MSE error after  239  epoch =  0.4955103884079709\n",
            "Total MSE error after  240  epoch =  0.4954723220900378\n",
            "Total MSE error after  241  epoch =  0.49543394744743086\n",
            "Total MSE error after  242  epoch =  0.4953952615507726\n",
            "Total MSE error after  243  epoch =  0.49535626144410627\n",
            "Total MSE error after  244  epoch =  0.495316944144658\n",
            "Total MSE error after  245  epoch =  0.49527730664259706\n",
            "Total MSE error after  246  epoch =  0.4952373459007965\n",
            "Total MSE error after  247  epoch =  0.4951970588545891\n",
            "Total MSE error after  248  epoch =  0.495156442411525\n",
            "Total MSE error after  249  epoch =  0.4951154934511264\n",
            "Total MSE error after  250  epoch =  0.49507420882464015\n",
            "Total MSE error after  251  epoch =  0.49503258535479017\n",
            "Total MSE error after  252  epoch =  0.49499061983552817\n",
            "Total MSE error after  253  epoch =  0.4949483090317815\n",
            "Total MSE error after  254  epoch =  0.49490564967920175\n",
            "Total MSE error after  255  epoch =  0.49486263848390966\n",
            "Total MSE error after  256  epoch =  0.49481927212224097\n",
            "Total MSE error after  257  epoch =  0.49477554724048795\n",
            "Total MSE error after  258  epoch =  0.49473146045464234\n",
            "Total MSE error after  259  epoch =  0.494687008350135\n",
            "Total MSE error after  260  epoch =  0.49464218748157485\n",
            "Total MSE error after  261  epoch =  0.494596994372486\n",
            "Total MSE error after  262  epoch =  0.49455142551504383\n",
            "Total MSE error after  263  epoch =  0.49450547736981\n",
            "Total MSE error after  264  epoch =  0.49445914636546484\n",
            "Total MSE error after  265  epoch =  0.49441242889853954\n",
            "Total MSE error after  266  epoch =  0.49436532133314665\n",
            "Total MSE error after  267  epoch =  0.4943178200007091\n",
            "Total MSE error after  268  epoch =  0.49426992119968793\n",
            "Total MSE error after  269  epoch =  0.4942216211953077\n",
            "Total MSE error after  270  epoch =  0.4941729162192833\n",
            "Total MSE error after  271  epoch =  0.4941238024695421\n",
            "Total MSE error after  272  epoch =  0.49407427610994703\n",
            "Total MSE error after  273  epoch =  0.4940243332700176\n",
            "Total MSE error after  274  epoch =  0.4939739700446494\n",
            "Total MSE error after  275  epoch =  0.49392318249383305\n",
            "Total MSE error after  276  epoch =  0.4938719666423713\n",
            "Total MSE error after  277  epoch =  0.49382031847959496\n",
            "Total MSE error after  278  epoch =  0.49376823395907776\n",
            "Total MSE error after  279  epoch =  0.49371570899835004\n",
            "Total MSE error after  280  epoch =  0.4936627394786111\n",
            "Total MSE error after  281  epoch =  0.49360932124444035\n",
            "Total MSE error after  282  epoch =  0.4935554501035074\n",
            "Total MSE error after  283  epoch =  0.4935011218262809\n",
            "Total MSE error after  284  epoch =  0.4934463321457362\n",
            "Total MSE error after  285  epoch =  0.4933910767570626\n",
            "Total MSE error after  286  epoch =  0.49333535131736783\n",
            "Total MSE error after  287  epoch =  0.4932791514453836\n",
            "Total MSE error after  288  epoch =  0.49322247272116804\n",
            "Total MSE error after  289  epoch =  0.49316531068580904\n",
            "Total MSE error after  290  epoch =  0.49310766084112456\n",
            "Total MSE error after  291  epoch =  0.4930495186493638\n",
            "Total MSE error after  292  epoch =  0.4929908795329061\n",
            "Total MSE error after  293  epoch =  0.49293173887395914\n",
            "Total MSE error after  294  epoch =  0.4928720920142574\n",
            "Total MSE error after  295  epoch =  0.4928119342547569\n",
            "Total MSE error after  296  epoch =  0.4927512608553326\n",
            "Total MSE error after  297  epoch =  0.49269006703447216\n",
            "Total MSE error after  298  epoch =  0.4926283479689699\n",
            "Total MSE error after  299  epoch =  0.4925660987936201\n",
            "Total MSE error after  300  epoch =  0.492503314600909\n",
            "Total MSE error after  301  epoch =  0.4924399904407064\n",
            "Total MSE error after  302  epoch =  0.492376121319956\n",
            "Total MSE error after  303  epoch =  0.49231170220236564\n",
            "Total MSE error after  304  epoch =  0.4922467280080969\n",
            "Total MSE error after  305  epoch =  0.49218119361345225\n",
            "Total MSE error after  306  epoch =  0.49211509385056484\n",
            "Total MSE error after  307  epoch =  0.49204842350708355\n",
            "Total MSE error after  308  epoch =  0.4919811773258615\n",
            "Total MSE error after  309  epoch =  0.49191335000464054\n",
            "Total MSE error after  310  epoch =  0.49184493619573777\n",
            "Total MSE error after  311  epoch =  0.49177593050572965\n",
            "Total MSE error after  312  epoch =  0.4917063274951365\n",
            "Total MSE error after  313  epoch =  0.49163612167810633\n",
            "Total MSE error after  314  epoch =  0.4915653075220991\n",
            "Total MSE error after  315  epoch =  0.4914938794475677\n",
            "Total MSE error after  316  epoch =  0.4914218318276423\n",
            "Total MSE error after  317  epoch =  0.49134915898781156\n",
            "Total MSE error after  318  epoch =  0.4912758552056048\n",
            "Total MSE error after  319  epoch =  0.49120191471027264\n",
            "Total MSE error after  320  epoch =  0.49112733168246886\n",
            "Total MSE error after  321  epoch =  0.4910521002539313\n",
            "Total MSE error after  322  epoch =  0.49097621450716167\n",
            "Total MSE error after  323  epoch =  0.490899668475106\n",
            "Total MSE error after  324  epoch =  0.49082245614083575\n",
            "Total MSE error after  325  epoch =  0.49074457143722594\n",
            "Total MSE error after  326  epoch =  0.4906660082466364\n",
            "Total MSE error after  327  epoch =  0.4905867604005907\n",
            "Total MSE error after  328  epoch =  0.49050682167945553\n",
            "Total MSE error after  329  epoch =  0.49042618581212044\n",
            "Total MSE error after  330  epoch =  0.4903448464756769\n",
            "Total MSE error after  331  epoch =  0.4902627972950977\n",
            "Total MSE error after  332  epoch =  0.49018003184291625\n",
            "Total MSE error after  333  epoch =  0.4900965436389059\n",
            "Total MSE error after  334  epoch =  0.490012326149759\n",
            "Total MSE error after  335  epoch =  0.4899273727887661\n",
            "Total MSE error after  336  epoch =  0.4898416769154964\n",
            "Total MSE error after  337  epoch =  0.48975523183547587\n",
            "Total MSE error after  338  epoch =  0.489668030799868\n",
            "Total MSE error after  339  epoch =  0.4895800670051528\n",
            "Total MSE error after  340  epoch =  0.4894913335928074\n",
            "Total MSE error after  341  epoch =  0.48940182364898527\n",
            "Total MSE error after  342  epoch =  0.48931153020419776\n",
            "Total MSE error after  343  epoch =  0.4892204462329933\n",
            "Total MSE error after  344  epoch =  0.48912856465363874\n",
            "Total MSE error after  345  epoch =  0.4890358783278006\n",
            "Total MSE error after  346  epoch =  0.48894238006022583\n",
            "Total MSE error after  347  epoch =  0.4888480625984233\n",
            "Total MSE error after  348  epoch =  0.4887529186323457\n",
            "Total MSE error after  349  epoch =  0.4886569407940722\n",
            "Total MSE error after  350  epoch =  0.4885601216574894\n",
            "Total MSE error after  351  epoch =  0.48846245373797564\n",
            "Total MSE error after  352  epoch =  0.4883639294920828\n",
            "Total MSE error after  353  epoch =  0.48826454131722064\n",
            "Total MSE error after  354  epoch =  0.4881642815513395\n",
            "Total MSE error after  355  epoch =  0.4880631424726155\n",
            "Total MSE error after  356  epoch =  0.48796111629913397\n",
            "Total MSE error after  357  epoch =  0.4878581951885749\n",
            "Total MSE error after  358  epoch =  0.4877543712378975\n",
            "Total MSE error after  359  epoch =  0.4876496364830263\n",
            "Total MSE error after  360  epoch =  0.48754398289853673\n",
            "Total MSE error after  361  epoch =  0.4874374023973415\n",
            "Total MSE error after  362  epoch =  0.48732988683037654\n",
            "Total MSE error after  363  epoch =  0.4872214279862892\n",
            "Total MSE error after  364  epoch =  0.4871120175911242\n",
            "Total MSE error after  365  epoch =  0.48700164730801243\n",
            "Total MSE error after  366  epoch =  0.4868903087368579\n",
            "Total MSE error after  367  epoch =  0.48677799341402705\n",
            "Total MSE error after  368  epoch =  0.4866646928120365\n",
            "Total MSE error after  369  epoch =  0.48655039833924263\n",
            "Total MSE error after  370  epoch =  0.4864351013395304\n",
            "Total MSE error after  371  epoch =  0.48631879309200265\n",
            "Total MSE error after  372  epoch =  0.4862014648106706\n",
            "Total MSE error after  373  epoch =  0.4860831076441432\n",
            "Total MSE error after  374  epoch =  0.48596371267531757\n",
            "Total MSE error after  375  epoch =  0.485843270921069\n",
            "Total MSE error after  376  epoch =  0.4857217733319421\n",
            "Total MSE error after  377  epoch =  0.4855992107918413\n",
            "Total MSE error after  378  epoch =  0.48547557411772146\n",
            "Total MSE error after  379  epoch =  0.4853508540592789\n",
            "Total MSE error after  380  epoch =  0.4852250412986429\n",
            "Total MSE error after  381  epoch =  0.4850981264500655\n",
            "Total MSE error after  382  epoch =  0.48497010005961394\n",
            "Total MSE error after  383  epoch =  0.48484095260486093\n",
            "Total MSE error after  384  epoch =  0.4847106744945754\n",
            "Total MSE error after  385  epoch =  0.4845792560684135\n",
            "Total MSE error after  386  epoch =  0.4844466875966099\n",
            "Total MSE error after  387  epoch =  0.48431295927966733\n",
            "Total MSE error after  388  epoch =  0.4841780612480474\n",
            "Total MSE error after  389  epoch =  0.48404198356186046\n",
            "Total MSE error after  390  epoch =  0.48390471621055564\n",
            "Total MSE error after  391  epoch =  0.4837662491126095\n",
            "Total MSE error after  392  epoch =  0.48362657211521576\n",
            "Total MSE error after  393  epoch =  0.48348567499397377\n",
            "Total MSE error after  394  epoch =  0.48334354745257596\n",
            "Total MSE error after  395  epoch =  0.4832001791224958\n",
            "Total MSE error after  396  epoch =  0.483055559562675\n",
            "Total MSE error after  397  epoch =  0.4829096782592092\n",
            "Total MSE error after  398  epoch =  0.48276252462503433\n",
            "Total MSE error after  399  epoch =  0.4826140879996109\n",
            "Total MSE error after  400  epoch =  0.4824643576486086\n",
            "Total MSE error after  401  epoch =  0.48231332276358935\n",
            "Total MSE error after  402  epoch =  0.4821609724616899\n",
            "Total MSE error after  403  epoch =  0.48200729578530355\n",
            "Total MSE error after  404  epoch =  0.4818522817017601\n",
            "Total MSE error after  405  epoch =  0.48169591910300585\n",
            "Total MSE error after  406  epoch =  0.4815381968052823\n",
            "Total MSE error after  407  epoch =  0.48137910354880314\n",
            "Total MSE error after  408  epoch =  0.4812186279974299\n",
            "Total MSE error after  409  epoch =  0.4810567587383483\n",
            "Total MSE error after  410  epoch =  0.4808934842817406\n",
            "Total MSE error after  411  epoch =  0.4807287930604589\n",
            "Total MSE error after  412  epoch =  0.48056267342969533\n",
            "Total MSE error after  413  epoch =  0.48039511366665333\n",
            "Total MSE error after  414  epoch =  0.4802261019702137\n",
            "Total MSE error after  415  epoch =  0.48005562646060296\n",
            "Total MSE error after  416  epoch =  0.47988367517905867\n",
            "Total MSE error after  417  epoch =  0.47971023608749214\n",
            "Total MSE error after  418  epoch =  0.47953529706815157\n",
            "Total MSE error after  419  epoch =  0.4793588459232825\n",
            "Total MSE error after  420  epoch =  0.47918087037478585\n",
            "Total MSE error after  421  epoch =  0.4790013580638774\n",
            "Total MSE error after  422  epoch =  0.47882029655074143\n",
            "Total MSE error after  423  epoch =  0.4786376733141859\n",
            "Total MSE error after  424  epoch =  0.4784534757512946\n",
            "Total MSE error after  425  epoch =  0.47826769117707796\n",
            "Total MSE error after  426  epoch =  0.4780803068241217\n",
            "Total MSE error after  427  epoch =  0.47789130984223555\n",
            "Total MSE error after  428  epoch =  0.4777006872980968\n",
            "Total MSE error after  429  epoch =  0.4775084261748964\n",
            "Total MSE error after  430  epoch =  0.4773145133719805\n",
            "Total MSE error after  431  epoch =  0.47711893570449115\n",
            "Total MSE error after  432  epoch =  0.4769216799030065\n",
            "Total MSE error after  433  epoch =  0.4767227326131776\n",
            "Total MSE error after  434  epoch =  0.47652208039536503\n",
            "Total MSE error after  435  epoch =  0.47631970972427407\n",
            "Total MSE error after  436  epoch =  0.4761156069885879\n",
            "Total MSE error after  437  epoch =  0.47590975849059974\n",
            "Total MSE error after  438  epoch =  0.47570215044584374\n",
            "Total MSE error after  439  epoch =  0.4754927689827255\n",
            "Total MSE error after  440  epoch =  0.47528160014214943\n",
            "Total MSE error after  441  epoch =  0.475068629877148\n",
            "Total MSE error after  442  epoch =  0.4748538440525082\n",
            "Total MSE error after  443  epoch =  0.4746372284443967\n",
            "Total MSE error after  444  epoch =  0.47441876873998723\n",
            "Total MSE error after  445  epoch =  0.4741984505370845\n",
            "Total MSE error after  446  epoch =  0.4739762593437493\n",
            "Total MSE error after  447  epoch =  0.4737521805779231\n",
            "Total MSE error after  448  epoch =  0.473526199567053\n",
            "Total MSE error after  449  epoch =  0.4732983015477158\n",
            "Total MSE error after  450  epoch =  0.47306847166524396\n",
            "Total MSE error after  451  epoch =  0.4728366949733505\n",
            "Total MSE error after  452  epoch =  0.4726029564337566\n",
            "Total MSE error after  453  epoch =  0.4723672409158177\n",
            "Total MSE error after  454  epoch =  0.47212953319615325\n",
            "Total MSE error after  455  epoch =  0.4718898179582764\n",
            "Total MSE error after  456  epoch =  0.47164807979222545\n",
            "Total MSE error after  457  epoch =  0.4714043031941991\n",
            "Total MSE error after  458  epoch =  0.4711584725661906\n",
            "Total MSE error after  459  epoch =  0.4709105722156281\n",
            "Total MSE error after  460  epoch =  0.47066058635501523\n",
            "Total MSE error after  461  epoch =  0.47040849910157634\n",
            "Total MSE error after  462  epoch =  0.4701542944769045\n",
            "Total MSE error after  463  epoch =  0.4698979564066135\n",
            "Total MSE error after  464  epoch =  0.4696394687199948\n",
            "Total MSE error after  465  epoch =  0.46937881514967733\n",
            "Total MSE error after  466  epoch =  0.4691159793312946\n",
            "Total MSE error after  467  epoch =  0.46885094480315515\n",
            "Total MSE error after  468  epoch =  0.46858369500591995\n",
            "Total MSE error after  469  epoch =  0.4683142132822856\n",
            "Total MSE error after  470  epoch =  0.46804248287667427\n",
            "Total MSE error after  471  epoch =  0.46776848693493034\n",
            "Total MSE error after  472  epoch =  0.4674922085040255\n",
            "Total MSE error after  473  epoch =  0.467213630531771\n",
            "Total MSE error after  474  epoch =  0.4669327358665391\n",
            "Total MSE error after  475  epoch =  0.46664950725699256\n",
            "Total MSE error after  476  epoch =  0.46636392735182486\n",
            "Total MSE error after  477  epoch =  0.46607597869951\n",
            "Total MSE error after  478  epoch =  0.46578564374806225\n",
            "Total MSE error after  479  epoch =  0.46549290484480865\n",
            "Total MSE error after  480  epoch =  0.4651977442361719\n",
            "Total MSE error after  481  epoch =  0.46490014406746516\n",
            "Total MSE error after  482  epoch =  0.4646000863827019\n",
            "Total MSE error after  483  epoch =  0.46429755312441723\n",
            "Total MSE error after  484  epoch =  0.4639925261335037\n",
            "Total MSE error after  485  epoch =  0.46368498714906303\n",
            "Total MSE error after  486  epoch =  0.46337491780827206\n",
            "Total MSE error after  487  epoch =  0.46306229964626466\n",
            "Total MSE error after  488  epoch =  0.46274711409603153\n",
            "Total MSE error after  489  epoch =  0.4624293424883361\n",
            "Total MSE error after  490  epoch =  0.46210896605164903\n",
            "Total MSE error after  491  epoch =  0.4617859659121016\n",
            "Total MSE error after  492  epoch =  0.4614603230934582\n",
            "Total MSE error after  493  epoch =  0.4611320185171088\n",
            "Total MSE error after  494  epoch =  0.46080103300208336\n",
            "Total MSE error after  495  epoch =  0.4604673472650861\n",
            "Total MSE error after  496  epoch =  0.46013094192055376\n",
            "Total MSE error after  497  epoch =  0.4597917974807355\n",
            "Total MSE error after  498  epoch =  0.4594498943557979\n",
            "Total MSE error after  499  epoch =  0.4591052128539532\n",
            "Total MSE error after  500  epoch =  0.4587577331816139\n",
            "Total MSE error after  501  epoch =  0.45840743544357276\n",
            "Total MSE error after  502  epoch =  0.4580542996432104\n",
            "Total MSE error after  503  epoch =  0.4576983056827295\n",
            "Total MSE error after  504  epoch =  0.45733943336341765\n",
            "Total MSE error after  505  epoch =  0.4569776623859406\n",
            "Total MSE error after  506  epoch =  0.4566129723506633\n",
            "Total MSE error after  507  epoch =  0.45624534275800366\n",
            "Total MSE error after  508  epoch =  0.45587475300881686\n",
            "Total MSE error after  509  epoch =  0.4555011824048119\n",
            "Total MSE error after  510  epoch =  0.4551246101490021\n",
            "Total MSE error after  511  epoch =  0.4547450153461882\n",
            "Total MSE error after  512  epoch =  0.4543623770034781\n",
            "Total MSE error after  513  epoch =  0.4539766740308394\n",
            "Total MSE error after  514  epoch =  0.4535878852416916\n",
            "Total MSE error after  515  epoch =  0.45319598935353245\n",
            "Total MSE error after  516  epoch =  0.4528009649886043\n",
            "Total MSE error after  517  epoch =  0.45240279067459765\n",
            "Total MSE error after  518  epoch =  0.4520014448453956\n",
            "Total MSE error after  519  epoch =  0.45159690584185785\n",
            "Total MSE error after  520  epoch =  0.4511891519126455\n",
            "Total MSE error after  521  epoch =  0.4507781612150895\n",
            "Total MSE error after  522  epoch =  0.4503639118160993\n",
            "Total MSE error after  523  epoch =  0.44994638169311796\n",
            "Total MSE error after  524  epoch =  0.4495255487351181\n",
            "Total MSE error after  525  epoch =  0.4491013907436474\n",
            "Total MSE error after  526  epoch =  0.44867388543391584\n",
            "Total MSE error after  527  epoch =  0.4482430104359322\n",
            "Total MSE error after  528  epoch =  0.44780874329568787\n",
            "Total MSE error after  529  epoch =  0.44737106147638805\n",
            "Total MSE error after  530  epoch =  0.44692994235973305\n",
            "Total MSE error after  531  epoch =  0.4464853632472493\n",
            "Total MSE error after  532  epoch =  0.44603730136167136\n",
            "Total MSE error after  533  epoch =  0.44558573384837463\n",
            "Total MSE error after  534  epoch =  0.44513063777686196\n",
            "Total MSE error after  535  epoch =  0.44467199014230274\n",
            "Total MSE error after  536  epoch =  0.4442097678671254\n",
            "Total MSE error after  537  epoch =  0.443743947802667\n",
            "Total MSE error after  538  epoch =  0.4432745067308753\n",
            "Total MSE error after  539  epoch =  0.4428014213660712\n",
            "Total MSE error after  540  epoch =  0.4423246683567653\n",
            "Total MSE error after  541  epoch =  0.441844224287536\n",
            "Total MSE error after  542  epoch =  0.4413600656809633\n",
            "Total MSE error after  543  epoch =  0.4408721689996262\n",
            "Total MSE error after  544  epoch =  0.4403805106481592\n",
            "Total MSE error after  545  epoch =  0.43988506697537133\n",
            "Total MSE error after  546  epoch =  0.4393858142764282\n",
            "Total MSE error after  547  epoch =  0.4388827287950978\n",
            "Total MSE error after  548  epoch =  0.4383757867260618\n",
            "Total MSE error after  549  epoch =  0.4378649642172922\n",
            "Total MSE error after  550  epoch =  0.4373502373724961\n",
            "Total MSE error after  551  epoch =  0.4368315822536265\n",
            "Total MSE error after  552  epoch =  0.43630897488346554\n",
            "Total MSE error after  553  epoch =  0.4357823912482746\n",
            "Total MSE error after  554  epoch =  0.4352518073005196\n",
            "Total MSE error after  555  epoch =  0.43471719896166594\n",
            "Total MSE error after  556  epoch =  0.4341785421250506\n",
            "Total MSE error after  557  epoch =  0.43363581265882634\n",
            "Total MSE error after  558  epoch =  0.43308898640898685\n",
            "Total MSE error after  559  epoch =  0.43253803920246636\n",
            "Total MSE error after  560  epoch =  0.431982946850321\n",
            "Total MSE error after  561  epoch =  0.4314236851509915\n",
            "Total MSE error after  562  epoch =  0.4308602298936487\n",
            "Total MSE error after  563  epoch =  0.4302925568616224\n",
            "Total MSE error after  564  epoch =  0.42972064183591874\n",
            "Total MSE error after  565  epoch =  0.42914446059882416\n",
            "Total MSE error after  566  epoch =  0.4285639889375995\n",
            "Total MSE error after  567  epoch =  0.42797920264826683\n",
            "Total MSE error after  568  epoch =  0.42739007753949065\n",
            "Total MSE error after  569  epoch =  0.4267965894365531\n",
            "Total MSE error after  570  epoch =  0.42619871418542976\n",
            "Total MSE error after  571  epoch =  0.42559642765696654\n",
            "Total MSE error after  572  epoch =  0.4249897057511571\n",
            "Total MSE error after  573  epoch =  0.4243785244015281\n",
            "Total MSE error after  574  epoch =  0.4237628595796328\n",
            "Total MSE error after  575  epoch =  0.42314268729965365\n",
            "Total MSE error after  576  epoch =  0.4225179836231204\n",
            "Total MSE error after  577  epoch =  0.4218887246637453\n",
            "Total MSE error after  578  epoch =  0.4212548865923752\n",
            "Total MSE error after  579  epoch =  0.4206164456420708\n",
            "Total MSE error after  580  epoch =  0.41997337811330737\n",
            "Total MSE error after  581  epoch =  0.41932566037930935\n",
            "Total MSE error after  582  epoch =  0.41867326889151446\n",
            "Total MSE error after  583  epoch =  0.4180161801851776\n",
            "Total MSE error after  584  epoch =  0.4173543708851115\n",
            "Total MSE error after  585  epoch =  0.4166878177115755\n",
            "Total MSE error after  586  epoch =  0.4160164974863094\n",
            "Total MSE error after  587  epoch =  0.41534038713872284\n",
            "Total MSE error after  588  epoch =  0.4146594637122373\n",
            "Total MSE error after  589  epoch =  0.41397370437079273\n",
            "Total MSE error after  590  epoch =  0.413283086405518\n",
            "Total MSE error after  591  epoch =  0.4125875872415705\n",
            "Total MSE error after  592  epoch =  0.4118871844451532\n",
            "Total MSE error after  593  epoch =  0.4111818557307073\n",
            "Total MSE error after  594  epoch =  0.4104715789682941\n",
            "Total MSE error after  595  epoch =  0.4097563321911616\n",
            "Total MSE error after  596  epoch =  0.409036093603509\n",
            "Total MSE error after  597  epoch =  0.4083108415884502\n",
            "Total MSE error after  598  epoch =  0.407580554716182\n",
            "Total MSE error after  599  epoch =  0.40684521175236227\n",
            "Total MSE error after  600  epoch =  0.40610479166670654\n",
            "Total MSE error after  601  epoch =  0.405359273641803\n",
            "Total MSE error after  602  epoch =  0.40460863708215744\n",
            "Total MSE error after  603  epoch =  0.4038528616234681\n",
            "Total MSE error after  604  epoch =  0.40309192714214187\n",
            "Total MSE error after  605  epoch =  0.40232581376505205\n",
            "Total MSE error after  606  epoch =  0.40155450187954755\n",
            "Total MSE error after  607  epoch =  0.4007779721437156\n",
            "Total MSE error after  608  epoch =  0.3999962054969082\n",
            "Total MSE error after  609  epoch =  0.3992091831705328\n",
            "Total MSE error after  610  epoch =  0.398416886699116\n",
            "Total MSE error after  611  epoch =  0.39761929793164597\n",
            "Total MSE error after  612  epoch =  0.39681639904319643\n",
            "Total MSE error after  613  epoch =  0.39600817254683945\n",
            "Total MSE error after  614  epoch =  0.3951946013058537\n",
            "Total MSE error after  615  epoch =  0.39437566854622685\n",
            "Total MSE error after  616  epoch =  0.3935513578694668\n",
            "Total MSE error after  617  epoch =  0.3927216532657165\n",
            "Total MSE error after  618  epoch =  0.39188653912718385\n",
            "Total MSE error after  619  epoch =  0.3910460002618862\n",
            "Total MSE error after  620  epoch =  0.3902000219077169\n",
            "Total MSE error after  621  epoch =  0.3893485897468346\n",
            "Total MSE error after  622  epoch =  0.38849168992038047\n",
            "Total MSE error after  623  epoch =  0.38762930904352433\n",
            "Total MSE error after  624  epoch =  0.3867614342208451\n",
            "Total MSE error after  625  epoch =  0.385888053062044\n",
            "Total MSE error after  626  epoch =  0.38500915369799416\n",
            "Total MSE error after  627  epoch =  0.3841247247971284\n",
            "Total MSE error after  628  epoch =  0.383234755582163\n",
            "Total MSE error after  629  epoch =  0.3823392358471618\n",
            "Total MSE error after  630  epoch =  0.3814381559749338\n",
            "Total MSE error after  631  epoch =  0.3805315069547698\n",
            "Total MSE error after  632  epoch =  0.37961928040051196\n",
            "Total MSE error after  633  epoch =  0.37870146856895404\n",
            "Total MSE error after  634  epoch =  0.37777806437857175\n",
            "Total MSE error after  635  epoch =  0.37684906142857444\n",
            "Total MSE error after  636  epoch =  0.3759144540182787\n",
            "Total MSE error after  637  epoch =  0.37497423716679407\n",
            "Total MSE error after  638  epoch =  0.3740284066330165\n",
            "Total MSE error after  639  epoch =  0.37307695893591997\n",
            "Total MSE error after  640  epoch =  0.3721198913751412\n",
            "Total MSE error after  641  epoch =  0.3711572020518459\n",
            "Total MSE error after  642  epoch =  0.3701888898898645\n",
            "Total MSE error after  643  epoch =  0.3692149546570903\n",
            "Total MSE error after  644  epoch =  0.36823539698712543\n",
            "Total MSE error after  645  epoch =  0.36725021840115946\n",
            "Total MSE error after  646  epoch =  0.36625942133006906\n",
            "Total MSE error after  647  epoch =  0.36526300913672194\n",
            "Total MSE error after  648  epoch =  0.3642609861384666\n",
            "Total MSE error after  649  epoch =  0.3632533576297941\n",
            "Total MSE error after  650  epoch =  0.362240129905147\n",
            "Total MSE error after  651  epoch =  0.3612213102818605\n",
            "Total MSE error after  652  epoch =  0.36019690712321\n",
            "Total MSE error after  653  epoch =  0.3591669298615466\n",
            "Total MSE error after  654  epoch =  0.35813138902149166\n",
            "Total MSE error after  655  epoch =  0.3570902962431708\n",
            "Total MSE error after  656  epoch =  0.35604366430545453\n",
            "Total MSE error after  657  epoch =  0.3549915071491855\n",
            "Total MSE error after  658  epoch =  0.3539338399003562\n",
            "Total MSE error after  659  epoch =  0.3528706788932134\n",
            "Total MSE error after  660  epoch =  0.3518020416932528\n",
            "Total MSE error after  661  epoch =  0.35072794712007704\n",
            "Total MSE error after  662  epoch =  0.3496484152700796\n",
            "Total MSE error after  663  epoch =  0.34856346753892126\n",
            "Total MSE error after  664  epoch =  0.34747312664376473\n",
            "Total MSE error after  665  epoch =  0.34637741664523114\n",
            "Total MSE error after  666  epoch =  0.34527636296903813\n",
            "Total MSE error after  667  epoch =  0.3441699924272841\n",
            "Total MSE error after  668  epoch =  0.34305833323933865\n",
            "Total MSE error after  669  epoch =  0.341941415052299\n",
            "Total MSE error after  670  epoch =  0.34081926896097053\n",
            "Total MSE error after  671  epoch =  0.33969192752733146\n",
            "Total MSE error after  672  epoch =  0.3385594247994399\n",
            "Total MSE error after  673  epoch =  0.33742179632973823\n",
            "Total MSE error after  674  epoch =  0.33627907919271505\n",
            "Total MSE error after  675  epoch =  0.33513131200187696\n",
            "Total MSE error after  676  epoch =  0.3339785349259927\n",
            "Total MSE error after  677  epoch =  0.33282078970455836\n",
            "Total MSE error after  678  epoch =  0.3316581196624455\n",
            "Total MSE error after  679  epoch =  0.3304905697236846\n",
            "Total MSE error after  680  epoch =  0.3293181864243424\n",
            "Total MSE error after  681  epoch =  0.3281410179244474\n",
            "Total MSE error after  682  epoch =  0.3269591140189224\n",
            "Total MSE error after  683  epoch =  0.32577252614747676\n",
            "Total MSE error after  684  epoch =  0.3245813074034233\n",
            "Total MSE error after  685  epoch =  0.3233855125413702\n",
            "Total MSE error after  686  epoch =  0.322185197983753\n",
            "Total MSE error after  687  epoch =  0.32098042182616227\n",
            "Total MSE error after  688  epoch =  0.31977124384143224\n",
            "Total MSE error after  689  epoch =  0.3185577254824481\n",
            "Total MSE error after  690  epoch =  0.31733992988364035\n",
            "Total MSE error after  691  epoch =  0.31611792186112525\n",
            "Total MSE error after  692  epoch =  0.3148917679114625\n",
            "Total MSE error after  693  epoch =  0.3136615362089971\n",
            "Total MSE error after  694  epoch =  0.3124272966017527\n",
            "Total MSE error after  695  epoch =  0.31118912060585135\n",
            "Total MSE error after  696  epoch =  0.3099470813984305\n",
            "Total MSE error after  697  epoch =  0.30870125380903546\n",
            "Total MSE error after  698  epoch =  0.30745171430946255\n",
            "Total MSE error after  699  epoch =  0.30619854100203564\n",
            "Total MSE error after  700  epoch =  0.3049418136062977\n",
            "Total MSE error after  701  epoch =  0.30368161344410116\n",
            "Total MSE error after  702  epoch =  0.3024180234230879\n",
            "Total MSE error after  703  epoch =  0.3011511280185451\n",
            "Total MSE error after  704  epoch =  0.2998810132536348\n",
            "Total MSE error after  705  epoch =  0.2986077666779895\n",
            "Total MSE error after  706  epoch =  0.2973314773446746\n",
            "Total MSE error after  707  epoch =  0.2960522357855174\n",
            "Total MSE error after  708  epoch =  0.29477013398481133\n",
            "Total MSE error after  709  epoch =  0.293485265351399\n",
            "Total MSE error after  710  epoch =  0.2921977246891475\n",
            "Total MSE error after  711  epoch =  0.29090760816583017\n",
            "Total MSE error after  712  epoch =  0.289615013280429\n",
            "Total MSE error after  713  epoch =  0.28832003882888313\n",
            "Total MSE error after  714  epoch =  0.28702278486830113\n",
            "Total MSE error after  715  epoch =  0.2857233526796678\n",
            "Total MSE error after  716  epoch =  0.28442184472907295\n",
            "Total MSE error after  717  epoch =  0.2831183646274939\n",
            "Total MSE error after  718  epoch =  0.2818130170891726\n",
            "Total MSE error after  719  epoch =  0.2805059078886164\n",
            "Total MSE error after  720  epoch =  0.2791971438162748\n",
            "Total MSE error after  721  epoch =  0.2778868326329272\n",
            "Total MSE error after  722  epoch =  0.27657508302283557\n",
            "Total MSE error after  723  epoch =  0.27526200454570804\n",
            "Total MSE error after  724  epoch =  0.2739477075875251\n",
            "Total MSE error after  725  epoch =  0.27263230331028715\n",
            "Total MSE error after  726  epoch =  0.2713159036007363\n",
            "Total MSE error after  727  epoch =  0.26999862101811406\n",
            "Total MSE error after  728  epoch =  0.26868056874101637\n",
            "Total MSE error after  729  epoch =  0.26736186051340777\n",
            "Total MSE error after  730  epoch =  0.2660426105898615\n",
            "Total MSE error after  731  epoch =  0.2647229336800934\n",
            "Total MSE error after  732  epoch =  0.2634029448928538\n",
            "Total MSE error after  733  epoch =  0.2620827596792538\n",
            "Total MSE error after  734  epoch =  0.26076249377559113\n",
            "Total MSE error after  735  epoch =  0.25944226314575\n",
            "Total MSE error after  736  epoch =  0.2581221839232495\n",
            "Total MSE error after  737  epoch =  0.25680237235301157\n",
            "Total MSE error after  738  epoch =  0.2554829447329252\n",
            "Total MSE error after  739  epoch =  0.25416401735527844\n",
            "Total MSE error after  740  epoch =  0.25284570644813703\n",
            "Total MSE error after  741  epoch =  0.2515281281167414\n",
            "Total MSE error after  742  epoch =  0.2502113982849966\n",
            "Total MSE error after  743  epoch =  0.24889563263713296\n",
            "Total MSE error after  744  epoch =  0.2475809465596076\n",
            "Total MSE error after  745  epoch =  0.24626745508332096\n",
            "Total MSE error after  746  epoch =  0.24495527282622076\n",
            "Total MSE error after  747  epoch =  0.24364451393636657\n",
            "Total MSE error after  748  epoch =  0.24233529203552204\n",
            "Total MSE error after  749  epoch =  0.24102772016334592\n",
            "Total MSE error after  750  epoch =  0.239721910722246\n",
            "Total MSE error after  751  epoch =  0.23841797542296855\n",
            "Total MSE error after  752  epoch =  0.2371160252309788\n",
            "Total MSE error after  753  epoch =  0.23581617031369956\n",
            "Total MSE error after  754  epoch =  0.23451851998866968\n",
            "Total MSE error after  755  epoch =  0.23322318267267333\n",
            "Total MSE error after  756  epoch =  0.23193026583190557\n",
            "Total MSE error after  757  epoch =  0.23063987593321852\n",
            "Total MSE error after  758  epoch =  0.2293521183965052\n",
            "Total MSE error after  759  epoch =  0.22806709754826818\n",
            "Total MSE error after  760  epoch =  0.2267849165764172\n",
            "Total MSE error after  761  epoch =  0.22550567748634148\n",
            "Total MSE error after  762  epoch =  0.22422948105829651\n",
            "Total MSE error after  763  epoch =  0.22295642680614308\n",
            "Total MSE error after  764  epoch =  0.22168661293747258\n",
            "Total MSE error after  765  epoch =  0.22042013631515578\n",
            "Total MSE error after  766  epoch =  0.21915709242033604\n",
            "Total MSE error after  767  epoch =  0.21789757531690335\n",
            "Total MSE error after  768  epoch =  0.21664167761746347\n",
            "Total MSE error after  769  epoch =  0.21538949045083222\n",
            "Total MSE error after  770  epoch =  0.21414110343106554\n",
            "Total MSE error after  771  epoch =  0.21289660462804366\n",
            "Total MSE error after  772  epoch =  0.211656080539623\n",
            "Total MSE error after  773  epoch =  0.21041961606536377\n",
            "Total MSE error after  774  epoch =  0.20918729448183732\n",
            "Total MSE error after  775  epoch =  0.20795919741952557\n",
            "Total MSE error after  776  epoch =  0.20673540484130482\n",
            "Total MSE error after  777  epoch =  0.20551599502251794\n",
            "Total MSE error after  778  epoch =  0.20430104453263226\n",
            "Total MSE error after  779  epoch =  0.20309062821847068\n",
            "Total MSE error after  780  epoch =  0.20188481918901818\n",
            "Total MSE error after  781  epoch =  0.2006836888017809\n",
            "Total MSE error after  782  epoch =  0.19948730665069453\n",
            "Total MSE error after  783  epoch =  0.1982957405555609\n",
            "Total MSE error after  784  epoch =  0.19710905655299915\n",
            "Total MSE error after  785  epoch =  0.19592731888888912\n",
            "Total MSE error after  786  epoch =  0.1947505900122893\n",
            "Total MSE error after  787  epoch =  0.19357893057080308\n",
            "Total MSE error after  788  epoch =  0.19241239940737231\n",
            "Total MSE error after  789  epoch =  0.19125105355846733\n",
            "Total MSE error after  790  epoch =  0.19009494825365214\n",
            "Total MSE error after  791  epoch =  0.18894413691648954\n",
            "Total MSE error after  792  epoch =  0.18779867116675997\n",
            "Total MSE error after  793  epoch =  0.18665860082396002\n",
            "Total MSE error after  794  epoch =  0.18552397391205105\n",
            "Total MSE error after  795  epoch =  0.1843948366654209\n",
            "Total MSE error after  796  epoch =  0.1832712335360256\n",
            "Total MSE error after  797  epoch =  0.18215320720167877\n",
            "Total MSE error after  798  epoch =  0.18104079857544578\n",
            "Total MSE error after  799  epoch =  0.1799340468161123\n",
            "Total MSE error after  800  epoch =  0.17883298933969055\n",
            "Total MSE error after  801  epoch =  0.17773766183191697\n",
            "Total MSE error after  802  epoch =  0.17664809826171574\n",
            "Total MSE error after  803  epoch =  0.17556433089558116\n",
            "Total MSE error after  804  epoch =  0.17448639031284102\n",
            "Total MSE error after  805  epoch =  0.17341430542176972\n",
            "Total MSE error after  806  epoch =  0.1723481034765021\n",
            "Total MSE error after  807  epoch =  0.17128781009471888\n",
            "Total MSE error after  808  epoch =  0.17023344927606004\n",
            "Total MSE error after  809  epoch =  0.16918504342122825\n",
            "Total MSE error after  810  epoch =  0.1681426133517481\n",
            "Total MSE error after  811  epoch =  0.16710617833033858\n",
            "Total MSE error after  812  epoch =  0.16607575608186514\n",
            "Total MSE error after  813  epoch =  0.16505136281483368\n",
            "Total MSE error after  814  epoch =  0.16403301324338881\n",
            "Total MSE error after  815  epoch =  0.16302072060978134\n",
            "Total MSE error after  816  epoch =  0.16201449670727175\n",
            "Total MSE error after  817  epoch =  0.1610143519034304\n",
            "Total MSE error after  818  epoch =  0.16002029516380542\n",
            "Total MSE error after  819  epoch =  0.1590323340759207\n",
            "Total MSE error after  820  epoch =  0.15805047487357454\n",
            "Total MSE error after  821  epoch =  0.15707472246140491\n",
            "Total MSE error after  822  epoch =  0.1561050804396913\n",
            "Total MSE error after  823  epoch =  0.15514155112936245\n",
            "Total MSE error after  824  epoch =  0.15418413559717917\n",
            "Total MSE error after  825  epoch =  0.15323283368106638\n",
            "Total MSE error after  826  epoch =  0.15228764401556374\n",
            "Total MSE error after  827  epoch =  0.15134856405736774\n",
            "Total MSE error after  828  epoch =  0.15041559011094252\n",
            "Total MSE error after  829  epoch =  0.14948871735416863\n",
            "Total MSE error after  830  epoch =  0.14856793986401076\n",
            "Total MSE error after  831  epoch =  0.14765325064217644\n",
            "Total MSE error after  832  epoch =  0.14674464164074583\n",
            "Total MSE error after  833  epoch =  0.14584210378774964\n",
            "Total MSE error after  834  epoch =  0.14494562701267283\n",
            "Total MSE error after  835  epoch =  0.14405520027186836\n",
            "Total MSE error after  836  epoch =  0.14317081157385678\n",
            "Total MSE error after  837  epoch =  0.14229244800449492\n",
            "Total MSE error after  838  epoch =  0.14142009575199915\n",
            "Total MSE error after  839  epoch =  0.14055374013180094\n",
            "Total MSE error after  840  epoch =  0.13969336561122536\n",
            "Total MSE error after  841  epoch =  0.13883895583397055\n",
            "Total MSE error after  842  epoch =  0.1379904936443806\n",
            "Total MSE error after  843  epoch =  0.137147961111493\n",
            "Total MSE error after  844  epoch =  0.1363113395528531\n",
            "Total MSE error after  845  epoch =  0.13548060955807736\n",
            "Total MSE error after  846  epoch =  0.13465575101216135\n",
            "Total MSE error after  847  epoch =  0.13383674311851676\n",
            "Total MSE error after  848  epoch =  0.1330235644217298\n",
            "Total MSE error after  849  epoch =  0.13221619283003266\n",
            "Total MSE error after  850  epoch =  0.1314146056374773\n",
            "Total MSE error after  851  epoch =  0.1306187795458083\n",
            "Total MSE error after  852  epoch =  0.1298286906860215\n",
            "Total MSE error after  853  epoch =  0.12904431463960836\n",
            "Total MSE error after  854  epoch =  0.12826562645947578\n",
            "Total MSE error after  855  epoch =  0.12749260069053853\n",
            "Total MSE error after  856  epoch =  0.12672521138997908\n",
            "Total MSE error after  857  epoch =  0.12596343214716915\n",
            "Total MSE error after  858  epoch =  0.12520723610325402\n",
            "Total MSE error after  859  epoch =  0.12445659597038913\n",
            "Total MSE error after  860  epoch =  0.12371148405063379\n",
            "Total MSE error after  861  epoch =  0.1229718722544959\n",
            "Total MSE error after  862  epoch =  0.12223773211912618\n",
            "Total MSE error after  863  epoch =  0.12150903482616171\n",
            "Total MSE error after  864  epoch =  0.1207857512192181\n",
            "Total MSE error after  865  epoch =  0.12006785182102847\n",
            "Total MSE error after  866  epoch =  0.11935530685023014\n",
            "Total MSE error after  867  epoch =  0.11864808623780024\n",
            "Total MSE error after  868  epoch =  0.11794615964313836\n",
            "Total MSE error after  869  epoch =  0.11724949646979983\n",
            "Total MSE error after  870  epoch =  0.11655806588087944\n",
            "Total MSE error after  871  epoch =  0.11587183681404681\n",
            "Total MSE error after  872  epoch =  0.11519077799623781\n",
            "Total MSE error after  873  epoch =  0.11451485795799957\n",
            "Total MSE error after  874  epoch =  0.1138440450474971\n",
            "Total MSE error after  875  epoch =  0.1131783074441781\n",
            "Total MSE error after  876  epoch =  0.11251761317210424\n",
            "Total MSE error after  877  epoch =  0.1118619301129479\n",
            "Total MSE error after  878  epoch =  0.11121122601865951\n",
            "Total MSE error after  879  epoch =  0.11056546852380855\n",
            "Total MSE error after  880  epoch =  0.10992462515760171\n",
            "Total MSE error after  881  epoch =  0.10928866335558088\n",
            "Total MSE error after  882  epoch =  0.10865755047100603\n",
            "Total MSE error after  883  epoch =  0.1080312537859276\n",
            "Total MSE error after  884  epoch =  0.10740974052194967\n",
            "Total MSE error after  885  epoch =  0.10679297785069056\n",
            "Total MSE error after  886  epoch =  0.1061809329039447\n",
            "Total MSE error after  887  epoch =  0.10557357278354917\n",
            "Total MSE error after  888  epoch =  0.10497086457095955\n",
            "Total MSE error after  889  epoch =  0.10437277533654157\n",
            "Total MSE error after  890  epoch =  0.10377927214857939\n",
            "Total MSE error after  891  epoch =  0.10319032208200801\n",
            "Total MSE error after  892  epoch =  0.10260589222687505\n",
            "Total MSE error after  893  epoch =  0.10202594969653261\n",
            "Total MSE error after  894  epoch =  0.10145046163556806\n",
            "Total MSE error after  895  epoch =  0.10087939522747719\n",
            "Total MSE error after  896  epoch =  0.10031271770208283\n",
            "Total MSE error after  897  epoch =  0.09975039634270698\n",
            "Total MSE error after  898  epoch =  0.09919239849309719\n",
            "Total MSE error after  899  epoch =  0.09863869156411587\n",
            "Total MSE error after  900  epoch =  0.09808924304019512\n",
            "Total MSE error after  901  epoch =  0.09754402048556093\n",
            "Total MSE error after  902  epoch =  0.0970029915502353\n",
            "Total MSE error after  903  epoch =  0.09646612397581567\n",
            "Total MSE error after  904  epoch =  0.09593338560104173\n",
            "Total MSE error after  905  epoch =  0.09540474436715018\n",
            "Total MSE error after  906  epoch =  0.09488016832302398\n",
            "Total MSE error after  907  epoch =  0.09435962563014072\n",
            "Total MSE error after  908  epoch =  0.09384308456732439\n",
            "Total MSE error after  909  epoch =  0.09333051353530367\n",
            "Total MSE error after  910  epoch =  0.09282188106108513\n",
            "Total MSE error after  911  epoch =  0.09231715580214006\n",
            "Total MSE error after  912  epoch =  0.09181630655041556\n",
            "Total MSE error after  913  epoch =  0.09131930223616853\n",
            "Total MSE error after  914  epoch =  0.09082611193163184\n",
            "Total MSE error after  915  epoch =  0.09033670485451217\n",
            "Total MSE error after  916  epoch =  0.08985105037132775\n",
            "Total MSE error after  917  epoch =  0.08936911800058842\n",
            "Total MSE error after  918  epoch =  0.08889087741582058\n",
            "Total MSE error after  919  epoch =  0.08841629844844485\n",
            "Total MSE error after  920  epoch =  0.08794535109050552\n",
            "Total MSE error after  921  epoch =  0.08747800549726106\n",
            "Total MSE error after  922  epoch =  0.08701423198963407\n",
            "Total MSE error after  923  epoch =  0.08655400105652891\n",
            "Total MSE error after  924  epoch =  0.08609728335701808\n",
            "Total MSE error after  925  epoch =  0.08564404972240193\n",
            "Total MSE error after  926  epoch =  0.0851942711581451\n",
            "Total MSE error after  927  epoch =  0.084747918845693\n",
            "Total MSE error after  928  epoch =  0.08430496414417302\n",
            "Total MSE error after  929  epoch =  0.08386537859198134\n",
            "Total MSE error after  930  epoch =  0.08342913390826068\n",
            "Total MSE error after  931  epoch =  0.0829962019942728\n",
            "Total MSE error after  932  epoch =  0.08256655493466603\n",
            "Total MSE error after  933  epoch =  0.0821401649986438\n",
            "Total MSE error after  934  epoch =  0.08171700464103612\n",
            "Total MSE error after  935  epoch =  0.08129704650327749\n",
            "Total MSE error after  936  epoch =  0.08088026341429189\n",
            "Total MSE error after  937  epoch =  0.0804666283912924\n",
            "Total MSE error after  938  epoch =  0.08005611464049311\n",
            "Total MSE error after  939  epoch =  0.07964869555773968\n",
            "Total MSE error after  940  epoch =  0.07924434472905882\n",
            "Total MSE error after  941  epoch =  0.07884303593113265\n",
            "Total MSE error after  942  epoch =  0.07844474313169483\n",
            "Total MSE error after  943  epoch =  0.07804944048985848\n",
            "Total MSE error after  944  epoch =  0.07765710235637115\n",
            "Total MSE error after  945  epoch =  0.07726770327380353\n",
            "Total MSE error after  946  epoch =  0.07688121797667352\n",
            "Total MSE error after  947  epoch =  0.07649762139150695\n",
            "Total MSE error after  948  epoch =  0.07611688863683787\n",
            "Total MSE error after  949  epoch =  0.0757389950231502\n",
            "Total MSE error after  950  epoch =  0.07536391605276355\n",
            "Total MSE error after  951  epoch =  0.07499162741966503\n",
            "Total MSE error after  952  epoch =  0.07462210500928745\n",
            "Total MSE error after  953  epoch =  0.07425532489823908\n",
            "Total MSE error after  954  epoch =  0.07389126335398402\n",
            "Total MSE error after  955  epoch =  0.07352989683447589\n",
            "Total MSE error after  956  epoch =  0.07317120198774794\n",
            "Total MSE error after  957  epoch =  0.0728151556514588\n",
            "Total MSE error after  958  epoch =  0.07246173485239832\n",
            "Total MSE error after  959  epoch =  0.07211091680595284\n",
            "Total MSE error after  960  epoch =  0.07176267891553387\n",
            "Total MSE error after  961  epoch =  0.07141699877196808\n",
            "Total MSE error after  962  epoch =  0.0710738541528555\n",
            "Total MSE error after  963  epoch =  0.07073322302189233\n",
            "Total MSE error after  964  epoch =  0.07039508352816218\n",
            "Total MSE error after  965  epoch =  0.07005941400539759\n",
            "Total MSE error after  966  epoch =  0.06972619297121188\n",
            "Total MSE error after  967  epoch =  0.06939539912630291\n",
            "Total MSE error after  968  epoch =  0.0690670113536323\n",
            "Total MSE error after  969  epoch =  0.06874100871757605\n",
            "Total MSE error after  970  epoch =  0.068417370463055\n",
            "Total MSE error after  971  epoch =  0.06809607601463903\n",
            "Total MSE error after  972  epoch =  0.06777710497563239\n",
            "Total MSE error after  973  epoch =  0.06746043712713723\n",
            "Total MSE error after  974  epoch =  0.0671460524270966\n",
            "Total MSE error after  975  epoch =  0.06683393100932146\n",
            "Total MSE error after  976  epoch =  0.0665240531824981\n",
            "Total MSE error after  977  epoch =  0.06621639942918048\n",
            "Total MSE error after  978  epoch =  0.06591095040476666\n",
            "Total MSE error after  979  epoch =  0.06560768693645995\n",
            "Total MSE error after  980  epoch =  0.06530659002221775\n",
            "Total MSE error after  981  epoch =  0.0650076408296867\n",
            "Total MSE error after  982  epoch =  0.06471082069512596\n",
            "Total MSE error after  983  epoch =  0.06441611112231971\n",
            "Total MSE error after  984  epoch =  0.06412349378147798\n",
            "Total MSE error after  985  epoch =  0.06383295050813093\n",
            "Total MSE error after  986  epoch =  0.06354446330200984\n",
            "Total MSE error after  987  epoch =  0.06325801432592397\n",
            "Total MSE error after  988  epoch =  0.0629735859046274\n",
            "Total MSE error after  989  epoch =  0.0626911605236802\n",
            "Total MSE error after  990  epoch =  0.062410720828302554\n",
            "Total MSE error after  991  epoch =  0.06213224962222447\n",
            "Total MSE error after  992  epoch =  0.06185572986652954\n",
            "Total MSE error after  993  epoch =  0.06158114467849421\n",
            "Total MSE error after  994  epoch =  0.0613084773304242\n",
            "Total MSE error after  995  epoch =  0.061037711248486504\n",
            "Total MSE error after  996  epoch =  0.060768830011538884\n",
            "Total MSE error after  997  epoch =  0.060501817349957715\n",
            "Total MSE error after  998  epoch =  0.06023665714446295\n",
            "Total MSE error after  999  epoch =  0.05997333342494229\n",
            "Total MSE error after  1000  epoch =  0.059711830369274375\n",
            "Total MSE error after  1001  epoch =  0.05945213230215169\n",
            "Total MSE error after  1002  epoch =  0.0591942236939024\n",
            "Total MSE error after  1003  epoch =  0.0589380891593137\n",
            "Total MSE error after  1004  epoch =  0.05868371345645507\n",
            "Total MSE error after  1005  epoch =  0.05843108148550276\n",
            "Total MSE error after  1006  epoch =  0.05818017828756582\n",
            "Total MSE error after  1007  epoch =  0.05793098904351335\n",
            "Total MSE error after  1008  epoch =  0.05768349907280473\n",
            "Total MSE error after  1009  epoch =  0.05743769383232096\n",
            "Total MSE error after  1010  epoch =  0.05719355891519974\n",
            "Total MSE error after  1011  epoch =  0.056951080049672476\n",
            "Total MSE error after  1012  epoch =  0.05671024309790576\n",
            "Total MSE error after  1013  epoch =  0.056471034054844854\n",
            "Total MSE error after  1014  epoch =  0.05623343904706257\n",
            "Total MSE error after  1015  epoch =  0.055997444331609914\n",
            "Total MSE error after  1016  epoch =  0.05576303629487264\n",
            "Total MSE error after  1017  epoch =  0.05553020145143217\n",
            "Total MSE error after  1018  epoch =  0.05529892644292992\n",
            "Total MSE error after  1019  epoch =  0.055069198036937106\n",
            "Total MSE error after  1020  epoch =  0.05484100312583026\n",
            "Total MSE error after  1021  epoch =  0.0546143287256701\n",
            "Total MSE error after  1022  epoch =  0.05438916197508756\n",
            "Total MSE error after  1023  epoch =  0.05416549013417436\n",
            "Total MSE error after  1024  epoch =  0.05394330058337933\n",
            "Total MSE error after  1025  epoch =  0.053722580822410396\n",
            "Total MSE error after  1026  epoch =  0.05350331846914301\n",
            "Total MSE error after  1027  epoch =  0.0532855012585341\n",
            "Total MSE error after  1028  epoch =  0.05306911704154231\n",
            "Total MSE error after  1029  epoch =  0.05285415378405481\n",
            "Total MSE error after  1030  epoch =  0.05264059956582037\n",
            "Total MSE error after  1031  epoch =  0.05242844257938827\n",
            "Total MSE error after  1032  epoch =  0.05221767112905508\n",
            "Total MSE error after  1033  epoch =  0.052008273629817324\n",
            "Total MSE error after  1034  epoch =  0.05180023860633036\n",
            "Total MSE error after  1035  epoch =  0.05159355469187604\n",
            "Total MSE error after  1036  epoch =  0.051388210627334646\n",
            "Total MSE error after  1037  epoch =  0.05118419526016617\n",
            "Total MSE error after  1038  epoch =  0.05098149754339734\n",
            "Total MSE error after  1039  epoch =  0.050780106534615926\n",
            "Total MSE error after  1040  epoch =  0.05058001139497259\n",
            "Total MSE error after  1041  epoch =  0.05038120138818976\n",
            "Total MSE error after  1042  epoch =  0.05018366587957743\n",
            "Total MSE error after  1043  epoch =  0.04998739433505675\n",
            "Total MSE error after  1044  epoch =  0.049792376320190686\n",
            "Total MSE error after  1045  epoch =  0.04959860149922209\n",
            "Total MSE error after  1046  epoch =  0.049406059634118815\n",
            "Total MSE error after  1047  epoch =  0.04921474058362725\n",
            "Total MSE error after  1048  epoch =  0.04902463430233186\n",
            "Total MSE error after  1049  epoch =  0.048835730839723326\n",
            "Total MSE error after  1050  epoch =  0.04864802033927351\n",
            "Total MSE error after  1051  epoch =  0.048461493037518164\n",
            "Total MSE error after  1052  epoch =  0.048276139263147236\n",
            "Total MSE error after  1053  epoch =  0.04809194943610193\n",
            "Total MSE error after  1054  epoch =  0.04790891406668042\n",
            "Total MSE error after  1055  epoch =  0.047727023754649864\n",
            "Total MSE error after  1056  epoch =  0.04754626918836688\n",
            "Total MSE error after  1057  epoch =  0.047366641143904625\n",
            "Total MSE error after  1058  epoch =  0.04718813048418797\n",
            "Total MSE error after  1059  epoch =  0.04701072815813606\n",
            "Total MSE error after  1060  epoch =  0.04683442519981157\n",
            "Total MSE error after  1061  epoch =  0.046659212727578864\n",
            "Total MSE error after  1062  epoch =  0.04648508194326781\n",
            "Total MSE error after  1063  epoch =  0.04631202413134633\n",
            "Total MSE error after  1064  epoch =  0.04614003065809964\n",
            "Total MSE error after  1065  epoch =  0.045969092970817145\n",
            "Total MSE error after  1066  epoch =  0.045799202596986305\n",
            "Total MSE error after  1067  epoch =  0.04563035114349433\n",
            "Total MSE error after  1068  epoch =  0.04546253029583655\n",
            "Total MSE error after  1069  epoch =  0.04529573181733214\n",
            "Total MSE error after  1070  epoch =  0.045129947548347815\n",
            "Total MSE error after  1071  epoch =  0.044965169405527416\n",
            "Total MSE error after  1072  epoch =  0.04480138938102982\n",
            "Total MSE error after  1073  epoch =  0.04463859954177303\n",
            "Total MSE error after  1074  epoch =  0.044476792028686304\n",
            "Total MSE error after  1075  epoch =  0.044315959055967975\n",
            "Total MSE error after  1076  epoch =  0.04415609291035165\n",
            "Total MSE error after  1077  epoch =  0.04399718595037913\n",
            "Total MSE error after  1078  epoch =  0.04383923060567879\n",
            "Total MSE error after  1079  epoch =  0.04368221937625303\n",
            "Total MSE error after  1080  epoch =  0.04352614483177131\n",
            "Total MSE error after  1081  epoch =  0.04337099961086936\n",
            "Total MSE error after  1082  epoch =  0.04321677642045729\n",
            "Total MSE error after  1083  epoch =  0.04306346803503193\n",
            "Total MSE error after  1084  epoch =  0.04291106729599779\n",
            "Total MSE error after  1085  epoch =  0.04275956711099349\n",
            "Total MSE error after  1086  epoch =  0.042608960453225334\n",
            "Total MSE error after  1087  epoch =  0.04245924036080736\n",
            "Total MSE error after  1088  epoch =  0.04231039993610726\n",
            "Total MSE error after  1089  epoch =  0.04216243234509996\n",
            "Total MSE error after  1090  epoch =  0.0420153308167263\n",
            "Total MSE error after  1091  epoch =  0.04186908864225923\n",
            "Total MSE error after  1092  epoch =  0.04172369917467543\n",
            "Total MSE error after  1093  epoch =  0.0415791558280335\n",
            "Total MSE error after  1094  epoch =  0.04143545207685856\n",
            "Total MSE error after  1095  epoch =  0.041292581455532995\n",
            "Total MSE error after  1096  epoch =  0.04115053755769277\n",
            "Total MSE error after  1097  epoch =  0.0410093140356306\n",
            "Total MSE error after  1098  epoch =  0.04086890459970452\n",
            "Total MSE error after  1099  epoch =  0.040729303017752766\n",
            "Total MSE error after  1100  epoch =  0.0405905031145149\n",
            "Total MSE error after  1101  epoch =  0.04045249877105753\n",
            "Total MSE error after  1102  epoch =  0.0403152839242074\n",
            "Total MSE error after  1103  epoch =  0.040178852565989576\n",
            "Total MSE error after  1104  epoch =  0.04004319874307126\n",
            "Total MSE error after  1105  epoch =  0.039908316556211215\n",
            "Total MSE error after  1106  epoch =  0.03977420015971546\n",
            "Total MSE error after  1107  epoch =  0.03964084376089771\n",
            "Total MSE error after  1108  epoch =  0.03950824161954605\n",
            "Total MSE error after  1109  epoch =  0.03937638804739438\n",
            "Total MSE error after  1110  epoch =  0.03924527740760064\n",
            "Total MSE error after  1111  epoch =  0.03911490411422816\n",
            "Total MSE error after  1112  epoch =  0.03898526263173508\n",
            "Total MSE error after  1113  epoch =  0.03885634747446666\n",
            "Total MSE error after  1114  epoch =  0.03872815320615426\n",
            "Total MSE error after  1115  epoch =  0.03860067443941924\n",
            "Total MSE error after  1116  epoch =  0.03847390583528168\n",
            "Total MSE error after  1117  epoch =  0.038347842102674556\n",
            "Total MSE error after  1118  epoch =  0.03822247799796266\n",
            "Total MSE error after  1119  epoch =  0.03809780832446698\n",
            "Total MSE error after  1120  epoch =  0.03797382793199322\n",
            "Total MSE error after  1121  epoch =  0.03785053171636652\n",
            "Total MSE error after  1122  epoch =  0.0377279146189695\n",
            "Total MSE error after  1123  epoch =  0.03760597162628689\n",
            "Total MSE error after  1124  epoch =  0.03748469776945272\n",
            "Total MSE error after  1125  epoch =  0.0373640881238044\n",
            "Total MSE error after  1126  epoch =  0.037244137808440415\n",
            "Total MSE error after  1127  epoch =  0.03712484198578252\n",
            "Total MSE error after  1128  epoch =  0.03700619586114301\n",
            "Total MSE error after  1129  epoch =  0.036888194682296316\n",
            "Total MSE error after  1130  epoch =  0.03677083373905507\n",
            "Total MSE error after  1131  epoch =  0.036654108362850664\n",
            "Total MSE error after  1132  epoch =  0.03653801392631825\n",
            "Total MSE error after  1133  epoch =  0.03642254584288616\n",
            "Total MSE error after  1134  epoch =  0.03630769956636953\n",
            "Total MSE error after  1135  epoch =  0.03619347059056823\n",
            "Total MSE error after  1136  epoch =  0.03607985444886901\n",
            "Total MSE error after  1137  epoch =  0.03596684671385211\n",
            "Total MSE error after  1138  epoch =  0.03585444299690146\n",
            "Total MSE error after  1139  epoch =  0.03574263894781985\n",
            "Total MSE error after  1140  epoch =  0.03563143025444693\n",
            "Total MSE error after  1141  epoch =  0.03552081264228257\n",
            "Total MSE error after  1142  epoch =  0.035410781874113596\n",
            "Total MSE error after  1143  epoch =  0.03530133374964374\n",
            "Total MSE error after  1144  epoch =  0.035192464105129405\n",
            "Total MSE error after  1145  epoch =  0.03508416881301692\n",
            "Total MSE error after  1146  epoch =  0.0349764437815856\n",
            "Total MSE error after  1147  epoch =  0.03486928495459363\n",
            "Total MSE error after  1148  epoch =  0.034762688310927534\n",
            "Total MSE error after  1149  epoch =  0.03465664986425628\n",
            "Total MSE error after  1150  epoch =  0.03455116566268787\n",
            "Total MSE error after  1151  epoch =  0.03444623178843054\n",
            "Total MSE error after  1152  epoch =  0.03434184435745705\n",
            "Total MSE error after  1153  epoch =  0.03423799951917258\n",
            "Total MSE error after  1154  epoch =  0.03413469345608601\n",
            "Total MSE error after  1155  epoch =  0.034031922383485416\n",
            "Total MSE error after  1156  epoch =  0.03392968254911591\n",
            "Total MSE error after  1157  epoch =  0.03382797023286167\n",
            "Total MSE error after  1158  epoch =  0.03372678174643102\n",
            "Total MSE error after  1159  epoch =  0.03362611343304526\n",
            "Total MSE error after  1160  epoch =  0.03352596166712967\n",
            "Total MSE error after  1161  epoch =  0.033426322854009496\n",
            "Total MSE error after  1162  epoch =  0.03332719342960751\n",
            "Total MSE error after  1163  epoch =  0.033228569860146\n",
            "Total MSE error after  1164  epoch =  0.03313044864185099\n",
            "Total MSE error after  1165  epoch =  0.03303282630066039\n",
            "Total MSE error after  1166  epoch =  0.03293569939193443\n",
            "Total MSE error after  1167  epoch =  0.03283906450016986\n",
            "Total MSE error after  1168  epoch =  0.032742918238716945\n",
            "Total MSE error after  1169  epoch =  0.03264725724949906\n",
            "Total MSE error after  1170  epoch =  0.03255207820273588\n",
            "Total MSE error after  1171  epoch =  0.03245737779666905\n",
            "Total MSE error after  1172  epoch =  0.0323631527572911\n",
            "Total MSE error after  1173  epoch =  0.032269399838076626\n",
            "Total MSE error after  1174  epoch =  0.032176115819717174\n",
            "Total MSE error after  1175  epoch =  0.0320832975098581\n",
            "Total MSE error after  1176  epoch =  0.03199094174283876\n",
            "Total MSE error after  1177  epoch =  0.03189904537943511\n",
            "Total MSE error after  1178  epoch =  0.03180760530660551\n",
            "Total MSE error after  1179  epoch =  0.03171661843723815\n",
            "Total MSE error after  1180  epoch =  0.031626081709902665\n",
            "Total MSE error after  1181  epoch =  0.031535992088602784\n",
            "Total MSE error after  1182  epoch =  0.031446346562533145\n",
            "Total MSE error after  1183  epoch =  0.031357142145837034\n",
            "Total MSE error after  1184  epoch =  0.03126837587736819\n",
            "Total MSE error after  1185  epoch =  0.03118004482045411\n",
            "Total MSE error after  1186  epoch =  0.031092146062662036\n",
            "Total MSE error after  1187  epoch =  0.03100467671556809\n",
            "Total MSE error after  1188  epoch =  0.030917633914527405\n",
            "Total MSE error after  1189  epoch =  0.030831014818448584\n",
            "Total MSE error after  1190  epoch =  0.030744816609568616\n",
            "Total MSE error after  1191  epoch =  0.030659036493231373\n",
            "Total MSE error after  1192  epoch =  0.030573671697668302\n",
            "Total MSE error after  1193  epoch =  0.03048871947378068\n",
            "Total MSE error after  1194  epoch =  0.030404177094925093\n",
            "Total MSE error after  1195  epoch =  0.030320041856700675\n",
            "Total MSE error after  1196  epoch =  0.030236311076738395\n",
            "Total MSE error after  1197  epoch =  0.030152982094492874\n",
            "Total MSE error after  1198  epoch =  0.03007005227103664\n",
            "Total MSE error after  1199  epoch =  0.029987518988855585\n"
          ]
        }
      ]
    },
    {
      "cell_type": "code",
      "source": [
        "print (\"Prediction result\\n---------------------------------\")\n",
        "print(\"1 XOR 1 = \", XOR_net.predict(np.array([1,1])))\n",
        "print(\"1 XOR 0 = \",XOR_net.predict(np.array([1,0])))\n",
        "print(\"0 XOR 1 = \", XOR_net.predict(np.array([0,1])))\n",
        "print(\"0 XOR 0 = \", XOR_net.predict(np.array([0,0])))"
      ],
      "metadata": {
        "colab": {
          "base_uri": "https://localhost:8080/"
        },
        "id": "L4nCF9-u1Gm7",
        "outputId": "26f93cd1-1b70-48ed-8c16-1f55cd17d7cb"
      },
      "execution_count": null,
      "outputs": [
        {
          "output_type": "stream",
          "name": "stdout",
          "text": [
            "Prediction result\n",
            "---------------------------------\n",
            "1 XOR 1 =  0\n",
            "1 XOR 0 =  1\n",
            "0 XOR 1 =  1\n",
            "0 XOR 0 =  0\n"
          ]
        }
      ]
    },
    {
      "cell_type": "markdown",
      "source": [
        "We observe that our neural was able to predict the XOR results successfully.\n",
        "\n",
        "Please note that I considered Relu activation function instead of Sigmoid. However since our feature values can only be 0 and 1, Relu function is not expected to give us the desired non-linearity we are looking for. I verified this by running a draft model with Relu, which gave inferior performance compared to Sigmoid."
      ],
      "metadata": {
        "id": "DqZiXhYC1awE"
      }
    },
    {
      "cell_type": "code",
      "source": [],
      "metadata": {
        "id": "BOJzJjy1YvGD"
      },
      "execution_count": null,
      "outputs": []
    }
  ]
}